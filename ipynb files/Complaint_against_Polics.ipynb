{
 "cells": [
  {
   "cell_type": "markdown",
   "id": "daf094af",
   "metadata": {},
   "source": [
    "# Complaint Against Polics"
   ]
  },
  {
   "cell_type": "code",
   "execution_count": 23,
   "id": "eb0eb355",
   "metadata": {},
   "outputs": [
    {
     "data": {
      "text/html": [
       "        <script type=\"text/javascript\">\n",
       "        window.PlotlyConfig = {MathJaxConfig: 'local'};\n",
       "        if (window.MathJax && window.MathJax.Hub && window.MathJax.Hub.Config) {window.MathJax.Hub.Config({SVG: {font: \"STIX-Web\"}});}\n",
       "        if (typeof require !== 'undefined') {\n",
       "        require.undef(\"plotly\");\n",
       "        requirejs.config({\n",
       "            paths: {\n",
       "                'plotly': ['https://cdn.plot.ly/plotly-2.18.2.min']\n",
       "            }\n",
       "        });\n",
       "        require(['plotly'], function(Plotly) {\n",
       "            window._Plotly = Plotly;\n",
       "        });\n",
       "        }\n",
       "        </script>\n",
       "        "
      ]
     },
     "metadata": {},
     "output_type": "display_data"
    },
    {
     "name": "stdout",
     "output_type": "stream",
     "text": [
      "E:\\IIT_Guwhati\\Semester_02\\CS_595_Data_visualization_lab\\Project\\Crime\\Auto_theft.csv\n",
      "E:\\IIT_Guwhati\\Semester_02\\CS_595_Data_visualization_lab\\Project\\Crime\\Complaints_against_police.csv\n",
      "E:\\IIT_Guwhati\\Semester_02\\CS_595_Data_visualization_lab\\Project\\Crime\\Murders.csv\n",
      "E:\\IIT_Guwhati\\Semester_02\\CS_595_Data_visualization_lab\\Project\\Crime\\Property_stolen_and_recovered.csv\n",
      "E:\\IIT_Guwhati\\Semester_02\\CS_595_Data_visualization_lab\\Project\\Crime\\Rape_Victims.csv\n",
      "E:\\IIT_Guwhati\\Semester_02\\CS_595_Data_visualization_lab\\Project\\Crime\\Murged_data\\output1.csv\n",
      "E:\\IIT_Guwhati\\Semester_02\\CS_595_Data_visualization_lab\\Project\\Crime\\Murged_data\\output2.csv\n"
     ]
    }
   ],
   "source": [
    "import numpy as np \n",
    "import pandas as pd\n",
    "import matplotlib.pyplot as plt\n",
    "%matplotlib inline\n",
    "import matplotlib\n",
    "from matplotlib import cm\n",
    "import seaborn as sns\n",
    "from plotly.offline import download_plotlyjs, init_notebook_mode, plot, iplot\n",
    "init_notebook_mode(connected=True)    \n",
    "import plotly.graph_objects as go\n",
    "\n",
    "from IPython.display import HTML,display\n",
    "import warnings\n",
    "warnings.filterwarnings(\"ignore\")\n",
    "\n",
    "import os\n",
    "for dirname, _, filenames in os.walk('E:\\IIT_Guwhati\\Semester_02\\CS_595_Data_visualization_lab\\Project\\Crime'):\n",
    "    for filename in filenames:\n",
    "        print(os.path.join(dirname, filename))\n"
   ]
  },
  {
   "cell_type": "code",
   "execution_count": 24,
   "id": "1aa69617",
   "metadata": {},
   "outputs": [
    {
     "data": {
      "text/html": [
       "<div>\n",
       "<style scoped>\n",
       "    .dataframe tbody tr th:only-of-type {\n",
       "        vertical-align: middle;\n",
       "    }\n",
       "\n",
       "    .dataframe tbody tr th {\n",
       "        vertical-align: top;\n",
       "    }\n",
       "\n",
       "    .dataframe thead th {\n",
       "        text-align: right;\n",
       "    }\n",
       "</style>\n",
       "<table border=\"1\" class=\"dataframe\">\n",
       "  <thead>\n",
       "    <tr style=\"text-align: right;\">\n",
       "      <th></th>\n",
       "      <th>Area_Name</th>\n",
       "      <th>Year</th>\n",
       "      <th>Sub_group</th>\n",
       "      <th>CPA_Cases_Registered</th>\n",
       "      <th>CPA_Cases_Reported_for_Dept._Action</th>\n",
       "      <th>CPA_Complaints/Cases_Declared_False/Unsubstantiated</th>\n",
       "      <th>CPA_Complaints_Received/Alleged</th>\n",
       "      <th>CPA_No_of_Departmental_Enquiries</th>\n",
       "      <th>CPA_No_of_Magisterial_Enquiries</th>\n",
       "      <th>CPA_Cases_Sent_for_Trials/Charge-sheeted</th>\n",
       "      <th>...</th>\n",
       "      <th>CPB_Police_Personnel_Convicted</th>\n",
       "      <th>CPB_Police_Personnel_sent_up_for_Trial</th>\n",
       "      <th>CPB_Police_Personnel_Trial_Completed</th>\n",
       "      <th>CPB_Police_Personnel_Cases_Withdrawn_or_Otherwise_disposed_of</th>\n",
       "      <th>CPC_Police_personnel_Cases_Trial_Completed</th>\n",
       "      <th>CPC_Police_Personnel_Cases_Withdrawn_or_Otherwise_disposed_of</th>\n",
       "      <th>CPC_Police_Personnel_Disciplinary_Action_Initiated</th>\n",
       "      <th>CPC_Police_Personnel_Dismissal/Removal_from_Service</th>\n",
       "      <th>CPC_Police_Personnel_Major_Punishment_awarded</th>\n",
       "      <th>CPC_Police_Personnel_Minor_Punishment_awarded</th>\n",
       "    </tr>\n",
       "  </thead>\n",
       "  <tbody>\n",
       "    <tr>\n",
       "      <th>0</th>\n",
       "      <td>Andaman &amp; Nicobar Islands</td>\n",
       "      <td>2001</td>\n",
       "      <td>Complaints Against Police Personnel</td>\n",
       "      <td>10</td>\n",
       "      <td>4</td>\n",
       "      <td>0</td>\n",
       "      <td>10</td>\n",
       "      <td>4</td>\n",
       "      <td>0</td>\n",
       "      <td>5</td>\n",
       "      <td>...</td>\n",
       "      <td>0</td>\n",
       "      <td>5</td>\n",
       "      <td>1</td>\n",
       "      <td>0</td>\n",
       "      <td>6</td>\n",
       "      <td>25</td>\n",
       "      <td>73</td>\n",
       "      <td>2</td>\n",
       "      <td>11</td>\n",
       "      <td>20</td>\n",
       "    </tr>\n",
       "    <tr>\n",
       "      <th>1</th>\n",
       "      <td>Andhra Pradesh</td>\n",
       "      <td>2001</td>\n",
       "      <td>Complaints Against Police Personnel</td>\n",
       "      <td>3078</td>\n",
       "      <td>72</td>\n",
       "      <td>109</td>\n",
       "      <td>3229</td>\n",
       "      <td>160</td>\n",
       "      <td>2969</td>\n",
       "      <td>3039</td>\n",
       "      <td>...</td>\n",
       "      <td>3</td>\n",
       "      <td>92</td>\n",
       "      <td>15</td>\n",
       "      <td>16</td>\n",
       "      <td>23</td>\n",
       "      <td>476</td>\n",
       "      <td>1506</td>\n",
       "      <td>47</td>\n",
       "      <td>248</td>\n",
       "      <td>1085</td>\n",
       "    </tr>\n",
       "    <tr>\n",
       "      <th>2</th>\n",
       "      <td>Arunachal Pradesh</td>\n",
       "      <td>2001</td>\n",
       "      <td>Complaints Against Police Personnel</td>\n",
       "      <td>24</td>\n",
       "      <td>39</td>\n",
       "      <td>5</td>\n",
       "      <td>54</td>\n",
       "      <td>44</td>\n",
       "      <td>0</td>\n",
       "      <td>17</td>\n",
       "      <td>...</td>\n",
       "      <td>0</td>\n",
       "      <td>17</td>\n",
       "      <td>0</td>\n",
       "      <td>1</td>\n",
       "      <td>8</td>\n",
       "      <td>43</td>\n",
       "      <td>107</td>\n",
       "      <td>4</td>\n",
       "      <td>17</td>\n",
       "      <td>15</td>\n",
       "    </tr>\n",
       "    <tr>\n",
       "      <th>3</th>\n",
       "      <td>Assam</td>\n",
       "      <td>2001</td>\n",
       "      <td>Complaints Against Police Personnel</td>\n",
       "      <td>17</td>\n",
       "      <td>3</td>\n",
       "      <td>1</td>\n",
       "      <td>52</td>\n",
       "      <td>52</td>\n",
       "      <td>3</td>\n",
       "      <td>9</td>\n",
       "      <td>...</td>\n",
       "      <td>0</td>\n",
       "      <td>7</td>\n",
       "      <td>1</td>\n",
       "      <td>1</td>\n",
       "      <td>0</td>\n",
       "      <td>7</td>\n",
       "      <td>144</td>\n",
       "      <td>5</td>\n",
       "      <td>61</td>\n",
       "      <td>102</td>\n",
       "    </tr>\n",
       "    <tr>\n",
       "      <th>4</th>\n",
       "      <td>Bihar</td>\n",
       "      <td>2001</td>\n",
       "      <td>Complaints Against Police Personnel</td>\n",
       "      <td>1</td>\n",
       "      <td>1</td>\n",
       "      <td>12</td>\n",
       "      <td>125</td>\n",
       "      <td>3</td>\n",
       "      <td>15</td>\n",
       "      <td>18</td>\n",
       "      <td>...</td>\n",
       "      <td>0</td>\n",
       "      <td>81</td>\n",
       "      <td>0</td>\n",
       "      <td>6</td>\n",
       "      <td>537</td>\n",
       "      <td>141</td>\n",
       "      <td>1385</td>\n",
       "      <td>33</td>\n",
       "      <td>470</td>\n",
       "      <td>1557</td>\n",
       "    </tr>\n",
       "    <tr>\n",
       "      <th>...</th>\n",
       "      <td>...</td>\n",
       "      <td>...</td>\n",
       "      <td>...</td>\n",
       "      <td>...</td>\n",
       "      <td>...</td>\n",
       "      <td>...</td>\n",
       "      <td>...</td>\n",
       "      <td>...</td>\n",
       "      <td>...</td>\n",
       "      <td>...</td>\n",
       "      <td>...</td>\n",
       "      <td>...</td>\n",
       "      <td>...</td>\n",
       "      <td>...</td>\n",
       "      <td>...</td>\n",
       "      <td>...</td>\n",
       "      <td>...</td>\n",
       "      <td>...</td>\n",
       "      <td>...</td>\n",
       "      <td>...</td>\n",
       "      <td>...</td>\n",
       "    </tr>\n",
       "    <tr>\n",
       "      <th>345</th>\n",
       "      <td>Tamil Nadu</td>\n",
       "      <td>2010</td>\n",
       "      <td>Complaints Against Police Personnel</td>\n",
       "      <td>107</td>\n",
       "      <td>67</td>\n",
       "      <td>15</td>\n",
       "      <td>366</td>\n",
       "      <td>282</td>\n",
       "      <td>62</td>\n",
       "      <td>80</td>\n",
       "      <td>...</td>\n",
       "      <td>0</td>\n",
       "      <td>81</td>\n",
       "      <td>18</td>\n",
       "      <td>6</td>\n",
       "      <td>550</td>\n",
       "      <td>295</td>\n",
       "      <td>1620</td>\n",
       "      <td>32</td>\n",
       "      <td>457</td>\n",
       "      <td>642</td>\n",
       "    </tr>\n",
       "    <tr>\n",
       "      <th>346</th>\n",
       "      <td>Tripura</td>\n",
       "      <td>2010</td>\n",
       "      <td>Complaints Against Police Personnel</td>\n",
       "      <td>28</td>\n",
       "      <td>7</td>\n",
       "      <td>5</td>\n",
       "      <td>34</td>\n",
       "      <td>9</td>\n",
       "      <td>0</td>\n",
       "      <td>16</td>\n",
       "      <td>...</td>\n",
       "      <td>0</td>\n",
       "      <td>20</td>\n",
       "      <td>1</td>\n",
       "      <td>2</td>\n",
       "      <td>9</td>\n",
       "      <td>37</td>\n",
       "      <td>90</td>\n",
       "      <td>13</td>\n",
       "      <td>17</td>\n",
       "      <td>18</td>\n",
       "    </tr>\n",
       "    <tr>\n",
       "      <th>347</th>\n",
       "      <td>Uttar Pradesh</td>\n",
       "      <td>2010</td>\n",
       "      <td>Complaints Against Police Personnel</td>\n",
       "      <td>8701</td>\n",
       "      <td>8326</td>\n",
       "      <td>3418</td>\n",
       "      <td>12119</td>\n",
       "      <td>8693</td>\n",
       "      <td>8</td>\n",
       "      <td>45</td>\n",
       "      <td>...</td>\n",
       "      <td>0</td>\n",
       "      <td>95</td>\n",
       "      <td>7</td>\n",
       "      <td>1</td>\n",
       "      <td>8158</td>\n",
       "      <td>492</td>\n",
       "      <td>8650</td>\n",
       "      <td>171</td>\n",
       "      <td>1025</td>\n",
       "      <td>6962</td>\n",
       "    </tr>\n",
       "    <tr>\n",
       "      <th>348</th>\n",
       "      <td>Uttarakhand</td>\n",
       "      <td>2010</td>\n",
       "      <td>Complaints Against Police Personnel</td>\n",
       "      <td>15</td>\n",
       "      <td>71</td>\n",
       "      <td>596</td>\n",
       "      <td>682</td>\n",
       "      <td>682</td>\n",
       "      <td>0</td>\n",
       "      <td>7</td>\n",
       "      <td>...</td>\n",
       "      <td>0</td>\n",
       "      <td>7</td>\n",
       "      <td>0</td>\n",
       "      <td>0</td>\n",
       "      <td>276</td>\n",
       "      <td>59</td>\n",
       "      <td>358</td>\n",
       "      <td>9</td>\n",
       "      <td>20</td>\n",
       "      <td>247</td>\n",
       "    </tr>\n",
       "    <tr>\n",
       "      <th>349</th>\n",
       "      <td>West Bengal</td>\n",
       "      <td>2010</td>\n",
       "      <td>Complaints Against Police Personnel</td>\n",
       "      <td>5</td>\n",
       "      <td>27</td>\n",
       "      <td>0</td>\n",
       "      <td>33</td>\n",
       "      <td>32</td>\n",
       "      <td>0</td>\n",
       "      <td>5</td>\n",
       "      <td>...</td>\n",
       "      <td>0</td>\n",
       "      <td>5</td>\n",
       "      <td>0</td>\n",
       "      <td>0</td>\n",
       "      <td>32</td>\n",
       "      <td>11</td>\n",
       "      <td>214</td>\n",
       "      <td>0</td>\n",
       "      <td>99</td>\n",
       "      <td>382</td>\n",
       "    </tr>\n",
       "  </tbody>\n",
       "</table>\n",
       "<p>350 rows × 22 columns</p>\n",
       "</div>"
      ],
      "text/plain": [
       "                     Area_Name  Year                            Sub_group  \\\n",
       "0    Andaman & Nicobar Islands  2001  Complaints Against Police Personnel   \n",
       "1               Andhra Pradesh  2001  Complaints Against Police Personnel   \n",
       "2            Arunachal Pradesh  2001  Complaints Against Police Personnel   \n",
       "3                        Assam  2001  Complaints Against Police Personnel   \n",
       "4                        Bihar  2001  Complaints Against Police Personnel   \n",
       "..                         ...   ...                                  ...   \n",
       "345                 Tamil Nadu  2010  Complaints Against Police Personnel   \n",
       "346                    Tripura  2010  Complaints Against Police Personnel   \n",
       "347              Uttar Pradesh  2010  Complaints Against Police Personnel   \n",
       "348                Uttarakhand  2010  Complaints Against Police Personnel   \n",
       "349                West Bengal  2010  Complaints Against Police Personnel   \n",
       "\n",
       "     CPA_Cases_Registered  CPA_Cases_Reported_for_Dept._Action  \\\n",
       "0                      10                                    4   \n",
       "1                    3078                                   72   \n",
       "2                      24                                   39   \n",
       "3                      17                                    3   \n",
       "4                       1                                    1   \n",
       "..                    ...                                  ...   \n",
       "345                   107                                   67   \n",
       "346                    28                                    7   \n",
       "347                  8701                                 8326   \n",
       "348                    15                                   71   \n",
       "349                     5                                   27   \n",
       "\n",
       "     CPA_Complaints/Cases_Declared_False/Unsubstantiated  \\\n",
       "0                                                    0     \n",
       "1                                                  109     \n",
       "2                                                    5     \n",
       "3                                                    1     \n",
       "4                                                   12     \n",
       "..                                                 ...     \n",
       "345                                                 15     \n",
       "346                                                  5     \n",
       "347                                               3418     \n",
       "348                                                596     \n",
       "349                                                  0     \n",
       "\n",
       "     CPA_Complaints_Received/Alleged  CPA_No_of_Departmental_Enquiries  \\\n",
       "0                                 10                                 4   \n",
       "1                               3229                               160   \n",
       "2                                 54                                44   \n",
       "3                                 52                                52   \n",
       "4                                125                                 3   \n",
       "..                               ...                               ...   \n",
       "345                              366                               282   \n",
       "346                               34                                 9   \n",
       "347                            12119                              8693   \n",
       "348                              682                               682   \n",
       "349                               33                                32   \n",
       "\n",
       "     CPA_No_of_Magisterial_Enquiries  \\\n",
       "0                                  0   \n",
       "1                               2969   \n",
       "2                                  0   \n",
       "3                                  3   \n",
       "4                                 15   \n",
       "..                               ...   \n",
       "345                               62   \n",
       "346                                0   \n",
       "347                                8   \n",
       "348                                0   \n",
       "349                                0   \n",
       "\n",
       "     CPA_Cases_Sent_for_Trials/Charge-sheeted  ...  \\\n",
       "0                                           5  ...   \n",
       "1                                        3039  ...   \n",
       "2                                          17  ...   \n",
       "3                                           9  ...   \n",
       "4                                          18  ...   \n",
       "..                                        ...  ...   \n",
       "345                                        80  ...   \n",
       "346                                        16  ...   \n",
       "347                                        45  ...   \n",
       "348                                         7  ...   \n",
       "349                                         5  ...   \n",
       "\n",
       "     CPB_Police_Personnel_Convicted  CPB_Police_Personnel_sent_up_for_Trial  \\\n",
       "0                                 0                                       5   \n",
       "1                                 3                                      92   \n",
       "2                                 0                                      17   \n",
       "3                                 0                                       7   \n",
       "4                                 0                                      81   \n",
       "..                              ...                                     ...   \n",
       "345                               0                                      81   \n",
       "346                               0                                      20   \n",
       "347                               0                                      95   \n",
       "348                               0                                       7   \n",
       "349                               0                                       5   \n",
       "\n",
       "     CPB_Police_Personnel_Trial_Completed  \\\n",
       "0                                       1   \n",
       "1                                      15   \n",
       "2                                       0   \n",
       "3                                       1   \n",
       "4                                       0   \n",
       "..                                    ...   \n",
       "345                                    18   \n",
       "346                                     1   \n",
       "347                                     7   \n",
       "348                                     0   \n",
       "349                                     0   \n",
       "\n",
       "     CPB_Police_Personnel_Cases_Withdrawn_or_Otherwise_disposed_of  \\\n",
       "0                                                    0               \n",
       "1                                                   16               \n",
       "2                                                    1               \n",
       "3                                                    1               \n",
       "4                                                    6               \n",
       "..                                                 ...               \n",
       "345                                                  6               \n",
       "346                                                  2               \n",
       "347                                                  1               \n",
       "348                                                  0               \n",
       "349                                                  0               \n",
       "\n",
       "     CPC_Police_personnel_Cases_Trial_Completed  \\\n",
       "0                                             6   \n",
       "1                                            23   \n",
       "2                                             8   \n",
       "3                                             0   \n",
       "4                                           537   \n",
       "..                                          ...   \n",
       "345                                         550   \n",
       "346                                           9   \n",
       "347                                        8158   \n",
       "348                                         276   \n",
       "349                                          32   \n",
       "\n",
       "     CPC_Police_Personnel_Cases_Withdrawn_or_Otherwise_disposed_of  \\\n",
       "0                                                   25               \n",
       "1                                                  476               \n",
       "2                                                   43               \n",
       "3                                                    7               \n",
       "4                                                  141               \n",
       "..                                                 ...               \n",
       "345                                                295               \n",
       "346                                                 37               \n",
       "347                                                492               \n",
       "348                                                 59               \n",
       "349                                                 11               \n",
       "\n",
       "     CPC_Police_Personnel_Disciplinary_Action_Initiated  \\\n",
       "0                                                   73    \n",
       "1                                                 1506    \n",
       "2                                                  107    \n",
       "3                                                  144    \n",
       "4                                                 1385    \n",
       "..                                                 ...    \n",
       "345                                               1620    \n",
       "346                                                 90    \n",
       "347                                               8650    \n",
       "348                                                358    \n",
       "349                                                214    \n",
       "\n",
       "     CPC_Police_Personnel_Dismissal/Removal_from_Service  \\\n",
       "0                                                    2     \n",
       "1                                                   47     \n",
       "2                                                    4     \n",
       "3                                                    5     \n",
       "4                                                   33     \n",
       "..                                                 ...     \n",
       "345                                                 32     \n",
       "346                                                 13     \n",
       "347                                                171     \n",
       "348                                                  9     \n",
       "349                                                  0     \n",
       "\n",
       "     CPC_Police_Personnel_Major_Punishment_awarded  \\\n",
       "0                                               11   \n",
       "1                                              248   \n",
       "2                                               17   \n",
       "3                                               61   \n",
       "4                                              470   \n",
       "..                                             ...   \n",
       "345                                            457   \n",
       "346                                             17   \n",
       "347                                           1025   \n",
       "348                                             20   \n",
       "349                                             99   \n",
       "\n",
       "     CPC_Police_Personnel_Minor_Punishment_awarded  \n",
       "0                                               20  \n",
       "1                                             1085  \n",
       "2                                               15  \n",
       "3                                              102  \n",
       "4                                             1557  \n",
       "..                                             ...  \n",
       "345                                            642  \n",
       "346                                             18  \n",
       "347                                           6962  \n",
       "348                                            247  \n",
       "349                                            382  \n",
       "\n",
       "[350 rows x 22 columns]"
      ]
     },
     "execution_count": 24,
     "metadata": {},
     "output_type": "execute_result"
    }
   ],
   "source": [
    "df = pd.read_csv(r'E:\\IIT_Guwhati\\Semester_02\\CS_595_Data_visualization_lab\\Project\\Crime\\Complaints_against_police.csv')\n",
    "df"
   ]
  },
  {
   "cell_type": "code",
   "execution_count": 25,
   "id": "097d6807",
   "metadata": {},
   "outputs": [
    {
     "data": {
      "image/png": "[encoded data removed]",
      "text/plain": [
       "<Figure size 1152x1800 with 19 Axes>"
      ]
     },
     "metadata": {
      "needs_background": "light"
     },
     "output_type": "display_data"
    }
   ],
   "source": [
    "import pandas as pd\n",
    "import matplotlib.pyplot as plt\n",
    "# Group the data by year and calculate the mean of each numerical column\n",
    "grouped = df.groupby('Year').mean()\n",
    "\n",
    "# Plot each numerical column in the same plot\n",
    "grouped.plot(kind='line', subplots=True, figsize=(16, 25))\n",
    "\n",
    "# Set the plot title and labels\n",
    "plt.suptitle('Numerical data by year')\n",
    "plt.xlabel('Year')\n",
    "plt.ylabel('Value')\n",
    "\n",
    "# Show the plot\n",
    "plt.show()"
   ]
  },
  {
   "cell_type": "code",
   "execution_count": 26,
   "id": "3543900b",
   "metadata": {},
   "outputs": [
    {
     "data": {
      "text/html": [
       "<div>\n",
       "<style scoped>\n",
       "    .dataframe tbody tr th:only-of-type {\n",
       "        vertical-align: middle;\n",
       "    }\n",
       "\n",
       "    .dataframe tbody tr th {\n",
       "        vertical-align: top;\n",
       "    }\n",
       "\n",
       "    .dataframe thead th {\n",
       "        text-align: right;\n",
       "    }\n",
       "</style>\n",
       "<table border=\"1\" class=\"dataframe\">\n",
       "  <thead>\n",
       "    <tr style=\"text-align: right;\">\n",
       "      <th></th>\n",
       "      <th>Area_Name</th>\n",
       "      <th>CPA_Cases_Registered</th>\n",
       "    </tr>\n",
       "  </thead>\n",
       "  <tbody>\n",
       "    <tr>\n",
       "      <th>0</th>\n",
       "      <td>Andaman &amp; Nicobar Islands</td>\n",
       "      <td>154</td>\n",
       "    </tr>\n",
       "    <tr>\n",
       "      <th>1</th>\n",
       "      <td>Andhra Pradesh</td>\n",
       "      <td>16327</td>\n",
       "    </tr>\n",
       "    <tr>\n",
       "      <th>2</th>\n",
       "      <td>Arunachal Pradesh</td>\n",
       "      <td>119</td>\n",
       "    </tr>\n",
       "    <tr>\n",
       "      <th>3</th>\n",
       "      <td>Assam</td>\n",
       "      <td>150</td>\n",
       "    </tr>\n",
       "    <tr>\n",
       "      <th>4</th>\n",
       "      <td>Bihar</td>\n",
       "      <td>310</td>\n",
       "    </tr>\n",
       "    <tr>\n",
       "      <th>5</th>\n",
       "      <td>Chandigarh</td>\n",
       "      <td>21</td>\n",
       "    </tr>\n",
       "    <tr>\n",
       "      <th>6</th>\n",
       "      <td>Chhattisgarh</td>\n",
       "      <td>797</td>\n",
       "    </tr>\n",
       "    <tr>\n",
       "      <th>7</th>\n",
       "      <td>Dadra &amp; Nagar Haveli</td>\n",
       "      <td>2</td>\n",
       "    </tr>\n",
       "    <tr>\n",
       "      <th>8</th>\n",
       "      <td>Daman &amp; Diu</td>\n",
       "      <td>0</td>\n",
       "    </tr>\n",
       "    <tr>\n",
       "      <th>9</th>\n",
       "      <td>Delhi</td>\n",
       "      <td>1013</td>\n",
       "    </tr>\n",
       "    <tr>\n",
       "      <th>10</th>\n",
       "      <td>Goa</td>\n",
       "      <td>50</td>\n",
       "    </tr>\n",
       "    <tr>\n",
       "      <th>11</th>\n",
       "      <td>Gujarat</td>\n",
       "      <td>2749</td>\n",
       "    </tr>\n",
       "    <tr>\n",
       "      <th>12</th>\n",
       "      <td>Haryana</td>\n",
       "      <td>457</td>\n",
       "    </tr>\n",
       "    <tr>\n",
       "      <th>13</th>\n",
       "      <td>Himachal Pradesh</td>\n",
       "      <td>2544</td>\n",
       "    </tr>\n",
       "    <tr>\n",
       "      <th>14</th>\n",
       "      <td>Jammu &amp; Kashmir</td>\n",
       "      <td>682</td>\n",
       "    </tr>\n",
       "    <tr>\n",
       "      <th>15</th>\n",
       "      <td>Jharkhand</td>\n",
       "      <td>11294</td>\n",
       "    </tr>\n",
       "    <tr>\n",
       "      <th>16</th>\n",
       "      <td>Karnataka</td>\n",
       "      <td>809</td>\n",
       "    </tr>\n",
       "    <tr>\n",
       "      <th>17</th>\n",
       "      <td>Kerala</td>\n",
       "      <td>1055</td>\n",
       "    </tr>\n",
       "    <tr>\n",
       "      <th>18</th>\n",
       "      <td>Lakshadweep</td>\n",
       "      <td>2</td>\n",
       "    </tr>\n",
       "    <tr>\n",
       "      <th>19</th>\n",
       "      <td>Madhya Pradesh</td>\n",
       "      <td>10747</td>\n",
       "    </tr>\n",
       "    <tr>\n",
       "      <th>20</th>\n",
       "      <td>Maharashtra</td>\n",
       "      <td>4001</td>\n",
       "    </tr>\n",
       "    <tr>\n",
       "      <th>21</th>\n",
       "      <td>Manipur</td>\n",
       "      <td>9</td>\n",
       "    </tr>\n",
       "    <tr>\n",
       "      <th>22</th>\n",
       "      <td>Meghalaya</td>\n",
       "      <td>59</td>\n",
       "    </tr>\n",
       "    <tr>\n",
       "      <th>23</th>\n",
       "      <td>Mizoram</td>\n",
       "      <td>41</td>\n",
       "    </tr>\n",
       "    <tr>\n",
       "      <th>24</th>\n",
       "      <td>Nagaland</td>\n",
       "      <td>126</td>\n",
       "    </tr>\n",
       "    <tr>\n",
       "      <th>25</th>\n",
       "      <td>Odisha</td>\n",
       "      <td>3135</td>\n",
       "    </tr>\n",
       "    <tr>\n",
       "      <th>26</th>\n",
       "      <td>Puducherry</td>\n",
       "      <td>32</td>\n",
       "    </tr>\n",
       "    <tr>\n",
       "      <th>27</th>\n",
       "      <td>Punjab</td>\n",
       "      <td>1523</td>\n",
       "    </tr>\n",
       "    <tr>\n",
       "      <th>28</th>\n",
       "      <td>Rajasthan</td>\n",
       "      <td>1216</td>\n",
       "    </tr>\n",
       "    <tr>\n",
       "      <th>29</th>\n",
       "      <td>Sikkim</td>\n",
       "      <td>138</td>\n",
       "    </tr>\n",
       "    <tr>\n",
       "      <th>30</th>\n",
       "      <td>Tamil Nadu</td>\n",
       "      <td>1328</td>\n",
       "    </tr>\n",
       "    <tr>\n",
       "      <th>31</th>\n",
       "      <td>Tripura</td>\n",
       "      <td>134</td>\n",
       "    </tr>\n",
       "    <tr>\n",
       "      <th>32</th>\n",
       "      <td>Uttar Pradesh</td>\n",
       "      <td>28622</td>\n",
       "    </tr>\n",
       "    <tr>\n",
       "      <th>33</th>\n",
       "      <td>Uttarakhand</td>\n",
       "      <td>168</td>\n",
       "    </tr>\n",
       "    <tr>\n",
       "      <th>34</th>\n",
       "      <td>West Bengal</td>\n",
       "      <td>299</td>\n",
       "    </tr>\n",
       "  </tbody>\n",
       "</table>\n",
       "</div>"
      ],
      "text/plain": [
       "                    Area_Name  CPA_Cases_Registered\n",
       "0   Andaman & Nicobar Islands                   154\n",
       "1              Andhra Pradesh                 16327\n",
       "2           Arunachal Pradesh                   119\n",
       "3                       Assam                   150\n",
       "4                       Bihar                   310\n",
       "5                  Chandigarh                    21\n",
       "6                Chhattisgarh                   797\n",
       "7        Dadra & Nagar Haveli                     2\n",
       "8                 Daman & Diu                     0\n",
       "9                       Delhi                  1013\n",
       "10                        Goa                    50\n",
       "11                    Gujarat                  2749\n",
       "12                    Haryana                   457\n",
       "13           Himachal Pradesh                  2544\n",
       "14            Jammu & Kashmir                   682\n",
       "15                  Jharkhand                 11294\n",
       "16                  Karnataka                   809\n",
       "17                     Kerala                  1055\n",
       "18                Lakshadweep                     2\n",
       "19             Madhya Pradesh                 10747\n",
       "20                Maharashtra                  4001\n",
       "21                    Manipur                     9\n",
       "22                  Meghalaya                    59\n",
       "23                    Mizoram                    41\n",
       "24                   Nagaland                   126\n",
       "25                     Odisha                  3135\n",
       "26                 Puducherry                    32\n",
       "27                     Punjab                  1523\n",
       "28                  Rajasthan                  1216\n",
       "29                     Sikkim                   138\n",
       "30                 Tamil Nadu                  1328\n",
       "31                    Tripura                   134\n",
       "32              Uttar Pradesh                 28622\n",
       "33                Uttarakhand                   168\n",
       "34                West Bengal                   299"
      ]
     },
     "execution_count": 26,
     "metadata": {},
     "output_type": "execute_result"
    }
   ],
   "source": [
    "a = df.groupby(['Area_Name'])['CPA_Cases_Registered'].sum().reset_index()\n",
    "a"
   ]
  },
  {
   "cell_type": "code",
   "execution_count": 27,
   "id": "dd9061c9",
   "metadata": {},
   "outputs": [
    {
     "data": {
      "application/vnd.plotly.v1+json": {
       "config": {
        "plotlyServerURL": "https://plot.ly"
       },
       "data": [
        {
         "alignmentgroup": "True",
         "hovertemplate": "Area_Name=%{x}<br>CPA_Cases_Registered=%{y}<extra></extra>",
         "legendgroup": "",
         "marker": {
          "color": "#636efa",
          "pattern": {
           "shape": ""
          }
         },
         "name": "",
         "offsetgroup": "",
         "orientation": "v",
         "showlegend": false,
         "textposition": "auto",
         "type": "bar",
         "x": [
          "Andaman & Nicobar Islands",
          "Andhra Pradesh",
          "Arunachal Pradesh",
          "Assam",
          "Bihar",
          "Chandigarh",
          "Chhattisgarh",
          "Dadra & Nagar Haveli",
          "Daman & Diu",
          "Delhi",
          "Goa",
          "Gujarat",
          "Haryana",
          "Himachal Pradesh",
          "Jammu & Kashmir",
          "Jharkhand",
          "Karnataka",
          "Kerala",
          "Lakshadweep",
          "Madhya Pradesh",
          "Maharashtra",
          "Manipur",
          "Meghalaya",
          "Mizoram",
          "Nagaland",
          "Odisha",
          "Puducherry",
          "Punjab",
          "Rajasthan",
          "Sikkim",
          "Tamil Nadu",
          "Tripura",
          "Uttar Pradesh",
          "Uttarakhand",
          "West Bengal"
         ],
         "xaxis": "x",
         "y": [
          154,
          16327,
          119,
          150,
          310,
          21,
          797,
          2,
          0,
          1013,
          50,
          2749,
          457,
          2544,
          682,
          11294,
          809,
          1055,
          2,
          10747,
          4001,
          9,
          59,
          41,
          126,
          3135,
          32,
          1523,
          1216,
          138,
          1328,
          134,
          28622,
          168,
          299
         ],
         "yaxis": "y"
        }
       ],
       "layout": {
        "barmode": "relative",
        "legend": {
         "tracegroupgap": 0
        },
        "margin": {
         "t": 60
        },
        "template": {
         "data": {
          "bar": [
           {
            "error_x": {
             "color": "#2a3f5f"
            },
            "error_y": {
             "color": "#2a3f5f"
            },
            "marker": {
             "line": {
              "color": "#E5ECF6",
              "width": 0.5
             },
             "pattern": {
              "fillmode": "overlay",
              "size": 10,
              "solidity": 0.2
             }
            },
            "type": "bar"
           }
          ],
          "barpolar": [
           {
            "marker": {
             "line": {
              "color": "#E5ECF6",
              "width": 0.5
             },
             "pattern": {
              "fillmode": "overlay",
              "size": 10,
              "solidity": 0.2
             }
            },
            "type": "barpolar"
           }
          ],
          "carpet": [
           {
            "aaxis": {
             "endlinecolor": "#2a3f5f",
             "gridcolor": "white",
             "linecolor": "white",
             "minorgridcolor": "white",
             "startlinecolor": "#2a3f5f"
            },
            "baxis": {
             "endlinecolor": "#2a3f5f",
             "gridcolor": "white",
             "linecolor": "white",
             "minorgridcolor": "white",
             "startlinecolor": "#2a3f5f"
            },
            "type": "carpet"
           }
          ],
          "choropleth": [
           {
            "colorbar": {
             "outlinewidth": 0,
             "ticks": ""
            },
            "type": "choropleth"
           }
          ],
          "contour": [
           {
            "colorbar": {
             "outlinewidth": 0,
             "ticks": ""
            },
            "colorscale": [
             [
              0,
              "#0d0887"
             ],
             [
              0.1111111111111111,
              "#46039f"
             ],
             [
              0.2222222222222222,
              "#7201a8"
             ],
             [
              0.3333333333333333,
              "#9c179e"
             ],
             [
              0.4444444444444444,
              "#bd3786"
             ],
             [
              0.5555555555555556,
              "#d8576b"
             ],
             [
              0.6666666666666666,
              "#ed7953"
             ],
             [
              0.7777777777777778,
              "#fb9f3a"
             ],
             [
              0.8888888888888888,
              "#fdca26"
             ],
             [
              1,
              "#f0f921"
             ]
            ],
            "type": "contour"
           }
          ],
          "contourcarpet": [
           {
            "colorbar": {
             "outlinewidth": 0,
             "ticks": ""
            },
            "type": "contourcarpet"
           }
          ],
          "heatmap": [
           {
            "colorbar": {
             "outlinewidth": 0,
             "ticks": ""
            },
            "colorscale": [
             [
              0,
              "#0d0887"
             ],
             [
              0.1111111111111111,
              "#46039f"
             ],
             [
              0.2222222222222222,
              "#7201a8"
             ],
             [
              0.3333333333333333,
              "#9c179e"
             ],
             [
              0.4444444444444444,
              "#bd3786"
             ],
             [
              0.5555555555555556,
              "#d8576b"
             ],
             [
              0.6666666666666666,
              "#ed7953"
             ],
             [
              0.7777777777777778,
              "#fb9f3a"
             ],
             [
              0.8888888888888888,
              "#fdca26"
             ],
             [
              1,
              "#f0f921"
             ]
            ],
            "type": "heatmap"
           }
          ],
          "heatmapgl": [
           {
            "colorbar": {
             "outlinewidth": 0,
             "ticks": ""
            },
            "colorscale": [
             [
              0,
              "#0d0887"
             ],
             [
              0.1111111111111111,
              "#46039f"
             ],
             [
              0.2222222222222222,
              "#7201a8"
             ],
             [
              0.3333333333333333,
              "#9c179e"
             ],
             [
              0.4444444444444444,
              "#bd3786"
             ],
             [
              0.5555555555555556,
              "#d8576b"
             ],
             [
              0.6666666666666666,
              "#ed7953"
             ],
             [
              0.7777777777777778,
              "#fb9f3a"
             ],
             [
              0.8888888888888888,
              "#fdca26"
             ],
             [
              1,
              "#f0f921"
             ]
            ],
            "type": "heatmapgl"
           }
          ],
          "histogram": [
           {
            "marker": {
             "pattern": {
              "fillmode": "overlay",
              "size": 10,
              "solidity": 0.2
             }
            },
            "type": "histogram"
           }
          ],
          "histogram2d": [
           {
            "colorbar": {
             "outlinewidth": 0,
             "ticks": ""
            },
            "colorscale": [
             [
              0,
              "#0d0887"
             ],
             [
              0.1111111111111111,
              "#46039f"
             ],
             [
              0.2222222222222222,
              "#7201a8"
             ],
             [
              0.3333333333333333,
              "#9c179e"
             ],
             [
              0.4444444444444444,
              "#bd3786"
             ],
             [
              0.5555555555555556,
              "#d8576b"
             ],
             [
              0.6666666666666666,
              "#ed7953"
             ],
             [
              0.7777777777777778,
              "#fb9f3a"
             ],
             [
              0.8888888888888888,
              "#fdca26"
             ],
             [
              1,
              "#f0f921"
             ]
            ],
            "type": "histogram2d"
           }
          ],
          "histogram2dcontour": [
           {
            "colorbar": {
             "outlinewidth": 0,
             "ticks": ""
            },
            "colorscale": [
             [
              0,
              "#0d0887"
             ],
             [
              0.1111111111111111,
              "#46039f"
             ],
             [
              0.2222222222222222,
              "#7201a8"
             ],
             [
              0.3333333333333333,
              "#9c179e"
             ],
             [
              0.4444444444444444,
              "#bd3786"
             ],
             [
              0.5555555555555556,
              "#d8576b"
             ],
             [
              0.6666666666666666,
              "#ed7953"
             ],
             [
              0.7777777777777778,
              "#fb9f3a"
             ],
             [
              0.8888888888888888,
              "#fdca26"
             ],
             [
              1,
              "#f0f921"
             ]
            ],
            "type": "histogram2dcontour"
           }
          ],
          "mesh3d": [
           {
            "colorbar": {
             "outlinewidth": 0,
             "ticks": ""
            },
            "type": "mesh3d"
           }
          ],
          "parcoords": [
           {
            "line": {
             "colorbar": {
              "outlinewidth": 0,
              "ticks": ""
             }
            },
            "type": "parcoords"
           }
          ],
          "pie": [
           {
            "automargin": true,
            "type": "pie"
           }
          ],
          "scatter": [
           {
            "fillpattern": {
             "fillmode": "overlay",
             "size": 10,
             "solidity": 0.2
            },
            "type": "scatter"
           }
          ],
          "scatter3d": [
           {
            "line": {
             "colorbar": {
              "outlinewidth": 0,
              "ticks": ""
             }
            },
            "marker": {
             "colorbar": {
              "outlinewidth": 0,
              "ticks": ""
             }
            },
            "type": "scatter3d"
           }
          ],
          "scattercarpet": [
           {
            "marker": {
             "colorbar": {
              "outlinewidth": 0,
              "ticks": ""
             }
            },
            "type": "scattercarpet"
           }
          ],
          "scattergeo": [
           {
            "marker": {
             "colorbar": {
              "outlinewidth": 0,
              "ticks": ""
             }
            },
            "type": "scattergeo"
           }
          ],
          "scattergl": [
           {
            "marker": {
             "colorbar": {
              "outlinewidth": 0,
              "ticks": ""
             }
            },
            "type": "scattergl"
           }
          ],
          "scattermapbox": [
           {
            "marker": {
             "colorbar": {
              "outlinewidth": 0,
              "ticks": ""
             }
            },
            "type": "scattermapbox"
           }
          ],
          "scatterpolar": [
           {
            "marker": {
             "colorbar": {
              "outlinewidth": 0,
              "ticks": ""
             }
            },
            "type": "scatterpolar"
           }
          ],
          "scatterpolargl": [
           {
            "marker": {
             "colorbar": {
              "outlinewidth": 0,
              "ticks": ""
             }
            },
            "type": "scatterpolargl"
           }
          ],
          "scatterternary": [
           {
            "marker": {
             "colorbar": {
              "outlinewidth": 0,
              "ticks": ""
             }
            },
            "type": "scatterternary"
           }
          ],
          "surface": [
           {
            "colorbar": {
             "outlinewidth": 0,
             "ticks": ""
            },
            "colorscale": [
             [
              0,
              "#0d0887"
             ],
             [
              0.1111111111111111,
              "#46039f"
             ],
             [
              0.2222222222222222,
              "#7201a8"
             ],
             [
              0.3333333333333333,
              "#9c179e"
             ],
             [
              0.4444444444444444,
              "#bd3786"
             ],
             [
              0.5555555555555556,
              "#d8576b"
             ],
             [
              0.6666666666666666,
              "#ed7953"
             ],
             [
              0.7777777777777778,
              "#fb9f3a"
             ],
             [
              0.8888888888888888,
              "#fdca26"
             ],
             [
              1,
              "#f0f921"
             ]
            ],
            "type": "surface"
           }
          ],
          "table": [
           {
            "cells": {
             "fill": {
              "color": "#EBF0F8"
             },
             "line": {
              "color": "white"
             }
            },
            "header": {
             "fill": {
              "color": "#C8D4E3"
             },
             "line": {
              "color": "white"
             }
            },
            "type": "table"
           }
          ]
         },
         "layout": {
          "annotationdefaults": {
           "arrowcolor": "#2a3f5f",
           "arrowhead": 0,
           "arrowwidth": 1
          },
          "autotypenumbers": "strict",
          "coloraxis": {
           "colorbar": {
            "outlinewidth": 0,
            "ticks": ""
           }
          },
          "colorscale": {
           "diverging": [
            [
             0,
             "#8e0152"
            ],
            [
             0.1,
             "#c51b7d"
            ],
            [
             0.2,
             "#de77ae"
            ],
            [
             0.3,
             "#f1b6da"
            ],
            [
             0.4,
             "#fde0ef"
            ],
            [
             0.5,
             "#f7f7f7"
            ],
            [
             0.6,
             "#e6f5d0"
            ],
            [
             0.7,
             "#b8e186"
            ],
            [
             0.8,
             "#7fbc41"
            ],
            [
             0.9,
             "#4d9221"
            ],
            [
             1,
             "#276419"
            ]
           ],
           "sequential": [
            [
             0,
             "#0d0887"
            ],
            [
             0.1111111111111111,
             "#46039f"
            ],
            [
             0.2222222222222222,
             "#7201a8"
            ],
            [
             0.3333333333333333,
             "#9c179e"
            ],
            [
             0.4444444444444444,
             "#bd3786"
            ],
            [
             0.5555555555555556,
             "#d8576b"
            ],
            [
             0.6666666666666666,
             "#ed7953"
            ],
            [
             0.7777777777777778,
             "#fb9f3a"
            ],
            [
             0.8888888888888888,
             "#fdca26"
            ],
            [
             1,
             "#f0f921"
            ]
           ],
           "sequentialminus": [
            [
             0,
             "#0d0887"
            ],
            [
             0.1111111111111111,
             "#46039f"
            ],
            [
             0.2222222222222222,
             "#7201a8"
            ],
            [
             0.3333333333333333,
             "#9c179e"
            ],
            [
             0.4444444444444444,
             "#bd3786"
            ],
            [
             0.5555555555555556,
             "#d8576b"
            ],
            [
             0.6666666666666666,
             "#ed7953"
            ],
            [
             0.7777777777777778,
             "#fb9f3a"
            ],
            [
             0.8888888888888888,
             "#fdca26"
            ],
            [
             1,
             "#f0f921"
            ]
           ]
          },
          "colorway": [
           "#636efa",
           "#EF553B",
           "#00cc96",
           "#ab63fa",
           "#FFA15A",
           "#19d3f3",
           "#FF6692",
           "#B6E880",
           "#FF97FF",
           "#FECB52"
          ],
          "font": {
           "color": "#2a3f5f"
          },
          "geo": {
           "bgcolor": "white",
           "lakecolor": "white",
           "landcolor": "#E5ECF6",
           "showlakes": true,
           "showland": true,
           "subunitcolor": "white"
          },
          "hoverlabel": {
           "align": "left"
          },
          "hovermode": "closest",
          "mapbox": {
           "style": "light"
          },
          "paper_bgcolor": "white",
          "plot_bgcolor": "#E5ECF6",
          "polar": {
           "angularaxis": {
            "gridcolor": "white",
            "linecolor": "white",
            "ticks": ""
           },
           "bgcolor": "#E5ECF6",
           "radialaxis": {
            "gridcolor": "white",
            "linecolor": "white",
            "ticks": ""
           }
          },
          "scene": {
           "xaxis": {
            "backgroundcolor": "#E5ECF6",
            "gridcolor": "white",
            "gridwidth": 2,
            "linecolor": "white",
            "showbackground": true,
            "ticks": "",
            "zerolinecolor": "white"
           },
           "yaxis": {
            "backgroundcolor": "#E5ECF6",
            "gridcolor": "white",
            "gridwidth": 2,
            "linecolor": "white",
            "showbackground": true,
            "ticks": "",
            "zerolinecolor": "white"
           },
           "zaxis": {
            "backgroundcolor": "#E5ECF6",
            "gridcolor": "white",
            "gridwidth": 2,
            "linecolor": "white",
            "showbackground": true,
            "ticks": "",
            "zerolinecolor": "white"
           }
          },
          "shapedefaults": {
           "line": {
            "color": "#2a3f5f"
           }
          },
          "ternary": {
           "aaxis": {
            "gridcolor": "white",
            "linecolor": "white",
            "ticks": ""
           },
           "baxis": {
            "gridcolor": "white",
            "linecolor": "white",
            "ticks": ""
           },
           "bgcolor": "#E5ECF6",
           "caxis": {
            "gridcolor": "white",
            "linecolor": "white",
            "ticks": ""
           }
          },
          "title": {
           "x": 0.05
          },
          "xaxis": {
           "automargin": true,
           "gridcolor": "white",
           "linecolor": "white",
           "ticks": "",
           "title": {
            "standoff": 15
           },
           "zerolinecolor": "white",
           "zerolinewidth": 2
          },
          "yaxis": {
           "automargin": true,
           "gridcolor": "white",
           "linecolor": "white",
           "ticks": "",
           "title": {
            "standoff": 15
           },
           "zerolinecolor": "white",
           "zerolinewidth": 2
          }
         }
        },
        "xaxis": {
         "anchor": "y",
         "domain": [
          0,
          1
         ],
         "title": {
          "text": "Area_Name"
         }
        },
        "yaxis": {
         "anchor": "x",
         "domain": [
          0,
          1
         ],
         "title": {
          "text": "CPA_Cases_Registered"
         }
        }
       }
      },
      "text/html": [
       "<div>                            <div id=\"d65c5c3b-85d7-4637-8a87-9001919bba28\" class=\"plotly-graph-div\" style=\"height:525px; width:100%;\"></div>            <script type=\"text/javascript\">                require([\"plotly\"], function(Plotly) {                    window.PLOTLYENV=window.PLOTLYENV || {};                                    if (document.getElementById(\"d65c5c3b-85d7-4637-8a87-9001919bba28\")) {                    Plotly.newPlot(                        \"d65c5c3b-85d7-4637-8a87-9001919bba28\",                        [{\"alignmentgroup\":\"True\",\"hovertemplate\":\"Area_Name=%{x}<br>CPA_Cases_Registered=%{y}<extra></extra>\",\"legendgroup\":\"\",\"marker\":{\"color\":\"#636efa\",\"pattern\":{\"shape\":\"\"}},\"name\":\"\",\"offsetgroup\":\"\",\"orientation\":\"v\",\"showlegend\":false,\"textposition\":\"auto\",\"x\":[\"Andaman & Nicobar Islands\",\"Andhra Pradesh\",\"Arunachal Pradesh\",\"Assam\",\"Bihar\",\"Chandigarh\",\"Chhattisgarh\",\"Dadra & Nagar Haveli\",\"Daman & Diu\",\"Delhi\",\"Goa\",\"Gujarat\",\"Haryana\",\"Himachal Pradesh\",\"Jammu & Kashmir\",\"Jharkhand\",\"Karnataka\",\"Kerala\",\"Lakshadweep\",\"Madhya Pradesh\",\"Maharashtra\",\"Manipur\",\"Meghalaya\",\"Mizoram\",\"Nagaland\",\"Odisha\",\"Puducherry\",\"Punjab\",\"Rajasthan\",\"Sikkim\",\"Tamil Nadu\",\"Tripura\",\"Uttar Pradesh\",\"Uttarakhand\",\"West Bengal\"],\"xaxis\":\"x\",\"y\":[154,16327,119,150,310,21,797,2,0,1013,50,2749,457,2544,682,11294,809,1055,2,10747,4001,9,59,41,126,3135,32,1523,1216,138,1328,134,28622,168,299],\"yaxis\":\"y\",\"type\":\"bar\"}],                        {\"template\":{\"data\":{\"histogram2dcontour\":[{\"type\":\"histogram2dcontour\",\"colorbar\":{\"outlinewidth\":0,\"ticks\":\"\"},\"colorscale\":[[0.0,\"#0d0887\"],[0.1111111111111111,\"#46039f\"],[0.2222222222222222,\"#7201a8\"],[0.3333333333333333,\"#9c179e\"],[0.4444444444444444,\"#bd3786\"],[0.5555555555555556,\"#d8576b\"],[0.6666666666666666,\"#ed7953\"],[0.7777777777777778,\"#fb9f3a\"],[0.8888888888888888,\"#fdca26\"],[1.0,\"#f0f921\"]]}],\"choropleth\":[{\"type\":\"choropleth\",\"colorbar\":{\"outlinewidth\":0,\"ticks\":\"\"}}],\"histogram2d\":[{\"type\":\"histogram2d\",\"colorbar\":{\"outlinewidth\":0,\"ticks\":\"\"},\"colorscale\":[[0.0,\"#0d0887\"],[0.1111111111111111,\"#46039f\"],[0.2222222222222222,\"#7201a8\"],[0.3333333333333333,\"#9c179e\"],[0.4444444444444444,\"#bd3786\"],[0.5555555555555556,\"#d8576b\"],[0.6666666666666666,\"#ed7953\"],[0.7777777777777778,\"#fb9f3a\"],[0.8888888888888888,\"#fdca26\"],[1.0,\"#f0f921\"]]}],\"heatmap\":[{\"type\":\"heatmap\",\"colorbar\":{\"outlinewidth\":0,\"ticks\":\"\"},\"colorscale\":[[0.0,\"#0d0887\"],[0.1111111111111111,\"#46039f\"],[0.2222222222222222,\"#7201a8\"],[0.3333333333333333,\"#9c179e\"],[0.4444444444444444,\"#bd3786\"],[0.5555555555555556,\"#d8576b\"],[0.6666666666666666,\"#ed7953\"],[0.7777777777777778,\"#fb9f3a\"],[0.8888888888888888,\"#fdca26\"],[1.0,\"#f0f921\"]]}],\"heatmapgl\":[{\"type\":\"heatmapgl\",\"colorbar\":{\"outlinewidth\":0,\"ticks\":\"\"},\"colorscale\":[[0.0,\"#0d0887\"],[0.1111111111111111,\"#46039f\"],[0.2222222222222222,\"#7201a8\"],[0.3333333333333333,\"#9c179e\"],[0.4444444444444444,\"#bd3786\"],[0.5555555555555556,\"#d8576b\"],[0.6666666666666666,\"#ed7953\"],[0.7777777777777778,\"#fb9f3a\"],[0.8888888888888888,\"#fdca26\"],[1.0,\"#f0f921\"]]}],\"contourcarpet\":[{\"type\":\"contourcarpet\",\"colorbar\":{\"outlinewidth\":0,\"ticks\":\"\"}}],\"contour\":[{\"type\":\"contour\",\"colorbar\":{\"outlinewidth\":0,\"ticks\":\"\"},\"colorscale\":[[0.0,\"#0d0887\"],[0.1111111111111111,\"#46039f\"],[0.2222222222222222,\"#7201a8\"],[0.3333333333333333,\"#9c179e\"],[0.4444444444444444,\"#bd3786\"],[0.5555555555555556,\"#d8576b\"],[0.6666666666666666,\"#ed7953\"],[0.7777777777777778,\"#fb9f3a\"],[0.8888888888888888,\"#fdca26\"],[1.0,\"#f0f921\"]]}],\"surface\":[{\"type\":\"surface\",\"colorbar\":{\"outlinewidth\":0,\"ticks\":\"\"},\"colorscale\":[[0.0,\"#0d0887\"],[0.1111111111111111,\"#46039f\"],[0.2222222222222222,\"#7201a8\"],[0.3333333333333333,\"#9c179e\"],[0.4444444444444444,\"#bd3786\"],[0.5555555555555556,\"#d8576b\"],[0.6666666666666666,\"#ed7953\"],[0.7777777777777778,\"#fb9f3a\"],[0.8888888888888888,\"#fdca26\"],[1.0,\"#f0f921\"]]}],\"mesh3d\":[{\"type\":\"mesh3d\",\"colorbar\":{\"outlinewidth\":0,\"ticks\":\"\"}}],\"scatter\":[{\"fillpattern\":{\"fillmode\":\"overlay\",\"size\":10,\"solidity\":0.2},\"type\":\"scatter\"}],\"parcoords\":[{\"type\":\"parcoords\",\"line\":{\"colorbar\":{\"outlinewidth\":0,\"ticks\":\"\"}}}],\"scatterpolargl\":[{\"type\":\"scatterpolargl\",\"marker\":{\"colorbar\":{\"outlinewidth\":0,\"ticks\":\"\"}}}],\"bar\":[{\"error_x\":{\"color\":\"#2a3f5f\"},\"error_y\":{\"color\":\"#2a3f5f\"},\"marker\":{\"line\":{\"color\":\"#E5ECF6\",\"width\":0.5},\"pattern\":{\"fillmode\":\"overlay\",\"size\":10,\"solidity\":0.2}},\"type\":\"bar\"}],\"scattergeo\":[{\"type\":\"scattergeo\",\"marker\":{\"colorbar\":{\"outlinewidth\":0,\"ticks\":\"\"}}}],\"scatterpolar\":[{\"type\":\"scatterpolar\",\"marker\":{\"colorbar\":{\"outlinewidth\":0,\"ticks\":\"\"}}}],\"histogram\":[{\"marker\":{\"pattern\":{\"fillmode\":\"overlay\",\"size\":10,\"solidity\":0.2}},\"type\":\"histogram\"}],\"scattergl\":[{\"type\":\"scattergl\",\"marker\":{\"colorbar\":{\"outlinewidth\":0,\"ticks\":\"\"}}}],\"scatter3d\":[{\"type\":\"scatter3d\",\"line\":{\"colorbar\":{\"outlinewidth\":0,\"ticks\":\"\"}},\"marker\":{\"colorbar\":{\"outlinewidth\":0,\"ticks\":\"\"}}}],\"scattermapbox\":[{\"type\":\"scattermapbox\",\"marker\":{\"colorbar\":{\"outlinewidth\":0,\"ticks\":\"\"}}}],\"scatterternary\":[{\"type\":\"scatterternary\",\"marker\":{\"colorbar\":{\"outlinewidth\":0,\"ticks\":\"\"}}}],\"scattercarpet\":[{\"type\":\"scattercarpet\",\"marker\":{\"colorbar\":{\"outlinewidth\":0,\"ticks\":\"\"}}}],\"carpet\":[{\"aaxis\":{\"endlinecolor\":\"#2a3f5f\",\"gridcolor\":\"white\",\"linecolor\":\"white\",\"minorgridcolor\":\"white\",\"startlinecolor\":\"#2a3f5f\"},\"baxis\":{\"endlinecolor\":\"#2a3f5f\",\"gridcolor\":\"white\",\"linecolor\":\"white\",\"minorgridcolor\":\"white\",\"startlinecolor\":\"#2a3f5f\"},\"type\":\"carpet\"}],\"table\":[{\"cells\":{\"fill\":{\"color\":\"#EBF0F8\"},\"line\":{\"color\":\"white\"}},\"header\":{\"fill\":{\"color\":\"#C8D4E3\"},\"line\":{\"color\":\"white\"}},\"type\":\"table\"}],\"barpolar\":[{\"marker\":{\"line\":{\"color\":\"#E5ECF6\",\"width\":0.5},\"pattern\":{\"fillmode\":\"overlay\",\"size\":10,\"solidity\":0.2}},\"type\":\"barpolar\"}],\"pie\":[{\"automargin\":true,\"type\":\"pie\"}]},\"layout\":{\"autotypenumbers\":\"strict\",\"colorway\":[\"#636efa\",\"#EF553B\",\"#00cc96\",\"#ab63fa\",\"#FFA15A\",\"#19d3f3\",\"#FF6692\",\"#B6E880\",\"#FF97FF\",\"#FECB52\"],\"font\":{\"color\":\"#2a3f5f\"},\"hovermode\":\"closest\",\"hoverlabel\":{\"align\":\"left\"},\"paper_bgcolor\":\"white\",\"plot_bgcolor\":\"#E5ECF6\",\"polar\":{\"bgcolor\":\"#E5ECF6\",\"angularaxis\":{\"gridcolor\":\"white\",\"linecolor\":\"white\",\"ticks\":\"\"},\"radialaxis\":{\"gridcolor\":\"white\",\"linecolor\":\"white\",\"ticks\":\"\"}},\"ternary\":{\"bgcolor\":\"#E5ECF6\",\"aaxis\":{\"gridcolor\":\"white\",\"linecolor\":\"white\",\"ticks\":\"\"},\"baxis\":{\"gridcolor\":\"white\",\"linecolor\":\"white\",\"ticks\":\"\"},\"caxis\":{\"gridcolor\":\"white\",\"linecolor\":\"white\",\"ticks\":\"\"}},\"coloraxis\":{\"colorbar\":{\"outlinewidth\":0,\"ticks\":\"\"}},\"colorscale\":{\"sequential\":[[0.0,\"#0d0887\"],[0.1111111111111111,\"#46039f\"],[0.2222222222222222,\"#7201a8\"],[0.3333333333333333,\"#9c179e\"],[0.4444444444444444,\"#bd3786\"],[0.5555555555555556,\"#d8576b\"],[0.6666666666666666,\"#ed7953\"],[0.7777777777777778,\"#fb9f3a\"],[0.8888888888888888,\"#fdca26\"],[1.0,\"#f0f921\"]],\"sequentialminus\":[[0.0,\"#0d0887\"],[0.1111111111111111,\"#46039f\"],[0.2222222222222222,\"#7201a8\"],[0.3333333333333333,\"#9c179e\"],[0.4444444444444444,\"#bd3786\"],[0.5555555555555556,\"#d8576b\"],[0.6666666666666666,\"#ed7953\"],[0.7777777777777778,\"#fb9f3a\"],[0.8888888888888888,\"#fdca26\"],[1.0,\"#f0f921\"]],\"diverging\":[[0,\"#8e0152\"],[0.1,\"#c51b7d\"],[0.2,\"#de77ae\"],[0.3,\"#f1b6da\"],[0.4,\"#fde0ef\"],[0.5,\"#f7f7f7\"],[0.6,\"#e6f5d0\"],[0.7,\"#b8e186\"],[0.8,\"#7fbc41\"],[0.9,\"#4d9221\"],[1,\"#276419\"]]},\"xaxis\":{\"gridcolor\":\"white\",\"linecolor\":\"white\",\"ticks\":\"\",\"title\":{\"standoff\":15},\"zerolinecolor\":\"white\",\"automargin\":true,\"zerolinewidth\":2},\"yaxis\":{\"gridcolor\":\"white\",\"linecolor\":\"white\",\"ticks\":\"\",\"title\":{\"standoff\":15},\"zerolinecolor\":\"white\",\"automargin\":true,\"zerolinewidth\":2},\"scene\":{\"xaxis\":{\"backgroundcolor\":\"#E5ECF6\",\"gridcolor\":\"white\",\"linecolor\":\"white\",\"showbackground\":true,\"ticks\":\"\",\"zerolinecolor\":\"white\",\"gridwidth\":2},\"yaxis\":{\"backgroundcolor\":\"#E5ECF6\",\"gridcolor\":\"white\",\"linecolor\":\"white\",\"showbackground\":true,\"ticks\":\"\",\"zerolinecolor\":\"white\",\"gridwidth\":2},\"zaxis\":{\"backgroundcolor\":\"#E5ECF6\",\"gridcolor\":\"white\",\"linecolor\":\"white\",\"showbackground\":true,\"ticks\":\"\",\"zerolinecolor\":\"white\",\"gridwidth\":2}},\"shapedefaults\":{\"line\":{\"color\":\"#2a3f5f\"}},\"annotationdefaults\":{\"arrowcolor\":\"#2a3f5f\",\"arrowhead\":0,\"arrowwidth\":1},\"geo\":{\"bgcolor\":\"white\",\"landcolor\":\"#E5ECF6\",\"subunitcolor\":\"white\",\"showland\":true,\"showlakes\":true,\"lakecolor\":\"white\"},\"title\":{\"x\":0.05},\"mapbox\":{\"style\":\"light\"}}},\"xaxis\":{\"anchor\":\"y\",\"domain\":[0.0,1.0],\"title\":{\"text\":\"Area_Name\"}},\"yaxis\":{\"anchor\":\"x\",\"domain\":[0.0,1.0],\"title\":{\"text\":\"CPA_Cases_Registered\"}},\"legend\":{\"tracegroupgap\":0},\"margin\":{\"t\":60},\"barmode\":\"relative\"},                        {\"responsive\": true}                    ).then(function(){\n",
       "                            \n",
       "var gd = document.getElementById('d65c5c3b-85d7-4637-8a87-9001919bba28');\n",
       "var x = new MutationObserver(function (mutations, observer) {{\n",
       "        var display = window.getComputedStyle(gd).display;\n",
       "        if (!display || display === 'none') {{\n",
       "            console.log([gd, 'removed!']);\n",
       "            Plotly.purge(gd);\n",
       "            observer.disconnect();\n",
       "        }}\n",
       "}});\n",
       "\n",
       "// Listen for the removal of the full notebook cells\n",
       "var notebookContainer = gd.closest('#notebook-container');\n",
       "if (notebookContainer) {{\n",
       "    x.observe(notebookContainer, {childList: true});\n",
       "}}\n",
       "\n",
       "// Listen for the clearing of the current output cell\n",
       "var outputEl = gd.closest('.output');\n",
       "if (outputEl) {{\n",
       "    x.observe(outputEl, {childList: true});\n",
       "}}\n",
       "\n",
       "                        })                };                });            </script>        </div>"
      ]
     },
     "metadata": {},
     "output_type": "display_data"
    }
   ],
   "source": [
    "import plotly.express as px\n",
    "fig = px.bar(a, x = 'Area_Name', y = 'CPA_Cases_Registered')\n",
    "fig.show()"
   ]
  },
  {
   "cell_type": "code",
   "execution_count": 28,
   "id": "5f8fa953",
   "metadata": {},
   "outputs": [
    {
     "data": {
      "image/png": "[encoded data removed]",
      "text/plain": [
       "<Figure size 576x576 with 1 Axes>"
      ]
     },
     "metadata": {},
     "output_type": "display_data"
    }
   ],
   "source": [
    "Reported= df['CPA_Cases_Registered'].sum()\n",
    "DeptAction = df['CPA_Cases_Reported_for_Dept._Action'].sum()\n",
    "Declar3ed_false = df['CPA_Complaints/Cases_Declared_False/Unsubstantiated'].sum()\n",
    "Alleged = df['CPA_Complaints_Received/Alleged'].sum()\n",
    "Departmental_Enquiries = df['CPA_No_of_Departmental_Enquiries'].sum()\n",
    "Magisterial_Enquiries = df['CPA_No_of_Magisterial_Enquiries'].sum()\n",
    "\n",
    "Charge_sheeted = df['CPA_Cases_Sent_for_Trials/Charge-sheeted'].sum()\n",
    "Judicial_enquiries = df['CPA_No_of_Judicial_Enquiries'].sum()\n",
    "Personnel_Acquitted = df['CPB_Police_Personnel_Acquitted'].sum()\n",
    "Personnel_Convicted = df['CPB_Police_Personnel_Convicted'].sum()\n",
    "sent_up_for_Trial = df['CPB_Police_Personnel_sent_up_for_Trial'].sum()\n",
    "Trial_Completed = df['CPB_Police_Personnel_Trial_Completed'].sum()\n",
    "\n",
    "Cases_Withdrawn = df['CPB_Police_Personnel_Cases_Withdrawn_or_Otherwise_disposed_of'].sum()\n",
    "personnel_Cases_Trial_Completed = df['CPC_Police_personnel_Cases_Trial_Completed'].sum()\n",
    "Personnel_Cases_Withdrawn = df['CPC_Police_Personnel_Cases_Withdrawn_or_Otherwise_disposed_of'].sum()\n",
    "Disciplinary_Action_Initiated = df['CPC_Police_Personnel_Disciplinary_Action_Initiated'].sum()\n",
    "Removal_from_Service = df['CPC_Police_Personnel_Dismissal/Removal_from_Service'].sum()\n",
    "Major_Punishment_awarded = df['CPC_Police_Personnel_Major_Punishment_awarded'].sum()\n",
    "\n",
    "Minor_Punishment_awarded = df['CPC_Police_Personnel_Minor_Punishment_awarded'].sum()\n",
    "\n",
    "\n",
    "\n",
    "Age=['CPA_Cases_Registered','CPA_Cases_Reported_for_Dept._Action','CPA_Complaints/Cases_Declared_False/Unsubstantiated','CPA_Complaints_Received/Alleged','CPA_No_of_Departmental_Enquiries',\n",
    "      'CPA_No_of_Magisterial_Enquiries','CPA_Cases_Sent_for_Trials/Charge-sheeted','CPA_No_of_Judicial_Enquiries','CPB_Police_Personnel_Acquitted','CPB_Police_Personnel_Convicted','CPB_Police_Personnel_sent_up_for_Trial','CPB_Police_Personnel_Trial_Completed','CPB_Police_Personnel_Cases_Withdrawn_or_Otherwise_disposed_of',\n",
    "    'CPC_Police_personnel_Cases_Trial_Completed','CPC_Police_Personnel_Cases_Withdrawn_or_Otherwise_disposed_of','CPC_Police_Personnel_Disciplinary_Action_Initiated','CPC_Police_Personnel_Dismissal/Removal_from_Service','CPC_Police_Personnel_Major_Punishment_awarded','CPC_Police_Personnel_Minor_Punishment_awarded']\n",
    "\n",
    "SUM=[Reported,DeptAction,Declar3ed_false,Alleged,Departmental_Enquiries,Magisterial_Enquiries,Charge_sheeted,Judicial_enquiries,Personnel_Acquitted,Personnel_Convicted,sent_up_for_Trial,Trial_Completed,Cases_Withdrawn,personnel_Cases_Trial_Completed ,Personnel_Cases_Withdrawn ,Disciplinary_Action_Initiated ,Removal_from_Service,Major_Punishment_awarded,Minor_Punishment_awarded\n",
    "]\n",
    "\n",
    "fig1, ax1 = plt.subplots(figsize=(8,8))\n",
    "ax1.pie(SUM, labels=Age, autopct='%1.1f%%',\n",
    "        shadow=True, startangle=90)\n",
    "ax1.axis('equal')  # Equal aspect ratio ensures that pie is drawn as a circle.\n",
    "\n",
    "plt.show()"
   ]
  },
  {
   "cell_type": "code",
   "execution_count": 29,
   "id": "715b5681",
   "metadata": {},
   "outputs": [
    {
     "data": {
      "text/html": [
       "<div>\n",
       "<style scoped>\n",
       "    .dataframe tbody tr th:only-of-type {\n",
       "        vertical-align: middle;\n",
       "    }\n",
       "\n",
       "    .dataframe tbody tr th {\n",
       "        vertical-align: top;\n",
       "    }\n",
       "\n",
       "    .dataframe thead th {\n",
       "        text-align: right;\n",
       "    }\n",
       "</style>\n",
       "<table border=\"1\" class=\"dataframe\">\n",
       "  <thead>\n",
       "    <tr style=\"text-align: right;\">\n",
       "      <th></th>\n",
       "      <th>Year</th>\n",
       "      <th>CPA_Cases_Registered</th>\n",
       "      <th>CPA_Cases_Reported_for_Dept._Action</th>\n",
       "      <th>CPA_Complaints/Cases_Declared_False/Unsubstantiated</th>\n",
       "      <th>CPA_Complaints_Received/Alleged</th>\n",
       "      <th>CPA_No_of_Departmental_Enquiries</th>\n",
       "      <th>CPA_No_of_Magisterial_Enquiries</th>\n",
       "      <th>CPA_Cases_Sent_for_Trials/Charge-sheeted</th>\n",
       "      <th>CPA_No_of_Judicial_Enquiries</th>\n",
       "      <th>CPB_Police_Personnel_Acquitted</th>\n",
       "      <th>CPB_Police_Personnel_Convicted</th>\n",
       "      <th>CPB_Police_Personnel_sent_up_for_Trial</th>\n",
       "      <th>CPB_Police_Personnel_Trial_Completed</th>\n",
       "      <th>CPB_Police_Personnel_Cases_Withdrawn_or_Otherwise_disposed_of</th>\n",
       "      <th>CPC_Police_personnel_Cases_Trial_Completed</th>\n",
       "      <th>CPC_Police_Personnel_Cases_Withdrawn_or_Otherwise_disposed_of</th>\n",
       "      <th>CPC_Police_Personnel_Disciplinary_Action_Initiated</th>\n",
       "      <th>CPC_Police_Personnel_Dismissal/Removal_from_Service</th>\n",
       "      <th>CPC_Police_Personnel_Major_Punishment_awarded</th>\n",
       "      <th>CPC_Police_Personnel_Minor_Punishment_awarded</th>\n",
       "    </tr>\n",
       "  </thead>\n",
       "  <tbody>\n",
       "    <tr>\n",
       "      <th>0</th>\n",
       "      <td>2001</td>\n",
       "      <td>7297</td>\n",
       "      <td>4652</td>\n",
       "      <td>32141</td>\n",
       "      <td>58661</td>\n",
       "      <td>19844</td>\n",
       "      <td>3509</td>\n",
       "      <td>4477</td>\n",
       "      <td>438</td>\n",
       "      <td>123</td>\n",
       "      <td>43</td>\n",
       "      <td>1524</td>\n",
       "      <td>166</td>\n",
       "      <td>157</td>\n",
       "      <td>13137</td>\n",
       "      <td>5756</td>\n",
       "      <td>29748</td>\n",
       "      <td>922</td>\n",
       "      <td>5914</td>\n",
       "      <td>29781</td>\n",
       "    </tr>\n",
       "    <tr>\n",
       "      <th>1</th>\n",
       "      <td>2002</td>\n",
       "      <td>8978</td>\n",
       "      <td>4952</td>\n",
       "      <td>17456</td>\n",
       "      <td>43393</td>\n",
       "      <td>11850</td>\n",
       "      <td>200</td>\n",
       "      <td>888</td>\n",
       "      <td>280</td>\n",
       "      <td>179</td>\n",
       "      <td>52</td>\n",
       "      <td>1305</td>\n",
       "      <td>231</td>\n",
       "      <td>258</td>\n",
       "      <td>9051</td>\n",
       "      <td>4566</td>\n",
       "      <td>22276</td>\n",
       "      <td>726</td>\n",
       "      <td>5851</td>\n",
       "      <td>18704</td>\n",
       "    </tr>\n",
       "    <tr>\n",
       "      <th>2</th>\n",
       "      <td>2003</td>\n",
       "      <td>8167</td>\n",
       "      <td>7049</td>\n",
       "      <td>25823</td>\n",
       "      <td>55115</td>\n",
       "      <td>15169</td>\n",
       "      <td>130</td>\n",
       "      <td>1026</td>\n",
       "      <td>365</td>\n",
       "      <td>131</td>\n",
       "      <td>45</td>\n",
       "      <td>1216</td>\n",
       "      <td>176</td>\n",
       "      <td>146</td>\n",
       "      <td>9527</td>\n",
       "      <td>4713</td>\n",
       "      <td>20321</td>\n",
       "      <td>835</td>\n",
       "      <td>4762</td>\n",
       "      <td>15967</td>\n",
       "    </tr>\n",
       "    <tr>\n",
       "      <th>3</th>\n",
       "      <td>2004</td>\n",
       "      <td>3362</td>\n",
       "      <td>4715</td>\n",
       "      <td>29332</td>\n",
       "      <td>51060</td>\n",
       "      <td>15633</td>\n",
       "      <td>573</td>\n",
       "      <td>1191</td>\n",
       "      <td>383</td>\n",
       "      <td>371</td>\n",
       "      <td>55</td>\n",
       "      <td>1517</td>\n",
       "      <td>426</td>\n",
       "      <td>486</td>\n",
       "      <td>7247</td>\n",
       "      <td>5482</td>\n",
       "      <td>19269</td>\n",
       "      <td>752</td>\n",
       "      <td>5557</td>\n",
       "      <td>14666</td>\n",
       "    </tr>\n",
       "    <tr>\n",
       "      <th>4</th>\n",
       "      <td>2005</td>\n",
       "      <td>9965</td>\n",
       "      <td>5459</td>\n",
       "      <td>34590</td>\n",
       "      <td>61560</td>\n",
       "      <td>18940</td>\n",
       "      <td>713</td>\n",
       "      <td>9047</td>\n",
       "      <td>288</td>\n",
       "      <td>128</td>\n",
       "      <td>97</td>\n",
       "      <td>1668</td>\n",
       "      <td>225</td>\n",
       "      <td>373</td>\n",
       "      <td>10939</td>\n",
       "      <td>4447</td>\n",
       "      <td>22503</td>\n",
       "      <td>856</td>\n",
       "      <td>5151</td>\n",
       "      <td>15854</td>\n",
       "    </tr>\n",
       "    <tr>\n",
       "      <th>5</th>\n",
       "      <td>2006</td>\n",
       "      <td>13546</td>\n",
       "      <td>2503</td>\n",
       "      <td>34657</td>\n",
       "      <td>62822</td>\n",
       "      <td>15510</td>\n",
       "      <td>423</td>\n",
       "      <td>7936</td>\n",
       "      <td>295</td>\n",
       "      <td>70</td>\n",
       "      <td>24</td>\n",
       "      <td>3062</td>\n",
       "      <td>94</td>\n",
       "      <td>133</td>\n",
       "      <td>9081</td>\n",
       "      <td>5107</td>\n",
       "      <td>21810</td>\n",
       "      <td>1020</td>\n",
       "      <td>6783</td>\n",
       "      <td>10423</td>\n",
       "    </tr>\n",
       "    <tr>\n",
       "      <th>6</th>\n",
       "      <td>2007</td>\n",
       "      <td>7908</td>\n",
       "      <td>3129</td>\n",
       "      <td>28412</td>\n",
       "      <td>51767</td>\n",
       "      <td>13953</td>\n",
       "      <td>119</td>\n",
       "      <td>941</td>\n",
       "      <td>278</td>\n",
       "      <td>106</td>\n",
       "      <td>43</td>\n",
       "      <td>1273</td>\n",
       "      <td>149</td>\n",
       "      <td>199</td>\n",
       "      <td>8595</td>\n",
       "      <td>2329</td>\n",
       "      <td>19187</td>\n",
       "      <td>665</td>\n",
       "      <td>4650</td>\n",
       "      <td>15275</td>\n",
       "    </tr>\n",
       "    <tr>\n",
       "      <th>7</th>\n",
       "      <td>2008</td>\n",
       "      <td>5445</td>\n",
       "      <td>4596</td>\n",
       "      <td>29577</td>\n",
       "      <td>48939</td>\n",
       "      <td>17215</td>\n",
       "      <td>99</td>\n",
       "      <td>1132</td>\n",
       "      <td>204</td>\n",
       "      <td>95</td>\n",
       "      <td>33</td>\n",
       "      <td>1245</td>\n",
       "      <td>128</td>\n",
       "      <td>125</td>\n",
       "      <td>9757</td>\n",
       "      <td>3219</td>\n",
       "      <td>22124</td>\n",
       "      <td>879</td>\n",
       "      <td>4541</td>\n",
       "      <td>14653</td>\n",
       "    </tr>\n",
       "    <tr>\n",
       "      <th>8</th>\n",
       "      <td>2009</td>\n",
       "      <td>14975</td>\n",
       "      <td>9759</td>\n",
       "      <td>28120</td>\n",
       "      <td>54873</td>\n",
       "      <td>24302</td>\n",
       "      <td>611</td>\n",
       "      <td>1618</td>\n",
       "      <td>481</td>\n",
       "      <td>99</td>\n",
       "      <td>43</td>\n",
       "      <td>1279</td>\n",
       "      <td>142</td>\n",
       "      <td>132</td>\n",
       "      <td>15356</td>\n",
       "      <td>4687</td>\n",
       "      <td>28819</td>\n",
       "      <td>647</td>\n",
       "      <td>4227</td>\n",
       "      <td>18085</td>\n",
       "    </tr>\n",
       "    <tr>\n",
       "      <th>9</th>\n",
       "      <td>2010</td>\n",
       "      <td>10470</td>\n",
       "      <td>9665</td>\n",
       "      <td>31115</td>\n",
       "      <td>58438</td>\n",
       "      <td>21563</td>\n",
       "      <td>326</td>\n",
       "      <td>861</td>\n",
       "      <td>268</td>\n",
       "      <td>152</td>\n",
       "      <td>53</td>\n",
       "      <td>1107</td>\n",
       "      <td>205</td>\n",
       "      <td>141</td>\n",
       "      <td>16876</td>\n",
       "      <td>5125</td>\n",
       "      <td>27723</td>\n",
       "      <td>666</td>\n",
       "      <td>4561</td>\n",
       "      <td>17006</td>\n",
       "    </tr>\n",
       "  </tbody>\n",
       "</table>\n",
       "</div>"
      ],
      "text/plain": [
       "   Year  CPA_Cases_Registered  CPA_Cases_Reported_for_Dept._Action  \\\n",
       "0  2001                  7297                                 4652   \n",
       "1  2002                  8978                                 4952   \n",
       "2  2003                  8167                                 7049   \n",
       "3  2004                  3362                                 4715   \n",
       "4  2005                  9965                                 5459   \n",
       "5  2006                 13546                                 2503   \n",
       "6  2007                  7908                                 3129   \n",
       "7  2008                  5445                                 4596   \n",
       "8  2009                 14975                                 9759   \n",
       "9  2010                 10470                                 9665   \n",
       "\n",
       "   CPA_Complaints/Cases_Declared_False/Unsubstantiated  \\\n",
       "0                                              32141     \n",
       "1                                              17456     \n",
       "2                                              25823     \n",
       "3                                              29332     \n",
       "4                                              34590     \n",
       "5                                              34657     \n",
       "6                                              28412     \n",
       "7                                              29577     \n",
       "8                                              28120     \n",
       "9                                              31115     \n",
       "\n",
       "   CPA_Complaints_Received/Alleged  CPA_No_of_Departmental_Enquiries  \\\n",
       "0                            58661                             19844   \n",
       "1                            43393                             11850   \n",
       "2                            55115                             15169   \n",
       "3                            51060                             15633   \n",
       "4                            61560                             18940   \n",
       "5                            62822                             15510   \n",
       "6                            51767                             13953   \n",
       "7                            48939                             17215   \n",
       "8                            54873                             24302   \n",
       "9                            58438                             21563   \n",
       "\n",
       "   CPA_No_of_Magisterial_Enquiries  CPA_Cases_Sent_for_Trials/Charge-sheeted  \\\n",
       "0                             3509                                      4477   \n",
       "1                              200                                       888   \n",
       "2                              130                                      1026   \n",
       "3                              573                                      1191   \n",
       "4                              713                                      9047   \n",
       "5                              423                                      7936   \n",
       "6                              119                                       941   \n",
       "7                               99                                      1132   \n",
       "8                              611                                      1618   \n",
       "9                              326                                       861   \n",
       "\n",
       "   CPA_No_of_Judicial_Enquiries  CPB_Police_Personnel_Acquitted  \\\n",
       "0                           438                             123   \n",
       "1                           280                             179   \n",
       "2                           365                             131   \n",
       "3                           383                             371   \n",
       "4                           288                             128   \n",
       "5                           295                              70   \n",
       "6                           278                             106   \n",
       "7                           204                              95   \n",
       "8                           481                              99   \n",
       "9                           268                             152   \n",
       "\n",
       "   CPB_Police_Personnel_Convicted  CPB_Police_Personnel_sent_up_for_Trial  \\\n",
       "0                              43                                    1524   \n",
       "1                              52                                    1305   \n",
       "2                              45                                    1216   \n",
       "3                              55                                    1517   \n",
       "4                              97                                    1668   \n",
       "5                              24                                    3062   \n",
       "6                              43                                    1273   \n",
       "7                              33                                    1245   \n",
       "8                              43                                    1279   \n",
       "9                              53                                    1107   \n",
       "\n",
       "   CPB_Police_Personnel_Trial_Completed  \\\n",
       "0                                   166   \n",
       "1                                   231   \n",
       "2                                   176   \n",
       "3                                   426   \n",
       "4                                   225   \n",
       "5                                    94   \n",
       "6                                   149   \n",
       "7                                   128   \n",
       "8                                   142   \n",
       "9                                   205   \n",
       "\n",
       "   CPB_Police_Personnel_Cases_Withdrawn_or_Otherwise_disposed_of  \\\n",
       "0                                                157               \n",
       "1                                                258               \n",
       "2                                                146               \n",
       "3                                                486               \n",
       "4                                                373               \n",
       "5                                                133               \n",
       "6                                                199               \n",
       "7                                                125               \n",
       "8                                                132               \n",
       "9                                                141               \n",
       "\n",
       "   CPC_Police_personnel_Cases_Trial_Completed  \\\n",
       "0                                       13137   \n",
       "1                                        9051   \n",
       "2                                        9527   \n",
       "3                                        7247   \n",
       "4                                       10939   \n",
       "5                                        9081   \n",
       "6                                        8595   \n",
       "7                                        9757   \n",
       "8                                       15356   \n",
       "9                                       16876   \n",
       "\n",
       "   CPC_Police_Personnel_Cases_Withdrawn_or_Otherwise_disposed_of  \\\n",
       "0                                               5756               \n",
       "1                                               4566               \n",
       "2                                               4713               \n",
       "3                                               5482               \n",
       "4                                               4447               \n",
       "5                                               5107               \n",
       "6                                               2329               \n",
       "7                                               3219               \n",
       "8                                               4687               \n",
       "9                                               5125               \n",
       "\n",
       "   CPC_Police_Personnel_Disciplinary_Action_Initiated  \\\n",
       "0                                              29748    \n",
       "1                                              22276    \n",
       "2                                              20321    \n",
       "3                                              19269    \n",
       "4                                              22503    \n",
       "5                                              21810    \n",
       "6                                              19187    \n",
       "7                                              22124    \n",
       "8                                              28819    \n",
       "9                                              27723    \n",
       "\n",
       "   CPC_Police_Personnel_Dismissal/Removal_from_Service  \\\n",
       "0                                                922     \n",
       "1                                                726     \n",
       "2                                                835     \n",
       "3                                                752     \n",
       "4                                                856     \n",
       "5                                               1020     \n",
       "6                                                665     \n",
       "7                                                879     \n",
       "8                                                647     \n",
       "9                                                666     \n",
       "\n",
       "   CPC_Police_Personnel_Major_Punishment_awarded  \\\n",
       "0                                           5914   \n",
       "1                                           5851   \n",
       "2                                           4762   \n",
       "3                                           5557   \n",
       "4                                           5151   \n",
       "5                                           6783   \n",
       "6                                           4650   \n",
       "7                                           4541   \n",
       "8                                           4227   \n",
       "9                                           4561   \n",
       "\n",
       "   CPC_Police_Personnel_Minor_Punishment_awarded  \n",
       "0                                          29781  \n",
       "1                                          18704  \n",
       "2                                          15967  \n",
       "3                                          14666  \n",
       "4                                          15854  \n",
       "5                                          10423  \n",
       "6                                          15275  \n",
       "7                                          14653  \n",
       "8                                          18085  \n",
       "9                                          17006  "
      ]
     },
     "execution_count": 29,
     "metadata": {},
     "output_type": "execute_result"
    }
   ],
   "source": [
    "yearw =df.groupby(['Year'])['CPA_Cases_Registered','CPA_Cases_Reported_for_Dept._Action','CPA_Complaints/Cases_Declared_False/Unsubstantiated','CPA_Complaints_Received/Alleged','CPA_No_of_Departmental_Enquiries',\n",
    "      'CPA_No_of_Magisterial_Enquiries','CPA_Cases_Sent_for_Trials/Charge-sheeted','CPA_No_of_Judicial_Enquiries','CPB_Police_Personnel_Acquitted','CPB_Police_Personnel_Convicted','CPB_Police_Personnel_sent_up_for_Trial','CPB_Police_Personnel_Trial_Completed','CPB_Police_Personnel_Cases_Withdrawn_or_Otherwise_disposed_of',\n",
    "    'CPC_Police_personnel_Cases_Trial_Completed','CPC_Police_Personnel_Cases_Withdrawn_or_Otherwise_disposed_of','CPC_Police_Personnel_Disciplinary_Action_Initiated','CPC_Police_Personnel_Dismissal/Removal_from_Service','CPC_Police_Personnel_Major_Punishment_awarded','CPC_Police_Personnel_Minor_Punishment_awarded'].sum().reset_index()\n",
    "yearw"
   ]
  },
  {
   "cell_type": "code",
   "execution_count": 30,
   "id": "5176a37b",
   "metadata": {},
   "outputs": [
    {
     "data": {
      "application/vnd.plotly.v1+json": {
       "config": {
        "plotlyServerURL": "https://plot.ly"
       },
       "data": [
        {
         "alignmentgroup": "True",
         "hovertemplate": "variable=CPA_Cases_Registered<br>Year=%{x}<br>value=%{y}<extra></extra>",
         "legendgroup": "CPA_Cases_Registered",
         "marker": {
          "color": "#636efa",
          "pattern": {
           "shape": ""
          }
         },
         "name": "CPA_Cases_Registered",
         "offsetgroup": "CPA_Cases_Registered",
         "orientation": "v",
         "showlegend": true,
         "textposition": "auto",
         "type": "bar",
         "x": [
          2001,
          2002,
          2003,
          2004,
          2005,
          2006,
          2007,
          2008,
          2009,
          2010
         ],
         "xaxis": "x",
         "y": [
          7297,
          8978,
          8167,
          3362,
          9965,
          13546,
          7908,
          5445,
          14975,
          10470
         ],
         "yaxis": "y"
        },
        {
         "alignmentgroup": "True",
         "hovertemplate": "variable=CPA_Cases_Reported_for_Dept._Action<br>Year=%{x}<br>value=%{y}<extra></extra>",
         "legendgroup": "CPA_Cases_Reported_for_Dept._Action",
         "marker": {
          "color": "#EF553B",
          "pattern": {
           "shape": ""
          }
         },
         "name": "CPA_Cases_Reported_for_Dept._Action",
         "offsetgroup": "CPA_Cases_Reported_for_Dept._Action",
         "orientation": "v",
         "showlegend": true,
         "textposition": "auto",
         "type": "bar",
         "x": [
          2001,
          2002,
          2003,
          2004,
          2005,
          2006,
          2007,
          2008,
          2009,
          2010
         ],
         "xaxis": "x",
         "y": [
          4652,
          4952,
          7049,
          4715,
          5459,
          2503,
          3129,
          4596,
          9759,
          9665
         ],
         "yaxis": "y"
        },
        {
         "alignmentgroup": "True",
         "hovertemplate": "variable=CPA_Complaints/Cases_Declared_False/Unsubstantiated<br>Year=%{x}<br>value=%{y}<extra></extra>",
         "legendgroup": "CPA_Complaints/Cases_Declared_False/Unsubstantiated",
         "marker": {
          "color": "#00cc96",
          "pattern": {
           "shape": ""
          }
         },
         "name": "CPA_Complaints/Cases_Declared_False/Unsubstantiated",
         "offsetgroup": "CPA_Complaints/Cases_Declared_False/Unsubstantiated",
         "orientation": "v",
         "showlegend": true,
         "textposition": "auto",
         "type": "bar",
         "x": [
          2001,
          2002,
          2003,
          2004,
          2005,
          2006,
          2007,
          2008,
          2009,
          2010
         ],
         "xaxis": "x",
         "y": [
          32141,
          17456,
          25823,
          29332,
          34590,
          34657,
          28412,
          29577,
          28120,
          31115
         ],
         "yaxis": "y"
        },
        {
         "alignmentgroup": "True",
         "hovertemplate": "variable=CPA_Complaints_Received/Alleged<br>Year=%{x}<br>value=%{y}<extra></extra>",
         "legendgroup": "CPA_Complaints_Received/Alleged",
         "marker": {
          "color": "#ab63fa",
          "pattern": {
           "shape": ""
          }
         },
         "name": "CPA_Complaints_Received/Alleged",
         "offsetgroup": "CPA_Complaints_Received/Alleged",
         "orientation": "v",
         "showlegend": true,
         "textposition": "auto",
         "type": "bar",
         "x": [
          2001,
          2002,
          2003,
          2004,
          2005,
          2006,
          2007,
          2008,
          2009,
          2010
         ],
         "xaxis": "x",
         "y": [
          58661,
          43393,
          55115,
          51060,
          61560,
          62822,
          51767,
          48939,
          54873,
          58438
         ],
         "yaxis": "y"
        },
        {
         "alignmentgroup": "True",
         "hovertemplate": "variable=CPA_No_of_Departmental_Enquiries<br>Year=%{x}<br>value=%{y}<extra></extra>",
         "legendgroup": "CPA_No_of_Departmental_Enquiries",
         "marker": {
          "color": "#FFA15A",
          "pattern": {
           "shape": ""
          }
         },
         "name": "CPA_No_of_Departmental_Enquiries",
         "offsetgroup": "CPA_No_of_Departmental_Enquiries",
         "orientation": "v",
         "showlegend": true,
         "textposition": "auto",
         "type": "bar",
         "x": [
          2001,
          2002,
          2003,
          2004,
          2005,
          2006,
          2007,
          2008,
          2009,
          2010
         ],
         "xaxis": "x",
         "y": [
          19844,
          11850,
          15169,
          15633,
          18940,
          15510,
          13953,
          17215,
          24302,
          21563
         ],
         "yaxis": "y"
        },
        {
         "alignmentgroup": "True",
         "hovertemplate": "variable=CPA_No_of_Magisterial_Enquiries<br>Year=%{x}<br>value=%{y}<extra></extra>",
         "legendgroup": "CPA_No_of_Magisterial_Enquiries",
         "marker": {
          "color": "#19d3f3",
          "pattern": {
           "shape": ""
          }
         },
         "name": "CPA_No_of_Magisterial_Enquiries",
         "offsetgroup": "CPA_No_of_Magisterial_Enquiries",
         "orientation": "v",
         "showlegend": true,
         "textposition": "auto",
         "type": "bar",
         "x": [
          2001,
          2002,
          2003,
          2004,
          2005,
          2006,
          2007,
          2008,
          2009,
          2010
         ],
         "xaxis": "x",
         "y": [
          3509,
          200,
          130,
          573,
          713,
          423,
          119,
          99,
          611,
          326
         ],
         "yaxis": "y"
        },
        {
         "alignmentgroup": "True",
         "hovertemplate": "variable=CPA_Cases_Sent_for_Trials/Charge-sheeted<br>Year=%{x}<br>value=%{y}<extra></extra>",
         "legendgroup": "CPA_Cases_Sent_for_Trials/Charge-sheeted",
         "marker": {
          "color": "#FF6692",
          "pattern": {
           "shape": ""
          }
         },
         "name": "CPA_Cases_Sent_for_Trials/Charge-sheeted",
         "offsetgroup": "CPA_Cases_Sent_for_Trials/Charge-sheeted",
         "orientation": "v",
         "showlegend": true,
         "textposition": "auto",
         "type": "bar",
         "x": [
          2001,
          2002,
          2003,
          2004,
          2005,
          2006,
          2007,
          2008,
          2009,
          2010
         ],
         "xaxis": "x",
         "y": [
          4477,
          888,
          1026,
          1191,
          9047,
          7936,
          941,
          1132,
          1618,
          861
         ],
         "yaxis": "y"
        },
        {
         "alignmentgroup": "True",
         "hovertemplate": "variable=CPA_No_of_Judicial_Enquiries<br>Year=%{x}<br>value=%{y}<extra></extra>",
         "legendgroup": "CPA_No_of_Judicial_Enquiries",
         "marker": {
          "color": "#B6E880",
          "pattern": {
           "shape": ""
          }
         },
         "name": "CPA_No_of_Judicial_Enquiries",
         "offsetgroup": "CPA_No_of_Judicial_Enquiries",
         "orientation": "v",
         "showlegend": true,
         "textposition": "auto",
         "type": "bar",
         "x": [
          2001,
          2002,
          2003,
          2004,
          2005,
          2006,
          2007,
          2008,
          2009,
          2010
         ],
         "xaxis": "x",
         "y": [
          438,
          280,
          365,
          383,
          288,
          295,
          278,
          204,
          481,
          268
         ],
         "yaxis": "y"
        },
        {
         "alignmentgroup": "True",
         "hovertemplate": "variable=CPB_Police_Personnel_Acquitted<br>Year=%{x}<br>value=%{y}<extra></extra>",
         "legendgroup": "CPB_Police_Personnel_Acquitted",
         "marker": {
          "color": "#FF97FF",
          "pattern": {
           "shape": ""
          }
         },
         "name": "CPB_Police_Personnel_Acquitted",
         "offsetgroup": "CPB_Police_Personnel_Acquitted",
         "orientation": "v",
         "showlegend": true,
         "textposition": "auto",
         "type": "bar",
         "x": [
          2001,
          2002,
          2003,
          2004,
          2005,
          2006,
          2007,
          2008,
          2009,
          2010
         ],
         "xaxis": "x",
         "y": [
          123,
          179,
          131,
          371,
          128,
          70,
          106,
          95,
          99,
          152
         ],
         "yaxis": "y"
        },
        {
         "alignmentgroup": "True",
         "hovertemplate": "variable=CPB_Police_Personnel_Convicted<br>Year=%{x}<br>value=%{y}<extra></extra>",
         "legendgroup": "CPB_Police_Personnel_Convicted",
         "marker": {
          "color": "#FECB52",
          "pattern": {
           "shape": ""
          }
         },
         "name": "CPB_Police_Personnel_Convicted",
         "offsetgroup": "CPB_Police_Personnel_Convicted",
         "orientation": "v",
         "showlegend": true,
         "textposition": "auto",
         "type": "bar",
         "x": [
          2001,
          2002,
          2003,
          2004,
          2005,
          2006,
          2007,
          2008,
          2009,
          2010
         ],
         "xaxis": "x",
         "y": [
          43,
          52,
          45,
          55,
          97,
          24,
          43,
          33,
          43,
          53
         ],
         "yaxis": "y"
        },
        {
         "alignmentgroup": "True",
         "hovertemplate": "variable=CPB_Police_Personnel_sent_up_for_Trial<br>Year=%{x}<br>value=%{y}<extra></extra>",
         "legendgroup": "CPB_Police_Personnel_sent_up_for_Trial",
         "marker": {
          "color": "#636efa",
          "pattern": {
           "shape": ""
          }
         },
         "name": "CPB_Police_Personnel_sent_up_for_Trial",
         "offsetgroup": "CPB_Police_Personnel_sent_up_for_Trial",
         "orientation": "v",
         "showlegend": true,
         "textposition": "auto",
         "type": "bar",
         "x": [
          2001,
          2002,
          2003,
          2004,
          2005,
          2006,
          2007,
          2008,
          2009,
          2010
         ],
         "xaxis": "x",
         "y": [
          1524,
          1305,
          1216,
          1517,
          1668,
          3062,
          1273,
          1245,
          1279,
          1107
         ],
         "yaxis": "y"
        },
        {
         "alignmentgroup": "True",
         "hovertemplate": "variable=CPB_Police_Personnel_Trial_Completed<br>Year=%{x}<br>value=%{y}<extra></extra>",
         "legendgroup": "CPB_Police_Personnel_Trial_Completed",
         "marker": {
          "color": "#EF553B",
          "pattern": {
           "shape": ""
          }
         },
         "name": "CPB_Police_Personnel_Trial_Completed",
         "offsetgroup": "CPB_Police_Personnel_Trial_Completed",
         "orientation": "v",
         "showlegend": true,
         "textposition": "auto",
         "type": "bar",
         "x": [
          2001,
          2002,
          2003,
          2004,
          2005,
          2006,
          2007,
          2008,
          2009,
          2010
         ],
         "xaxis": "x",
         "y": [
          166,
          231,
          176,
          426,
          225,
          94,
          149,
          128,
          142,
          205
         ],
         "yaxis": "y"
        },
        {
         "alignmentgroup": "True",
         "hovertemplate": "variable=CPB_Police_Personnel_Cases_Withdrawn_or_Otherwise_disposed_of<br>Year=%{x}<br>value=%{y}<extra></extra>",
         "legendgroup": "CPB_Police_Personnel_Cases_Withdrawn_or_Otherwise_disposed_of",
         "marker": {
          "color": "#00cc96",
          "pattern": {
           "shape": ""
          }
         },
         "name": "CPB_Police_Personnel_Cases_Withdrawn_or_Otherwise_disposed_of",
         "offsetgroup": "CPB_Police_Personnel_Cases_Withdrawn_or_Otherwise_disposed_of",
         "orientation": "v",
         "showlegend": true,
         "textposition": "auto",
         "type": "bar",
         "x": [
          2001,
          2002,
          2003,
          2004,
          2005,
          2006,
          2007,
          2008,
          2009,
          2010
         ],
         "xaxis": "x",
         "y": [
          157,
          258,
          146,
          486,
          373,
          133,
          199,
          125,
          132,
          141
         ],
         "yaxis": "y"
        },
        {
         "alignmentgroup": "True",
         "hovertemplate": "variable=CPC_Police_personnel_Cases_Trial_Completed<br>Year=%{x}<br>value=%{y}<extra></extra>",
         "legendgroup": "CPC_Police_personnel_Cases_Trial_Completed",
         "marker": {
          "color": "#ab63fa",
          "pattern": {
           "shape": ""
          }
         },
         "name": "CPC_Police_personnel_Cases_Trial_Completed",
         "offsetgroup": "CPC_Police_personnel_Cases_Trial_Completed",
         "orientation": "v",
         "showlegend": true,
         "textposition": "auto",
         "type": "bar",
         "x": [
          2001,
          2002,
          2003,
          2004,
          2005,
          2006,
          2007,
          2008,
          2009,
          2010
         ],
         "xaxis": "x",
         "y": [
          13137,
          9051,
          9527,
          7247,
          10939,
          9081,
          8595,
          9757,
          15356,
          16876
         ],
         "yaxis": "y"
        },
        {
         "alignmentgroup": "True",
         "hovertemplate": "variable=CPC_Police_Personnel_Cases_Withdrawn_or_Otherwise_disposed_of<br>Year=%{x}<br>value=%{y}<extra></extra>",
         "legendgroup": "CPC_Police_Personnel_Cases_Withdrawn_or_Otherwise_disposed_of",
         "marker": {
          "color": "#FFA15A",
          "pattern": {
           "shape": ""
          }
         },
         "name": "CPC_Police_Personnel_Cases_Withdrawn_or_Otherwise_disposed_of",
         "offsetgroup": "CPC_Police_Personnel_Cases_Withdrawn_or_Otherwise_disposed_of",
         "orientation": "v",
         "showlegend": true,
         "textposition": "auto",
         "type": "bar",
         "x": [
          2001,
          2002,
          2003,
          2004,
          2005,
          2006,
          2007,
          2008,
          2009,
          2010
         ],
         "xaxis": "x",
         "y": [
          5756,
          4566,
          4713,
          5482,
          4447,
          5107,
          2329,
          3219,
          4687,
          5125
         ],
         "yaxis": "y"
        },
        {
         "alignmentgroup": "True",
         "hovertemplate": "variable=CPC_Police_Personnel_Disciplinary_Action_Initiated<br>Year=%{x}<br>value=%{y}<extra></extra>",
         "legendgroup": "CPC_Police_Personnel_Disciplinary_Action_Initiated",
         "marker": {
          "color": "#19d3f3",
          "pattern": {
           "shape": ""
          }
         },
         "name": "CPC_Police_Personnel_Disciplinary_Action_Initiated",
         "offsetgroup": "CPC_Police_Personnel_Disciplinary_Action_Initiated",
         "orientation": "v",
         "showlegend": true,
         "textposition": "auto",
         "type": "bar",
         "x": [
          2001,
          2002,
          2003,
          2004,
          2005,
          2006,
          2007,
          2008,
          2009,
          2010
         ],
         "xaxis": "x",
         "y": [
          29748,
          22276,
          20321,
          19269,
          22503,
          21810,
          19187,
          22124,
          28819,
          27723
         ],
         "yaxis": "y"
        },
        {
         "alignmentgroup": "True",
         "hovertemplate": "variable=CPC_Police_Personnel_Dismissal/Removal_from_Service<br>Year=%{x}<br>value=%{y}<extra></extra>",
         "legendgroup": "CPC_Police_Personnel_Dismissal/Removal_from_Service",
         "marker": {
          "color": "#FF6692",
          "pattern": {
           "shape": ""
          }
         },
         "name": "CPC_Police_Personnel_Dismissal/Removal_from_Service",
         "offsetgroup": "CPC_Police_Personnel_Dismissal/Removal_from_Service",
         "orientation": "v",
         "showlegend": true,
         "textposition": "auto",
         "type": "bar",
         "x": [
          2001,
          2002,
          2003,
          2004,
          2005,
          2006,
          2007,
          2008,
          2009,
          2010
         ],
         "xaxis": "x",
         "y": [
          922,
          726,
          835,
          752,
          856,
          1020,
          665,
          879,
          647,
          666
         ],
         "yaxis": "y"
        },
        {
         "alignmentgroup": "True",
         "hovertemplate": "variable=CPC_Police_Personnel_Major_Punishment_awarded<br>Year=%{x}<br>value=%{y}<extra></extra>",
         "legendgroup": "CPC_Police_Personnel_Major_Punishment_awarded",
         "marker": {
          "color": "#B6E880",
          "pattern": {
           "shape": ""
          }
         },
         "name": "CPC_Police_Personnel_Major_Punishment_awarded",
         "offsetgroup": "CPC_Police_Personnel_Major_Punishment_awarded",
         "orientation": "v",
         "showlegend": true,
         "textposition": "auto",
         "type": "bar",
         "x": [
          2001,
          2002,
          2003,
          2004,
          2005,
          2006,
          2007,
          2008,
          2009,
          2010
         ],
         "xaxis": "x",
         "y": [
          5914,
          5851,
          4762,
          5557,
          5151,
          6783,
          4650,
          4541,
          4227,
          4561
         ],
         "yaxis": "y"
        },
        {
         "alignmentgroup": "True",
         "hovertemplate": "variable=CPC_Police_Personnel_Minor_Punishment_awarded<br>Year=%{x}<br>value=%{y}<extra></extra>",
         "legendgroup": "CPC_Police_Personnel_Minor_Punishment_awarded",
         "marker": {
          "color": "#FF97FF",
          "pattern": {
           "shape": ""
          }
         },
         "name": "CPC_Police_Personnel_Minor_Punishment_awarded",
         "offsetgroup": "CPC_Police_Personnel_Minor_Punishment_awarded",
         "orientation": "v",
         "showlegend": true,
         "textposition": "auto",
         "type": "bar",
         "x": [
          2001,
          2002,
          2003,
          2004,
          2005,
          2006,
          2007,
          2008,
          2009,
          2010
         ],
         "xaxis": "x",
         "y": [
          29781,
          18704,
          15967,
          14666,
          15854,
          10423,
          15275,
          14653,
          18085,
          17006
         ],
         "yaxis": "y"
        }
       ],
       "layout": {
        "barmode": "relative",
        "legend": {
         "title": {
          "text": "variable"
         },
         "tracegroupgap": 0
        },
        "margin": {
         "t": 60
        },
        "template": {
         "data": {
          "bar": [
           {
            "error_x": {
             "color": "#2a3f5f"
            },
            "error_y": {
             "color": "#2a3f5f"
            },
            "marker": {
             "line": {
              "color": "#E5ECF6",
              "width": 0.5
             },
             "pattern": {
              "fillmode": "overlay",
              "size": 10,
              "solidity": 0.2
             }
            },
            "type": "bar"
           }
          ],
          "barpolar": [
           {
            "marker": {
             "line": {
              "color": "#E5ECF6",
              "width": 0.5
             },
             "pattern": {
              "fillmode": "overlay",
              "size": 10,
              "solidity": 0.2
             }
            },
            "type": "barpolar"
           }
          ],
          "carpet": [
           {
            "aaxis": {
             "endlinecolor": "#2a3f5f",
             "gridcolor": "white",
             "linecolor": "white",
             "minorgridcolor": "white",
             "startlinecolor": "#2a3f5f"
            },
            "baxis": {
             "endlinecolor": "#2a3f5f",
             "gridcolor": "white",
             "linecolor": "white",
             "minorgridcolor": "white",
             "startlinecolor": "#2a3f5f"
            },
            "type": "carpet"
           }
          ],
          "choropleth": [
           {
            "colorbar": {
             "outlinewidth": 0,
             "ticks": ""
            },
            "type": "choropleth"
           }
          ],
          "contour": [
           {
            "colorbar": {
             "outlinewidth": 0,
             "ticks": ""
            },
            "colorscale": [
             [
              0,
              "#0d0887"
             ],
             [
              0.1111111111111111,
              "#46039f"
             ],
             [
              0.2222222222222222,
              "#7201a8"
             ],
             [
              0.3333333333333333,
              "#9c179e"
             ],
             [
              0.4444444444444444,
              "#bd3786"
             ],
             [
              0.5555555555555556,
              "#d8576b"
             ],
             [
              0.6666666666666666,
              "#ed7953"
             ],
             [
              0.7777777777777778,
              "#fb9f3a"
             ],
             [
              0.8888888888888888,
              "#fdca26"
             ],
             [
              1,
              "#f0f921"
             ]
            ],
            "type": "contour"
           }
          ],
          "contourcarpet": [
           {
            "colorbar": {
             "outlinewidth": 0,
             "ticks": ""
            },
            "type": "contourcarpet"
           }
          ],
          "heatmap": [
           {
            "colorbar": {
             "outlinewidth": 0,
             "ticks": ""
            },
            "colorscale": [
             [
              0,
              "#0d0887"
             ],
             [
              0.1111111111111111,
              "#46039f"
             ],
             [
              0.2222222222222222,
              "#7201a8"
             ],
             [
              0.3333333333333333,
              "#9c179e"
             ],
             [
              0.4444444444444444,
              "#bd3786"
             ],
             [
              0.5555555555555556,
              "#d8576b"
             ],
             [
              0.6666666666666666,
              "#ed7953"
             ],
             [
              0.7777777777777778,
              "#fb9f3a"
             ],
             [
              0.8888888888888888,
              "#fdca26"
             ],
             [
              1,
              "#f0f921"
             ]
            ],
            "type": "heatmap"
           }
          ],
          "heatmapgl": [
           {
            "colorbar": {
             "outlinewidth": 0,
             "ticks": ""
            },
            "colorscale": [
             [
              0,
              "#0d0887"
             ],
             [
              0.1111111111111111,
              "#46039f"
             ],
             [
              0.2222222222222222,
              "#7201a8"
             ],
             [
              0.3333333333333333,
              "#9c179e"
             ],
             [
              0.4444444444444444,
              "#bd3786"
             ],
             [
              0.5555555555555556,
              "#d8576b"
             ],
             [
              0.6666666666666666,
              "#ed7953"
             ],
             [
              0.7777777777777778,
              "#fb9f3a"
             ],
             [
              0.8888888888888888,
              "#fdca26"
             ],
             [
              1,
              "#f0f921"
             ]
            ],
            "type": "heatmapgl"
           }
          ],
          "histogram": [
           {
            "marker": {
             "pattern": {
              "fillmode": "overlay",
              "size": 10,
              "solidity": 0.2
             }
            },
            "type": "histogram"
           }
          ],
          "histogram2d": [
           {
            "colorbar": {
             "outlinewidth": 0,
             "ticks": ""
            },
            "colorscale": [
             [
              0,
              "#0d0887"
             ],
             [
              0.1111111111111111,
              "#46039f"
             ],
             [
              0.2222222222222222,
              "#7201a8"
             ],
             [
              0.3333333333333333,
              "#9c179e"
             ],
             [
              0.4444444444444444,
              "#bd3786"
             ],
             [
              0.5555555555555556,
              "#d8576b"
             ],
             [
              0.6666666666666666,
              "#ed7953"
             ],
             [
              0.7777777777777778,
              "#fb9f3a"
             ],
             [
              0.8888888888888888,
              "#fdca26"
             ],
             [
              1,
              "#f0f921"
             ]
            ],
            "type": "histogram2d"
           }
          ],
          "histogram2dcontour": [
           {
            "colorbar": {
             "outlinewidth": 0,
             "ticks": ""
            },
            "colorscale": [
             [
              0,
              "#0d0887"
             ],
             [
              0.1111111111111111,
              "#46039f"
             ],
             [
              0.2222222222222222,
              "#7201a8"
             ],
             [
              0.3333333333333333,
              "#9c179e"
             ],
             [
              0.4444444444444444,
              "#bd3786"
             ],
             [
              0.5555555555555556,
              "#d8576b"
             ],
             [
              0.6666666666666666,
              "#ed7953"
             ],
             [
              0.7777777777777778,
              "#fb9f3a"
             ],
             [
              0.8888888888888888,
              "#fdca26"
             ],
             [
              1,
              "#f0f921"
             ]
            ],
            "type": "histogram2dcontour"
           }
          ],
          "mesh3d": [
           {
            "colorbar": {
             "outlinewidth": 0,
             "ticks": ""
            },
            "type": "mesh3d"
           }
          ],
          "parcoords": [
           {
            "line": {
             "colorbar": {
              "outlinewidth": 0,
              "ticks": ""
             }
            },
            "type": "parcoords"
           }
          ],
          "pie": [
           {
            "automargin": true,
            "type": "pie"
           }
          ],
          "scatter": [
           {
            "fillpattern": {
             "fillmode": "overlay",
             "size": 10,
             "solidity": 0.2
            },
            "type": "scatter"
           }
          ],
          "scatter3d": [
           {
            "line": {
             "colorbar": {
              "outlinewidth": 0,
              "ticks": ""
             }
            },
            "marker": {
             "colorbar": {
              "outlinewidth": 0,
              "ticks": ""
             }
            },
            "type": "scatter3d"
           }
          ],
          "scattercarpet": [
           {
            "marker": {
             "colorbar": {
              "outlinewidth": 0,
              "ticks": ""
             }
            },
            "type": "scattercarpet"
           }
          ],
          "scattergeo": [
           {
            "marker": {
             "colorbar": {
              "outlinewidth": 0,
              "ticks": ""
             }
            },
            "type": "scattergeo"
           }
          ],
          "scattergl": [
           {
            "marker": {
             "colorbar": {
              "outlinewidth": 0,
              "ticks": ""
             }
            },
            "type": "scattergl"
           }
          ],
          "scattermapbox": [
           {
            "marker": {
             "colorbar": {
              "outlinewidth": 0,
              "ticks": ""
             }
            },
            "type": "scattermapbox"
           }
          ],
          "scatterpolar": [
           {
            "marker": {
             "colorbar": {
              "outlinewidth": 0,
              "ticks": ""
             }
            },
            "type": "scatterpolar"
           }
          ],
          "scatterpolargl": [
           {
            "marker": {
             "colorbar": {
              "outlinewidth": 0,
              "ticks": ""
             }
            },
            "type": "scatterpolargl"
           }
          ],
          "scatterternary": [
           {
            "marker": {
             "colorbar": {
              "outlinewidth": 0,
              "ticks": ""
             }
            },
            "type": "scatterternary"
           }
          ],
          "surface": [
           {
            "colorbar": {
             "outlinewidth": 0,
             "ticks": ""
            },
            "colorscale": [
             [
              0,
              "#0d0887"
             ],
             [
              0.1111111111111111,
              "#46039f"
             ],
             [
              0.2222222222222222,
              "#7201a8"
             ],
             [
              0.3333333333333333,
              "#9c179e"
             ],
             [
              0.4444444444444444,
              "#bd3786"
             ],
             [
              0.5555555555555556,
              "#d8576b"
             ],
             [
              0.6666666666666666,
              "#ed7953"
             ],
             [
              0.7777777777777778,
              "#fb9f3a"
             ],
             [
              0.8888888888888888,
              "#fdca26"
             ],
             [
              1,
              "#f0f921"
             ]
            ],
            "type": "surface"
           }
          ],
          "table": [
           {
            "cells": {
             "fill": {
              "color": "#EBF0F8"
             },
             "line": {
              "color": "white"
             }
            },
            "header": {
             "fill": {
              "color": "#C8D4E3"
             },
             "line": {
              "color": "white"
             }
            },
            "type": "table"
           }
          ]
         },
         "layout": {
          "annotationdefaults": {
           "arrowcolor": "#2a3f5f",
           "arrowhead": 0,
           "arrowwidth": 1
          },
          "autotypenumbers": "strict",
          "coloraxis": {
           "colorbar": {
            "outlinewidth": 0,
            "ticks": ""
           }
          },
          "colorscale": {
           "diverging": [
            [
             0,
             "#8e0152"
            ],
            [
             0.1,
             "#c51b7d"
            ],
            [
             0.2,
             "#de77ae"
            ],
            [
             0.3,
             "#f1b6da"
            ],
            [
             0.4,
             "#fde0ef"
            ],
            [
             0.5,
             "#f7f7f7"
            ],
            [
             0.6,
             "#e6f5d0"
            ],
            [
             0.7,
             "#b8e186"
            ],
            [
             0.8,
             "#7fbc41"
            ],
            [
             0.9,
             "#4d9221"
            ],
            [
             1,
             "#276419"
            ]
           ],
           "sequential": [
            [
             0,
             "#0d0887"
            ],
            [
             0.1111111111111111,
             "#46039f"
            ],
            [
             0.2222222222222222,
             "#7201a8"
            ],
            [
             0.3333333333333333,
             "#9c179e"
            ],
            [
             0.4444444444444444,
             "#bd3786"
            ],
            [
             0.5555555555555556,
             "#d8576b"
            ],
            [
             0.6666666666666666,
             "#ed7953"
            ],
            [
             0.7777777777777778,
             "#fb9f3a"
            ],
            [
             0.8888888888888888,
             "#fdca26"
            ],
            [
             1,
             "#f0f921"
            ]
           ],
           "sequentialminus": [
            [
             0,
             "#0d0887"
            ],
            [
             0.1111111111111111,
             "#46039f"
            ],
            [
             0.2222222222222222,
             "#7201a8"
            ],
            [
             0.3333333333333333,
             "#9c179e"
            ],
            [
             0.4444444444444444,
             "#bd3786"
            ],
            [
             0.5555555555555556,
             "#d8576b"
            ],
            [
             0.6666666666666666,
             "#ed7953"
            ],
            [
             0.7777777777777778,
             "#fb9f3a"
            ],
            [
             0.8888888888888888,
             "#fdca26"
            ],
            [
             1,
             "#f0f921"
            ]
           ]
          },
          "colorway": [
           "#636efa",
           "#EF553B",
           "#00cc96",
           "#ab63fa",
           "#FFA15A",
           "#19d3f3",
           "#FF6692",
           "#B6E880",
           "#FF97FF",
           "#FECB52"
          ],
          "font": {
           "color": "#2a3f5f"
          },
          "geo": {
           "bgcolor": "white",
           "lakecolor": "white",
           "landcolor": "#E5ECF6",
           "showlakes": true,
           "showland": true,
           "subunitcolor": "white"
          },
          "hoverlabel": {
           "align": "left"
          },
          "hovermode": "closest",
          "mapbox": {
           "style": "light"
          },
          "paper_bgcolor": "white",
          "plot_bgcolor": "#E5ECF6",
          "polar": {
           "angularaxis": {
            "gridcolor": "white",
            "linecolor": "white",
            "ticks": ""
           },
           "bgcolor": "#E5ECF6",
           "radialaxis": {
            "gridcolor": "white",
            "linecolor": "white",
            "ticks": ""
           }
          },
          "scene": {
           "xaxis": {
            "backgroundcolor": "#E5ECF6",
            "gridcolor": "white",
            "gridwidth": 2,
            "linecolor": "white",
            "showbackground": true,
            "ticks": "",
            "zerolinecolor": "white"
           },
           "yaxis": {
            "backgroundcolor": "#E5ECF6",
            "gridcolor": "white",
            "gridwidth": 2,
            "linecolor": "white",
            "showbackground": true,
            "ticks": "",
            "zerolinecolor": "white"
           },
           "zaxis": {
            "backgroundcolor": "#E5ECF6",
            "gridcolor": "white",
            "gridwidth": 2,
            "linecolor": "white",
            "showbackground": true,
            "ticks": "",
            "zerolinecolor": "white"
           }
          },
          "shapedefaults": {
           "line": {
            "color": "#2a3f5f"
           }
          },
          "ternary": {
           "aaxis": {
            "gridcolor": "white",
            "linecolor": "white",
            "ticks": ""
           },
           "baxis": {
            "gridcolor": "white",
            "linecolor": "white",
            "ticks": ""
           },
           "bgcolor": "#E5ECF6",
           "caxis": {
            "gridcolor": "white",
            "linecolor": "white",
            "ticks": ""
           }
          },
          "title": {
           "x": 0.05
          },
          "xaxis": {
           "automargin": true,
           "gridcolor": "white",
           "linecolor": "white",
           "ticks": "",
           "title": {
            "standoff": 15
           },
           "zerolinecolor": "white",
           "zerolinewidth": 2
          },
          "yaxis": {
           "automargin": true,
           "gridcolor": "white",
           "linecolor": "white",
           "ticks": "",
           "title": {
            "standoff": 15
           },
           "zerolinecolor": "white",
           "zerolinewidth": 2
          }
         }
        },
        "xaxis": {
         "anchor": "y",
         "domain": [
          0,
          1
         ],
         "title": {
          "text": "Year"
         }
        },
        "yaxis": {
         "anchor": "x",
         "domain": [
          0,
          1
         ],
         "title": {
          "text": "value"
         }
        }
       }
      },
      "text/html": [
       "<div>                            <div id=\"989c6ec5-3e50-4e47-b402-6f011b194f99\" class=\"plotly-graph-div\" style=\"height:525px; width:100%;\"></div>            <script type=\"text/javascript\">                require([\"plotly\"], function(Plotly) {                    window.PLOTLYENV=window.PLOTLYENV || {};                                    if (document.getElementById(\"989c6ec5-3e50-4e47-b402-6f011b194f99\")) {                    Plotly.newPlot(                        \"989c6ec5-3e50-4e47-b402-6f011b194f99\",                        [{\"alignmentgroup\":\"True\",\"hovertemplate\":\"variable=CPA_Cases_Registered<br>Year=%{x}<br>value=%{y}<extra></extra>\",\"legendgroup\":\"CPA_Cases_Registered\",\"marker\":{\"color\":\"#636efa\",\"pattern\":{\"shape\":\"\"}},\"name\":\"CPA_Cases_Registered\",\"offsetgroup\":\"CPA_Cases_Registered\",\"orientation\":\"v\",\"showlegend\":true,\"textposition\":\"auto\",\"x\":[2001,2002,2003,2004,2005,2006,2007,2008,2009,2010],\"xaxis\":\"x\",\"y\":[7297,8978,8167,3362,9965,13546,7908,5445,14975,10470],\"yaxis\":\"y\",\"type\":\"bar\"},{\"alignmentgroup\":\"True\",\"hovertemplate\":\"variable=CPA_Cases_Reported_for_Dept._Action<br>Year=%{x}<br>value=%{y}<extra></extra>\",\"legendgroup\":\"CPA_Cases_Reported_for_Dept._Action\",\"marker\":{\"color\":\"#EF553B\",\"pattern\":{\"shape\":\"\"}},\"name\":\"CPA_Cases_Reported_for_Dept._Action\",\"offsetgroup\":\"CPA_Cases_Reported_for_Dept._Action\",\"orientation\":\"v\",\"showlegend\":true,\"textposition\":\"auto\",\"x\":[2001,2002,2003,2004,2005,2006,2007,2008,2009,2010],\"xaxis\":\"x\",\"y\":[4652,4952,7049,4715,5459,2503,3129,4596,9759,9665],\"yaxis\":\"y\",\"type\":\"bar\"},{\"alignmentgroup\":\"True\",\"hovertemplate\":\"variable=CPA_Complaints/Cases_Declared_False/Unsubstantiated<br>Year=%{x}<br>value=%{y}<extra></extra>\",\"legendgroup\":\"CPA_Complaints/Cases_Declared_False/Unsubstantiated\",\"marker\":{\"color\":\"#00cc96\",\"pattern\":{\"shape\":\"\"}},\"name\":\"CPA_Complaints/Cases_Declared_False/Unsubstantiated\",\"offsetgroup\":\"CPA_Complaints/Cases_Declared_False/Unsubstantiated\",\"orientation\":\"v\",\"showlegend\":true,\"textposition\":\"auto\",\"x\":[2001,2002,2003,2004,2005,2006,2007,2008,2009,2010],\"xaxis\":\"x\",\"y\":[32141,17456,25823,29332,34590,34657,28412,29577,28120,31115],\"yaxis\":\"y\",\"type\":\"bar\"},{\"alignmentgroup\":\"True\",\"hovertemplate\":\"variable=CPA_Complaints_Received/Alleged<br>Year=%{x}<br>value=%{y}<extra></extra>\",\"legendgroup\":\"CPA_Complaints_Received/Alleged\",\"marker\":{\"color\":\"#ab63fa\",\"pattern\":{\"shape\":\"\"}},\"name\":\"CPA_Complaints_Received/Alleged\",\"offsetgroup\":\"CPA_Complaints_Received/Alleged\",\"orientation\":\"v\",\"showlegend\":true,\"textposition\":\"auto\",\"x\":[2001,2002,2003,2004,2005,2006,2007,2008,2009,2010],\"xaxis\":\"x\",\"y\":[58661,43393,55115,51060,61560,62822,51767,48939,54873,58438],\"yaxis\":\"y\",\"type\":\"bar\"},{\"alignmentgroup\":\"True\",\"hovertemplate\":\"variable=CPA_No_of_Departmental_Enquiries<br>Year=%{x}<br>value=%{y}<extra></extra>\",\"legendgroup\":\"CPA_No_of_Departmental_Enquiries\",\"marker\":{\"color\":\"#FFA15A\",\"pattern\":{\"shape\":\"\"}},\"name\":\"CPA_No_of_Departmental_Enquiries\",\"offsetgroup\":\"CPA_No_of_Departmental_Enquiries\",\"orientation\":\"v\",\"showlegend\":true,\"textposition\":\"auto\",\"x\":[2001,2002,2003,2004,2005,2006,2007,2008,2009,2010],\"xaxis\":\"x\",\"y\":[19844,11850,15169,15633,18940,15510,13953,17215,24302,21563],\"yaxis\":\"y\",\"type\":\"bar\"},{\"alignmentgroup\":\"True\",\"hovertemplate\":\"variable=CPA_No_of_Magisterial_Enquiries<br>Year=%{x}<br>value=%{y}<extra></extra>\",\"legendgroup\":\"CPA_No_of_Magisterial_Enquiries\",\"marker\":{\"color\":\"#19d3f3\",\"pattern\":{\"shape\":\"\"}},\"name\":\"CPA_No_of_Magisterial_Enquiries\",\"offsetgroup\":\"CPA_No_of_Magisterial_Enquiries\",\"orientation\":\"v\",\"showlegend\":true,\"textposition\":\"auto\",\"x\":[2001,2002,2003,2004,2005,2006,2007,2008,2009,2010],\"xaxis\":\"x\",\"y\":[3509,200,130,573,713,423,119,99,611,326],\"yaxis\":\"y\",\"type\":\"bar\"},{\"alignmentgroup\":\"True\",\"hovertemplate\":\"variable=CPA_Cases_Sent_for_Trials/Charge-sheeted<br>Year=%{x}<br>value=%{y}<extra></extra>\",\"legendgroup\":\"CPA_Cases_Sent_for_Trials/Charge-sheeted\",\"marker\":{\"color\":\"#FF6692\",\"pattern\":{\"shape\":\"\"}},\"name\":\"CPA_Cases_Sent_for_Trials/Charge-sheeted\",\"offsetgroup\":\"CPA_Cases_Sent_for_Trials/Charge-sheeted\",\"orientation\":\"v\",\"showlegend\":true,\"textposition\":\"auto\",\"x\":[2001,2002,2003,2004,2005,2006,2007,2008,2009,2010],\"xaxis\":\"x\",\"y\":[4477,888,1026,1191,9047,7936,941,1132,1618,861],\"yaxis\":\"y\",\"type\":\"bar\"},{\"alignmentgroup\":\"True\",\"hovertemplate\":\"variable=CPA_No_of_Judicial_Enquiries<br>Year=%{x}<br>value=%{y}<extra></extra>\",\"legendgroup\":\"CPA_No_of_Judicial_Enquiries\",\"marker\":{\"color\":\"#B6E880\",\"pattern\":{\"shape\":\"\"}},\"name\":\"CPA_No_of_Judicial_Enquiries\",\"offsetgroup\":\"CPA_No_of_Judicial_Enquiries\",\"orientation\":\"v\",\"showlegend\":true,\"textposition\":\"auto\",\"x\":[2001,2002,2003,2004,2005,2006,2007,2008,2009,2010],\"xaxis\":\"x\",\"y\":[438,280,365,383,288,295,278,204,481,268],\"yaxis\":\"y\",\"type\":\"bar\"},{\"alignmentgroup\":\"True\",\"hovertemplate\":\"variable=CPB_Police_Personnel_Acquitted<br>Year=%{x}<br>value=%{y}<extra></extra>\",\"legendgroup\":\"CPB_Police_Personnel_Acquitted\",\"marker\":{\"color\":\"#FF97FF\",\"pattern\":{\"shape\":\"\"}},\"name\":\"CPB_Police_Personnel_Acquitted\",\"offsetgroup\":\"CPB_Police_Personnel_Acquitted\",\"orientation\":\"v\",\"showlegend\":true,\"textposition\":\"auto\",\"x\":[2001,2002,2003,2004,2005,2006,2007,2008,2009,2010],\"xaxis\":\"x\",\"y\":[123,179,131,371,128,70,106,95,99,152],\"yaxis\":\"y\",\"type\":\"bar\"},{\"alignmentgroup\":\"True\",\"hovertemplate\":\"variable=CPB_Police_Personnel_Convicted<br>Year=%{x}<br>value=%{y}<extra></extra>\",\"legendgroup\":\"CPB_Police_Personnel_Convicted\",\"marker\":{\"color\":\"#FECB52\",\"pattern\":{\"shape\":\"\"}},\"name\":\"CPB_Police_Personnel_Convicted\",\"offsetgroup\":\"CPB_Police_Personnel_Convicted\",\"orientation\":\"v\",\"showlegend\":true,\"textposition\":\"auto\",\"x\":[2001,2002,2003,2004,2005,2006,2007,2008,2009,2010],\"xaxis\":\"x\",\"y\":[43,52,45,55,97,24,43,33,43,53],\"yaxis\":\"y\",\"type\":\"bar\"},{\"alignmentgroup\":\"True\",\"hovertemplate\":\"variable=CPB_Police_Personnel_sent_up_for_Trial<br>Year=%{x}<br>value=%{y}<extra></extra>\",\"legendgroup\":\"CPB_Police_Personnel_sent_up_for_Trial\",\"marker\":{\"color\":\"#636efa\",\"pattern\":{\"shape\":\"\"}},\"name\":\"CPB_Police_Personnel_sent_up_for_Trial\",\"offsetgroup\":\"CPB_Police_Personnel_sent_up_for_Trial\",\"orientation\":\"v\",\"showlegend\":true,\"textposition\":\"auto\",\"x\":[2001,2002,2003,2004,2005,2006,2007,2008,2009,2010],\"xaxis\":\"x\",\"y\":[1524,1305,1216,1517,1668,3062,1273,1245,1279,1107],\"yaxis\":\"y\",\"type\":\"bar\"},{\"alignmentgroup\":\"True\",\"hovertemplate\":\"variable=CPB_Police_Personnel_Trial_Completed<br>Year=%{x}<br>value=%{y}<extra></extra>\",\"legendgroup\":\"CPB_Police_Personnel_Trial_Completed\",\"marker\":{\"color\":\"#EF553B\",\"pattern\":{\"shape\":\"\"}},\"name\":\"CPB_Police_Personnel_Trial_Completed\",\"offsetgroup\":\"CPB_Police_Personnel_Trial_Completed\",\"orientation\":\"v\",\"showlegend\":true,\"textposition\":\"auto\",\"x\":[2001,2002,2003,2004,2005,2006,2007,2008,2009,2010],\"xaxis\":\"x\",\"y\":[166,231,176,426,225,94,149,128,142,205],\"yaxis\":\"y\",\"type\":\"bar\"},{\"alignmentgroup\":\"True\",\"hovertemplate\":\"variable=CPB_Police_Personnel_Cases_Withdrawn_or_Otherwise_disposed_of<br>Year=%{x}<br>value=%{y}<extra></extra>\",\"legendgroup\":\"CPB_Police_Personnel_Cases_Withdrawn_or_Otherwise_disposed_of\",\"marker\":{\"color\":\"#00cc96\",\"pattern\":{\"shape\":\"\"}},\"name\":\"CPB_Police_Personnel_Cases_Withdrawn_or_Otherwise_disposed_of\",\"offsetgroup\":\"CPB_Police_Personnel_Cases_Withdrawn_or_Otherwise_disposed_of\",\"orientation\":\"v\",\"showlegend\":true,\"textposition\":\"auto\",\"x\":[2001,2002,2003,2004,2005,2006,2007,2008,2009,2010],\"xaxis\":\"x\",\"y\":[157,258,146,486,373,133,199,125,132,141],\"yaxis\":\"y\",\"type\":\"bar\"},{\"alignmentgroup\":\"True\",\"hovertemplate\":\"variable=CPC_Police_personnel_Cases_Trial_Completed<br>Year=%{x}<br>value=%{y}<extra></extra>\",\"legendgroup\":\"CPC_Police_personnel_Cases_Trial_Completed\",\"marker\":{\"color\":\"#ab63fa\",\"pattern\":{\"shape\":\"\"}},\"name\":\"CPC_Police_personnel_Cases_Trial_Completed\",\"offsetgroup\":\"CPC_Police_personnel_Cases_Trial_Completed\",\"orientation\":\"v\",\"showlegend\":true,\"textposition\":\"auto\",\"x\":[2001,2002,2003,2004,2005,2006,2007,2008,2009,2010],\"xaxis\":\"x\",\"y\":[13137,9051,9527,7247,10939,9081,8595,9757,15356,16876],\"yaxis\":\"y\",\"type\":\"bar\"},{\"alignmentgroup\":\"True\",\"hovertemplate\":\"variable=CPC_Police_Personnel_Cases_Withdrawn_or_Otherwise_disposed_of<br>Year=%{x}<br>value=%{y}<extra></extra>\",\"legendgroup\":\"CPC_Police_Personnel_Cases_Withdrawn_or_Otherwise_disposed_of\",\"marker\":{\"color\":\"#FFA15A\",\"pattern\":{\"shape\":\"\"}},\"name\":\"CPC_Police_Personnel_Cases_Withdrawn_or_Otherwise_disposed_of\",\"offsetgroup\":\"CPC_Police_Personnel_Cases_Withdrawn_or_Otherwise_disposed_of\",\"orientation\":\"v\",\"showlegend\":true,\"textposition\":\"auto\",\"x\":[2001,2002,2003,2004,2005,2006,2007,2008,2009,2010],\"xaxis\":\"x\",\"y\":[5756,4566,4713,5482,4447,5107,2329,3219,4687,5125],\"yaxis\":\"y\",\"type\":\"bar\"},{\"alignmentgroup\":\"True\",\"hovertemplate\":\"variable=CPC_Police_Personnel_Disciplinary_Action_Initiated<br>Year=%{x}<br>value=%{y}<extra></extra>\",\"legendgroup\":\"CPC_Police_Personnel_Disciplinary_Action_Initiated\",\"marker\":{\"color\":\"#19d3f3\",\"pattern\":{\"shape\":\"\"}},\"name\":\"CPC_Police_Personnel_Disciplinary_Action_Initiated\",\"offsetgroup\":\"CPC_Police_Personnel_Disciplinary_Action_Initiated\",\"orientation\":\"v\",\"showlegend\":true,\"textposition\":\"auto\",\"x\":[2001,2002,2003,2004,2005,2006,2007,2008,2009,2010],\"xaxis\":\"x\",\"y\":[29748,22276,20321,19269,22503,21810,19187,22124,28819,27723],\"yaxis\":\"y\",\"type\":\"bar\"},{\"alignmentgroup\":\"True\",\"hovertemplate\":\"variable=CPC_Police_Personnel_Dismissal/Removal_from_Service<br>Year=%{x}<br>value=%{y}<extra></extra>\",\"legendgroup\":\"CPC_Police_Personnel_Dismissal/Removal_from_Service\",\"marker\":{\"color\":\"#FF6692\",\"pattern\":{\"shape\":\"\"}},\"name\":\"CPC_Police_Personnel_Dismissal/Removal_from_Service\",\"offsetgroup\":\"CPC_Police_Personnel_Dismissal/Removal_from_Service\",\"orientation\":\"v\",\"showlegend\":true,\"textposition\":\"auto\",\"x\":[2001,2002,2003,2004,2005,2006,2007,2008,2009,2010],\"xaxis\":\"x\",\"y\":[922,726,835,752,856,1020,665,879,647,666],\"yaxis\":\"y\",\"type\":\"bar\"},{\"alignmentgroup\":\"True\",\"hovertemplate\":\"variable=CPC_Police_Personnel_Major_Punishment_awarded<br>Year=%{x}<br>value=%{y}<extra></extra>\",\"legendgroup\":\"CPC_Police_Personnel_Major_Punishment_awarded\",\"marker\":{\"color\":\"#B6E880\",\"pattern\":{\"shape\":\"\"}},\"name\":\"CPC_Police_Personnel_Major_Punishment_awarded\",\"offsetgroup\":\"CPC_Police_Personnel_Major_Punishment_awarded\",\"orientation\":\"v\",\"showlegend\":true,\"textposition\":\"auto\",\"x\":[2001,2002,2003,2004,2005,2006,2007,2008,2009,2010],\"xaxis\":\"x\",\"y\":[5914,5851,4762,5557,5151,6783,4650,4541,4227,4561],\"yaxis\":\"y\",\"type\":\"bar\"},{\"alignmentgroup\":\"True\",\"hovertemplate\":\"variable=CPC_Police_Personnel_Minor_Punishment_awarded<br>Year=%{x}<br>value=%{y}<extra></extra>\",\"legendgroup\":\"CPC_Police_Personnel_Minor_Punishment_awarded\",\"marker\":{\"color\":\"#FF97FF\",\"pattern\":{\"shape\":\"\"}},\"name\":\"CPC_Police_Personnel_Minor_Punishment_awarded\",\"offsetgroup\":\"CPC_Police_Personnel_Minor_Punishment_awarded\",\"orientation\":\"v\",\"showlegend\":true,\"textposition\":\"auto\",\"x\":[2001,2002,2003,2004,2005,2006,2007,2008,2009,2010],\"xaxis\":\"x\",\"y\":[29781,18704,15967,14666,15854,10423,15275,14653,18085,17006],\"yaxis\":\"y\",\"type\":\"bar\"}],                        {\"template\":{\"data\":{\"histogram2dcontour\":[{\"type\":\"histogram2dcontour\",\"colorbar\":{\"outlinewidth\":0,\"ticks\":\"\"},\"colorscale\":[[0.0,\"#0d0887\"],[0.1111111111111111,\"#46039f\"],[0.2222222222222222,\"#7201a8\"],[0.3333333333333333,\"#9c179e\"],[0.4444444444444444,\"#bd3786\"],[0.5555555555555556,\"#d8576b\"],[0.6666666666666666,\"#ed7953\"],[0.7777777777777778,\"#fb9f3a\"],[0.8888888888888888,\"#fdca26\"],[1.0,\"#f0f921\"]]}],\"choropleth\":[{\"type\":\"choropleth\",\"colorbar\":{\"outlinewidth\":0,\"ticks\":\"\"}}],\"histogram2d\":[{\"type\":\"histogram2d\",\"colorbar\":{\"outlinewidth\":0,\"ticks\":\"\"},\"colorscale\":[[0.0,\"#0d0887\"],[0.1111111111111111,\"#46039f\"],[0.2222222222222222,\"#7201a8\"],[0.3333333333333333,\"#9c179e\"],[0.4444444444444444,\"#bd3786\"],[0.5555555555555556,\"#d8576b\"],[0.6666666666666666,\"#ed7953\"],[0.7777777777777778,\"#fb9f3a\"],[0.8888888888888888,\"#fdca26\"],[1.0,\"#f0f921\"]]}],\"heatmap\":[{\"type\":\"heatmap\",\"colorbar\":{\"outlinewidth\":0,\"ticks\":\"\"},\"colorscale\":[[0.0,\"#0d0887\"],[0.1111111111111111,\"#46039f\"],[0.2222222222222222,\"#7201a8\"],[0.3333333333333333,\"#9c179e\"],[0.4444444444444444,\"#bd3786\"],[0.5555555555555556,\"#d8576b\"],[0.6666666666666666,\"#ed7953\"],[0.7777777777777778,\"#fb9f3a\"],[0.8888888888888888,\"#fdca26\"],[1.0,\"#f0f921\"]]}],\"heatmapgl\":[{\"type\":\"heatmapgl\",\"colorbar\":{\"outlinewidth\":0,\"ticks\":\"\"},\"colorscale\":[[0.0,\"#0d0887\"],[0.1111111111111111,\"#46039f\"],[0.2222222222222222,\"#7201a8\"],[0.3333333333333333,\"#9c179e\"],[0.4444444444444444,\"#bd3786\"],[0.5555555555555556,\"#d8576b\"],[0.6666666666666666,\"#ed7953\"],[0.7777777777777778,\"#fb9f3a\"],[0.8888888888888888,\"#fdca26\"],[1.0,\"#f0f921\"]]}],\"contourcarpet\":[{\"type\":\"contourcarpet\",\"colorbar\":{\"outlinewidth\":0,\"ticks\":\"\"}}],\"contour\":[{\"type\":\"contour\",\"colorbar\":{\"outlinewidth\":0,\"ticks\":\"\"},\"colorscale\":[[0.0,\"#0d0887\"],[0.1111111111111111,\"#46039f\"],[0.2222222222222222,\"#7201a8\"],[0.3333333333333333,\"#9c179e\"],[0.4444444444444444,\"#bd3786\"],[0.5555555555555556,\"#d8576b\"],[0.6666666666666666,\"#ed7953\"],[0.7777777777777778,\"#fb9f3a\"],[0.8888888888888888,\"#fdca26\"],[1.0,\"#f0f921\"]]}],\"surface\":[{\"type\":\"surface\",\"colorbar\":{\"outlinewidth\":0,\"ticks\":\"\"},\"colorscale\":[[0.0,\"#0d0887\"],[0.1111111111111111,\"#46039f\"],[0.2222222222222222,\"#7201a8\"],[0.3333333333333333,\"#9c179e\"],[0.4444444444444444,\"#bd3786\"],[0.5555555555555556,\"#d8576b\"],[0.6666666666666666,\"#ed7953\"],[0.7777777777777778,\"#fb9f3a\"],[0.8888888888888888,\"#fdca26\"],[1.0,\"#f0f921\"]]}],\"mesh3d\":[{\"type\":\"mesh3d\",\"colorbar\":{\"outlinewidth\":0,\"ticks\":\"\"}}],\"scatter\":[{\"fillpattern\":{\"fillmode\":\"overlay\",\"size\":10,\"solidity\":0.2},\"type\":\"scatter\"}],\"parcoords\":[{\"type\":\"parcoords\",\"line\":{\"colorbar\":{\"outlinewidth\":0,\"ticks\":\"\"}}}],\"scatterpolargl\":[{\"type\":\"scatterpolargl\",\"marker\":{\"colorbar\":{\"outlinewidth\":0,\"ticks\":\"\"}}}],\"bar\":[{\"error_x\":{\"color\":\"#2a3f5f\"},\"error_y\":{\"color\":\"#2a3f5f\"},\"marker\":{\"line\":{\"color\":\"#E5ECF6\",\"width\":0.5},\"pattern\":{\"fillmode\":\"overlay\",\"size\":10,\"solidity\":0.2}},\"type\":\"bar\"}],\"scattergeo\":[{\"type\":\"scattergeo\",\"marker\":{\"colorbar\":{\"outlinewidth\":0,\"ticks\":\"\"}}}],\"scatterpolar\":[{\"type\":\"scatterpolar\",\"marker\":{\"colorbar\":{\"outlinewidth\":0,\"ticks\":\"\"}}}],\"histogram\":[{\"marker\":{\"pattern\":{\"fillmode\":\"overlay\",\"size\":10,\"solidity\":0.2}},\"type\":\"histogram\"}],\"scattergl\":[{\"type\":\"scattergl\",\"marker\":{\"colorbar\":{\"outlinewidth\":0,\"ticks\":\"\"}}}],\"scatter3d\":[{\"type\":\"scatter3d\",\"line\":{\"colorbar\":{\"outlinewidth\":0,\"ticks\":\"\"}},\"marker\":{\"colorbar\":{\"outlinewidth\":0,\"ticks\":\"\"}}}],\"scattermapbox\":[{\"type\":\"scattermapbox\",\"marker\":{\"colorbar\":{\"outlinewidth\":0,\"ticks\":\"\"}}}],\"scatterternary\":[{\"type\":\"scatterternary\",\"marker\":{\"colorbar\":{\"outlinewidth\":0,\"ticks\":\"\"}}}],\"scattercarpet\":[{\"type\":\"scattercarpet\",\"marker\":{\"colorbar\":{\"outlinewidth\":0,\"ticks\":\"\"}}}],\"carpet\":[{\"aaxis\":{\"endlinecolor\":\"#2a3f5f\",\"gridcolor\":\"white\",\"linecolor\":\"white\",\"minorgridcolor\":\"white\",\"startlinecolor\":\"#2a3f5f\"},\"baxis\":{\"endlinecolor\":\"#2a3f5f\",\"gridcolor\":\"white\",\"linecolor\":\"white\",\"minorgridcolor\":\"white\",\"startlinecolor\":\"#2a3f5f\"},\"type\":\"carpet\"}],\"table\":[{\"cells\":{\"fill\":{\"color\":\"#EBF0F8\"},\"line\":{\"color\":\"white\"}},\"header\":{\"fill\":{\"color\":\"#C8D4E3\"},\"line\":{\"color\":\"white\"}},\"type\":\"table\"}],\"barpolar\":[{\"marker\":{\"line\":{\"color\":\"#E5ECF6\",\"width\":0.5},\"pattern\":{\"fillmode\":\"overlay\",\"size\":10,\"solidity\":0.2}},\"type\":\"barpolar\"}],\"pie\":[{\"automargin\":true,\"type\":\"pie\"}]},\"layout\":{\"autotypenumbers\":\"strict\",\"colorway\":[\"#636efa\",\"#EF553B\",\"#00cc96\",\"#ab63fa\",\"#FFA15A\",\"#19d3f3\",\"#FF6692\",\"#B6E880\",\"#FF97FF\",\"#FECB52\"],\"font\":{\"color\":\"#2a3f5f\"},\"hovermode\":\"closest\",\"hoverlabel\":{\"align\":\"left\"},\"paper_bgcolor\":\"white\",\"plot_bgcolor\":\"#E5ECF6\",\"polar\":{\"bgcolor\":\"#E5ECF6\",\"angularaxis\":{\"gridcolor\":\"white\",\"linecolor\":\"white\",\"ticks\":\"\"},\"radialaxis\":{\"gridcolor\":\"white\",\"linecolor\":\"white\",\"ticks\":\"\"}},\"ternary\":{\"bgcolor\":\"#E5ECF6\",\"aaxis\":{\"gridcolor\":\"white\",\"linecolor\":\"white\",\"ticks\":\"\"},\"baxis\":{\"gridcolor\":\"white\",\"linecolor\":\"white\",\"ticks\":\"\"},\"caxis\":{\"gridcolor\":\"white\",\"linecolor\":\"white\",\"ticks\":\"\"}},\"coloraxis\":{\"colorbar\":{\"outlinewidth\":0,\"ticks\":\"\"}},\"colorscale\":{\"sequential\":[[0.0,\"#0d0887\"],[0.1111111111111111,\"#46039f\"],[0.2222222222222222,\"#7201a8\"],[0.3333333333333333,\"#9c179e\"],[0.4444444444444444,\"#bd3786\"],[0.5555555555555556,\"#d8576b\"],[0.6666666666666666,\"#ed7953\"],[0.7777777777777778,\"#fb9f3a\"],[0.8888888888888888,\"#fdca26\"],[1.0,\"#f0f921\"]],\"sequentialminus\":[[0.0,\"#0d0887\"],[0.1111111111111111,\"#46039f\"],[0.2222222222222222,\"#7201a8\"],[0.3333333333333333,\"#9c179e\"],[0.4444444444444444,\"#bd3786\"],[0.5555555555555556,\"#d8576b\"],[0.6666666666666666,\"#ed7953\"],[0.7777777777777778,\"#fb9f3a\"],[0.8888888888888888,\"#fdca26\"],[1.0,\"#f0f921\"]],\"diverging\":[[0,\"#8e0152\"],[0.1,\"#c51b7d\"],[0.2,\"#de77ae\"],[0.3,\"#f1b6da\"],[0.4,\"#fde0ef\"],[0.5,\"#f7f7f7\"],[0.6,\"#e6f5d0\"],[0.7,\"#b8e186\"],[0.8,\"#7fbc41\"],[0.9,\"#4d9221\"],[1,\"#276419\"]]},\"xaxis\":{\"gridcolor\":\"white\",\"linecolor\":\"white\",\"ticks\":\"\",\"title\":{\"standoff\":15},\"zerolinecolor\":\"white\",\"automargin\":true,\"zerolinewidth\":2},\"yaxis\":{\"gridcolor\":\"white\",\"linecolor\":\"white\",\"ticks\":\"\",\"title\":{\"standoff\":15},\"zerolinecolor\":\"white\",\"automargin\":true,\"zerolinewidth\":2},\"scene\":{\"xaxis\":{\"backgroundcolor\":\"#E5ECF6\",\"gridcolor\":\"white\",\"linecolor\":\"white\",\"showbackground\":true,\"ticks\":\"\",\"zerolinecolor\":\"white\",\"gridwidth\":2},\"yaxis\":{\"backgroundcolor\":\"#E5ECF6\",\"gridcolor\":\"white\",\"linecolor\":\"white\",\"showbackground\":true,\"ticks\":\"\",\"zerolinecolor\":\"white\",\"gridwidth\":2},\"zaxis\":{\"backgroundcolor\":\"#E5ECF6\",\"gridcolor\":\"white\",\"linecolor\":\"white\",\"showbackground\":true,\"ticks\":\"\",\"zerolinecolor\":\"white\",\"gridwidth\":2}},\"shapedefaults\":{\"line\":{\"color\":\"#2a3f5f\"}},\"annotationdefaults\":{\"arrowcolor\":\"#2a3f5f\",\"arrowhead\":0,\"arrowwidth\":1},\"geo\":{\"bgcolor\":\"white\",\"landcolor\":\"#E5ECF6\",\"subunitcolor\":\"white\",\"showland\":true,\"showlakes\":true,\"lakecolor\":\"white\"},\"title\":{\"x\":0.05},\"mapbox\":{\"style\":\"light\"}}},\"xaxis\":{\"anchor\":\"y\",\"domain\":[0.0,1.0],\"title\":{\"text\":\"Year\"}},\"yaxis\":{\"anchor\":\"x\",\"domain\":[0.0,1.0],\"title\":{\"text\":\"value\"}},\"legend\":{\"title\":{\"text\":\"variable\"},\"tracegroupgap\":0},\"margin\":{\"t\":60},\"barmode\":\"relative\"},                        {\"responsive\": true}                    ).then(function(){\n",
       "                            \n",
       "var gd = document.getElementById('989c6ec5-3e50-4e47-b402-6f011b194f99');\n",
       "var x = new MutationObserver(function (mutations, observer) {{\n",
       "        var display = window.getComputedStyle(gd).display;\n",
       "        if (!display || display === 'none') {{\n",
       "            console.log([gd, 'removed!']);\n",
       "            Plotly.purge(gd);\n",
       "            observer.disconnect();\n",
       "        }}\n",
       "}});\n",
       "\n",
       "// Listen for the removal of the full notebook cells\n",
       "var notebookContainer = gd.closest('#notebook-container');\n",
       "if (notebookContainer) {{\n",
       "    x.observe(notebookContainer, {childList: true});\n",
       "}}\n",
       "\n",
       "// Listen for the clearing of the current output cell\n",
       "var outputEl = gd.closest('.output');\n",
       "if (outputEl) {{\n",
       "    x.observe(outputEl, {childList: true});\n",
       "}}\n",
       "\n",
       "                        })                };                });            </script>        </div>"
      ]
     },
     "metadata": {},
     "output_type": "display_data"
    }
   ],
   "source": [
    "fig = px.bar(yearw, x = 'Year', y = ['CPA_Cases_Registered','CPA_Cases_Reported_for_Dept._Action','CPA_Complaints/Cases_Declared_False/Unsubstantiated','CPA_Complaints_Received/Alleged','CPA_No_of_Departmental_Enquiries',\n",
    "      'CPA_No_of_Magisterial_Enquiries','CPA_Cases_Sent_for_Trials/Charge-sheeted','CPA_No_of_Judicial_Enquiries','CPB_Police_Personnel_Acquitted','CPB_Police_Personnel_Convicted','CPB_Police_Personnel_sent_up_for_Trial','CPB_Police_Personnel_Trial_Completed','CPB_Police_Personnel_Cases_Withdrawn_or_Otherwise_disposed_of',\n",
    "    'CPC_Police_personnel_Cases_Trial_Completed','CPC_Police_Personnel_Cases_Withdrawn_or_Otherwise_disposed_of','CPC_Police_Personnel_Disciplinary_Action_Initiated','CPC_Police_Personnel_Dismissal/Removal_from_Service','CPC_Police_Personnel_Major_Punishment_awarded','CPC_Police_Personnel_Minor_Punishment_awarded'])\n",
    "fig.show()"
   ]
  },
  {
   "cell_type": "code",
   "execution_count": 31,
   "id": "87ce0d62",
   "metadata": {},
   "outputs": [
    {
     "data": {
      "text/html": [
       "<div>\n",
       "<style scoped>\n",
       "    .dataframe tbody tr th:only-of-type {\n",
       "        vertical-align: middle;\n",
       "    }\n",
       "\n",
       "    .dataframe tbody tr th {\n",
       "        vertical-align: top;\n",
       "    }\n",
       "\n",
       "    .dataframe thead th {\n",
       "        text-align: right;\n",
       "    }\n",
       "</style>\n",
       "<table border=\"1\" class=\"dataframe\">\n",
       "  <thead>\n",
       "    <tr style=\"text-align: right;\">\n",
       "      <th></th>\n",
       "      <th>Area_Name</th>\n",
       "      <th>CPA_Cases_Registered</th>\n",
       "      <th>CPA_Cases_Reported_for_Dept._Action</th>\n",
       "      <th>CPA_Complaints/Cases_Declared_False/Unsubstantiated</th>\n",
       "      <th>CPA_Complaints_Received/Alleged</th>\n",
       "      <th>CPA_No_of_Departmental_Enquiries</th>\n",
       "      <th>CPA_No_of_Magisterial_Enquiries</th>\n",
       "      <th>CPA_Cases_Sent_for_Trials/Charge-sheeted</th>\n",
       "      <th>CPA_No_of_Judicial_Enquiries</th>\n",
       "      <th>CPB_Police_Personnel_Acquitted</th>\n",
       "      <th>CPB_Police_Personnel_Convicted</th>\n",
       "      <th>CPB_Police_Personnel_sent_up_for_Trial</th>\n",
       "      <th>CPB_Police_Personnel_Trial_Completed</th>\n",
       "      <th>CPB_Police_Personnel_Cases_Withdrawn_or_Otherwise_disposed_of</th>\n",
       "      <th>CPC_Police_personnel_Cases_Trial_Completed</th>\n",
       "      <th>CPC_Police_Personnel_Cases_Withdrawn_or_Otherwise_disposed_of</th>\n",
       "      <th>CPC_Police_Personnel_Disciplinary_Action_Initiated</th>\n",
       "      <th>CPC_Police_Personnel_Dismissal/Removal_from_Service</th>\n",
       "      <th>CPC_Police_Personnel_Major_Punishment_awarded</th>\n",
       "      <th>CPC_Police_Personnel_Minor_Punishment_awarded</th>\n",
       "    </tr>\n",
       "  </thead>\n",
       "  <tbody>\n",
       "    <tr>\n",
       "      <th>0</th>\n",
       "      <td>Andaman &amp; Nicobar Islands</td>\n",
       "      <td>154</td>\n",
       "      <td>7</td>\n",
       "      <td>139</td>\n",
       "      <td>288</td>\n",
       "      <td>59</td>\n",
       "      <td>4</td>\n",
       "      <td>76</td>\n",
       "      <td>88</td>\n",
       "      <td>4</td>\n",
       "      <td>2</td>\n",
       "      <td>73</td>\n",
       "      <td>6</td>\n",
       "      <td>2</td>\n",
       "      <td>90</td>\n",
       "      <td>74</td>\n",
       "      <td>377</td>\n",
       "      <td>19</td>\n",
       "      <td>71</td>\n",
       "      <td>290</td>\n",
       "    </tr>\n",
       "    <tr>\n",
       "      <th>1</th>\n",
       "      <td>Andhra Pradesh</td>\n",
       "      <td>16327</td>\n",
       "      <td>3279</td>\n",
       "      <td>1155</td>\n",
       "      <td>22635</td>\n",
       "      <td>4538</td>\n",
       "      <td>2996</td>\n",
       "      <td>15381</td>\n",
       "      <td>310</td>\n",
       "      <td>94</td>\n",
       "      <td>15</td>\n",
       "      <td>1085</td>\n",
       "      <td>109</td>\n",
       "      <td>95</td>\n",
       "      <td>1526</td>\n",
       "      <td>5951</td>\n",
       "      <td>20912</td>\n",
       "      <td>338</td>\n",
       "      <td>2578</td>\n",
       "      <td>12636</td>\n",
       "    </tr>\n",
       "    <tr>\n",
       "      <th>2</th>\n",
       "      <td>Arunachal Pradesh</td>\n",
       "      <td>119</td>\n",
       "      <td>56</td>\n",
       "      <td>5</td>\n",
       "      <td>647</td>\n",
       "      <td>569</td>\n",
       "      <td>11</td>\n",
       "      <td>51</td>\n",
       "      <td>15</td>\n",
       "      <td>0</td>\n",
       "      <td>0</td>\n",
       "      <td>35</td>\n",
       "      <td>0</td>\n",
       "      <td>5</td>\n",
       "      <td>95</td>\n",
       "      <td>63</td>\n",
       "      <td>764</td>\n",
       "      <td>7</td>\n",
       "      <td>82</td>\n",
       "      <td>208</td>\n",
       "    </tr>\n",
       "    <tr>\n",
       "      <th>3</th>\n",
       "      <td>Assam</td>\n",
       "      <td>150</td>\n",
       "      <td>100</td>\n",
       "      <td>13</td>\n",
       "      <td>332</td>\n",
       "      <td>322</td>\n",
       "      <td>12</td>\n",
       "      <td>66</td>\n",
       "      <td>52</td>\n",
       "      <td>10</td>\n",
       "      <td>0</td>\n",
       "      <td>70</td>\n",
       "      <td>10</td>\n",
       "      <td>12</td>\n",
       "      <td>39</td>\n",
       "      <td>39</td>\n",
       "      <td>510</td>\n",
       "      <td>18</td>\n",
       "      <td>225</td>\n",
       "      <td>953</td>\n",
       "    </tr>\n",
       "    <tr>\n",
       "      <th>4</th>\n",
       "      <td>Bihar</td>\n",
       "      <td>310</td>\n",
       "      <td>34</td>\n",
       "      <td>137</td>\n",
       "      <td>2785</td>\n",
       "      <td>242</td>\n",
       "      <td>49</td>\n",
       "      <td>279</td>\n",
       "      <td>466</td>\n",
       "      <td>1</td>\n",
       "      <td>0</td>\n",
       "      <td>570</td>\n",
       "      <td>1</td>\n",
       "      <td>87</td>\n",
       "      <td>4451</td>\n",
       "      <td>1658</td>\n",
       "      <td>8818</td>\n",
       "      <td>168</td>\n",
       "      <td>4024</td>\n",
       "      <td>3646</td>\n",
       "    </tr>\n",
       "    <tr>\n",
       "      <th>5</th>\n",
       "      <td>Chandigarh</td>\n",
       "      <td>21</td>\n",
       "      <td>4</td>\n",
       "      <td>1098</td>\n",
       "      <td>1898</td>\n",
       "      <td>600</td>\n",
       "      <td>0</td>\n",
       "      <td>7</td>\n",
       "      <td>0</td>\n",
       "      <td>0</td>\n",
       "      <td>0</td>\n",
       "      <td>7</td>\n",
       "      <td>0</td>\n",
       "      <td>150</td>\n",
       "      <td>454</td>\n",
       "      <td>914</td>\n",
       "      <td>972</td>\n",
       "      <td>51</td>\n",
       "      <td>457</td>\n",
       "      <td>603</td>\n",
       "    </tr>\n",
       "    <tr>\n",
       "      <th>6</th>\n",
       "      <td>Chhattisgarh</td>\n",
       "      <td>797</td>\n",
       "      <td>435</td>\n",
       "      <td>13716</td>\n",
       "      <td>17629</td>\n",
       "      <td>6908</td>\n",
       "      <td>108</td>\n",
       "      <td>2316</td>\n",
       "      <td>122</td>\n",
       "      <td>335</td>\n",
       "      <td>95</td>\n",
       "      <td>553</td>\n",
       "      <td>430</td>\n",
       "      <td>422</td>\n",
       "      <td>760</td>\n",
       "      <td>440</td>\n",
       "      <td>1520</td>\n",
       "      <td>139</td>\n",
       "      <td>362</td>\n",
       "      <td>761</td>\n",
       "    </tr>\n",
       "    <tr>\n",
       "      <th>7</th>\n",
       "      <td>Dadra &amp; Nagar Haveli</td>\n",
       "      <td>2</td>\n",
       "      <td>0</td>\n",
       "      <td>0</td>\n",
       "      <td>1</td>\n",
       "      <td>1</td>\n",
       "      <td>0</td>\n",
       "      <td>1</td>\n",
       "      <td>0</td>\n",
       "      <td>0</td>\n",
       "      <td>1</td>\n",
       "      <td>1</td>\n",
       "      <td>1</td>\n",
       "      <td>1</td>\n",
       "      <td>0</td>\n",
       "      <td>0</td>\n",
       "      <td>0</td>\n",
       "      <td>0</td>\n",
       "      <td>0</td>\n",
       "      <td>0</td>\n",
       "    </tr>\n",
       "    <tr>\n",
       "      <th>8</th>\n",
       "      <td>Daman &amp; Diu</td>\n",
       "      <td>0</td>\n",
       "      <td>1</td>\n",
       "      <td>0</td>\n",
       "      <td>1</td>\n",
       "      <td>1</td>\n",
       "      <td>0</td>\n",
       "      <td>1</td>\n",
       "      <td>0</td>\n",
       "      <td>1</td>\n",
       "      <td>0</td>\n",
       "      <td>0</td>\n",
       "      <td>1</td>\n",
       "      <td>0</td>\n",
       "      <td>0</td>\n",
       "      <td>1</td>\n",
       "      <td>7</td>\n",
       "      <td>0</td>\n",
       "      <td>0</td>\n",
       "      <td>1</td>\n",
       "    </tr>\n",
       "    <tr>\n",
       "      <th>9</th>\n",
       "      <td>Delhi</td>\n",
       "      <td>1013</td>\n",
       "      <td>459</td>\n",
       "      <td>6684</td>\n",
       "      <td>72785</td>\n",
       "      <td>5025</td>\n",
       "      <td>0</td>\n",
       "      <td>30</td>\n",
       "      <td>0</td>\n",
       "      <td>0</td>\n",
       "      <td>0</td>\n",
       "      <td>30</td>\n",
       "      <td>0</td>\n",
       "      <td>0</td>\n",
       "      <td>2711</td>\n",
       "      <td>805</td>\n",
       "      <td>7250</td>\n",
       "      <td>884</td>\n",
       "      <td>3520</td>\n",
       "      <td>15500</td>\n",
       "    </tr>\n",
       "    <tr>\n",
       "      <th>10</th>\n",
       "      <td>Goa</td>\n",
       "      <td>50</td>\n",
       "      <td>14</td>\n",
       "      <td>223</td>\n",
       "      <td>367</td>\n",
       "      <td>27</td>\n",
       "      <td>0</td>\n",
       "      <td>17</td>\n",
       "      <td>5</td>\n",
       "      <td>9</td>\n",
       "      <td>2</td>\n",
       "      <td>16</td>\n",
       "      <td>11</td>\n",
       "      <td>6</td>\n",
       "      <td>310</td>\n",
       "      <td>832</td>\n",
       "      <td>1463</td>\n",
       "      <td>14</td>\n",
       "      <td>19</td>\n",
       "      <td>857</td>\n",
       "    </tr>\n",
       "    <tr>\n",
       "      <th>11</th>\n",
       "      <td>Gujarat</td>\n",
       "      <td>2749</td>\n",
       "      <td>10490</td>\n",
       "      <td>3580</td>\n",
       "      <td>20003</td>\n",
       "      <td>5622</td>\n",
       "      <td>105</td>\n",
       "      <td>2200</td>\n",
       "      <td>249</td>\n",
       "      <td>132</td>\n",
       "      <td>121</td>\n",
       "      <td>2718</td>\n",
       "      <td>253</td>\n",
       "      <td>203</td>\n",
       "      <td>8413</td>\n",
       "      <td>1892</td>\n",
       "      <td>16524</td>\n",
       "      <td>509</td>\n",
       "      <td>1903</td>\n",
       "      <td>11379</td>\n",
       "    </tr>\n",
       "    <tr>\n",
       "      <th>12</th>\n",
       "      <td>Haryana</td>\n",
       "      <td>457</td>\n",
       "      <td>103</td>\n",
       "      <td>11444</td>\n",
       "      <td>13631</td>\n",
       "      <td>6444</td>\n",
       "      <td>49</td>\n",
       "      <td>96</td>\n",
       "      <td>20</td>\n",
       "      <td>7</td>\n",
       "      <td>0</td>\n",
       "      <td>144</td>\n",
       "      <td>7</td>\n",
       "      <td>4</td>\n",
       "      <td>16</td>\n",
       "      <td>0</td>\n",
       "      <td>618</td>\n",
       "      <td>57</td>\n",
       "      <td>292</td>\n",
       "      <td>212</td>\n",
       "    </tr>\n",
       "    <tr>\n",
       "      <th>13</th>\n",
       "      <td>Himachal Pradesh</td>\n",
       "      <td>2544</td>\n",
       "      <td>17</td>\n",
       "      <td>2284</td>\n",
       "      <td>4888</td>\n",
       "      <td>206</td>\n",
       "      <td>10</td>\n",
       "      <td>31</td>\n",
       "      <td>1</td>\n",
       "      <td>28</td>\n",
       "      <td>9</td>\n",
       "      <td>1869</td>\n",
       "      <td>37</td>\n",
       "      <td>23</td>\n",
       "      <td>154</td>\n",
       "      <td>199</td>\n",
       "      <td>678</td>\n",
       "      <td>14</td>\n",
       "      <td>182</td>\n",
       "      <td>346</td>\n",
       "    </tr>\n",
       "    <tr>\n",
       "      <th>14</th>\n",
       "      <td>Jammu &amp; Kashmir</td>\n",
       "      <td>682</td>\n",
       "      <td>310</td>\n",
       "      <td>3408</td>\n",
       "      <td>6945</td>\n",
       "      <td>5729</td>\n",
       "      <td>106</td>\n",
       "      <td>223</td>\n",
       "      <td>39</td>\n",
       "      <td>22</td>\n",
       "      <td>2</td>\n",
       "      <td>662</td>\n",
       "      <td>24</td>\n",
       "      <td>278</td>\n",
       "      <td>4613</td>\n",
       "      <td>6833</td>\n",
       "      <td>19076</td>\n",
       "      <td>843</td>\n",
       "      <td>9807</td>\n",
       "      <td>6535</td>\n",
       "    </tr>\n",
       "    <tr>\n",
       "      <th>15</th>\n",
       "      <td>Jharkhand</td>\n",
       "      <td>11294</td>\n",
       "      <td>2</td>\n",
       "      <td>79</td>\n",
       "      <td>13376</td>\n",
       "      <td>865</td>\n",
       "      <td>2</td>\n",
       "      <td>527</td>\n",
       "      <td>255</td>\n",
       "      <td>11</td>\n",
       "      <td>1</td>\n",
       "      <td>14</td>\n",
       "      <td>12</td>\n",
       "      <td>5</td>\n",
       "      <td>1876</td>\n",
       "      <td>967</td>\n",
       "      <td>5431</td>\n",
       "      <td>224</td>\n",
       "      <td>2198</td>\n",
       "      <td>1172</td>\n",
       "    </tr>\n",
       "    <tr>\n",
       "      <th>16</th>\n",
       "      <td>Karnataka</td>\n",
       "      <td>809</td>\n",
       "      <td>1506</td>\n",
       "      <td>279</td>\n",
       "      <td>5155</td>\n",
       "      <td>3036</td>\n",
       "      <td>60</td>\n",
       "      <td>568</td>\n",
       "      <td>106</td>\n",
       "      <td>69</td>\n",
       "      <td>9</td>\n",
       "      <td>493</td>\n",
       "      <td>78</td>\n",
       "      <td>37</td>\n",
       "      <td>4091</td>\n",
       "      <td>1508</td>\n",
       "      <td>9057</td>\n",
       "      <td>97</td>\n",
       "      <td>593</td>\n",
       "      <td>5844</td>\n",
       "    </tr>\n",
       "    <tr>\n",
       "      <th>17</th>\n",
       "      <td>Kerala</td>\n",
       "      <td>1055</td>\n",
       "      <td>527</td>\n",
       "      <td>16959</td>\n",
       "      <td>26469</td>\n",
       "      <td>20016</td>\n",
       "      <td>304</td>\n",
       "      <td>338</td>\n",
       "      <td>10</td>\n",
       "      <td>94</td>\n",
       "      <td>23</td>\n",
       "      <td>474</td>\n",
       "      <td>117</td>\n",
       "      <td>82</td>\n",
       "      <td>2380</td>\n",
       "      <td>1343</td>\n",
       "      <td>8917</td>\n",
       "      <td>115</td>\n",
       "      <td>952</td>\n",
       "      <td>2413</td>\n",
       "    </tr>\n",
       "    <tr>\n",
       "      <th>18</th>\n",
       "      <td>Lakshadweep</td>\n",
       "      <td>2</td>\n",
       "      <td>0</td>\n",
       "      <td>0</td>\n",
       "      <td>2</td>\n",
       "      <td>0</td>\n",
       "      <td>0</td>\n",
       "      <td>1</td>\n",
       "      <td>0</td>\n",
       "      <td>0</td>\n",
       "      <td>0</td>\n",
       "      <td>1</td>\n",
       "      <td>0</td>\n",
       "      <td>0</td>\n",
       "      <td>0</td>\n",
       "      <td>0</td>\n",
       "      <td>0</td>\n",
       "      <td>0</td>\n",
       "      <td>0</td>\n",
       "      <td>0</td>\n",
       "    </tr>\n",
       "    <tr>\n",
       "      <th>19</th>\n",
       "      <td>Madhya Pradesh</td>\n",
       "      <td>10747</td>\n",
       "      <td>1047</td>\n",
       "      <td>117567</td>\n",
       "      <td>149415</td>\n",
       "      <td>38406</td>\n",
       "      <td>1925</td>\n",
       "      <td>279</td>\n",
       "      <td>12</td>\n",
       "      <td>14</td>\n",
       "      <td>16</td>\n",
       "      <td>513</td>\n",
       "      <td>30</td>\n",
       "      <td>64</td>\n",
       "      <td>1232</td>\n",
       "      <td>1408</td>\n",
       "      <td>3967</td>\n",
       "      <td>376</td>\n",
       "      <td>840</td>\n",
       "      <td>2025</td>\n",
       "    </tr>\n",
       "    <tr>\n",
       "      <th>20</th>\n",
       "      <td>Maharashtra</td>\n",
       "      <td>4001</td>\n",
       "      <td>2406</td>\n",
       "      <td>31877</td>\n",
       "      <td>44585</td>\n",
       "      <td>10361</td>\n",
       "      <td>175</td>\n",
       "      <td>2130</td>\n",
       "      <td>477</td>\n",
       "      <td>242</td>\n",
       "      <td>59</td>\n",
       "      <td>2290</td>\n",
       "      <td>301</td>\n",
       "      <td>105</td>\n",
       "      <td>5917</td>\n",
       "      <td>1944</td>\n",
       "      <td>11813</td>\n",
       "      <td>535</td>\n",
       "      <td>966</td>\n",
       "      <td>17547</td>\n",
       "    </tr>\n",
       "    <tr>\n",
       "      <th>21</th>\n",
       "      <td>Manipur</td>\n",
       "      <td>9</td>\n",
       "      <td>10</td>\n",
       "      <td>0</td>\n",
       "      <td>10</td>\n",
       "      <td>11</td>\n",
       "      <td>0</td>\n",
       "      <td>2</td>\n",
       "      <td>0</td>\n",
       "      <td>1</td>\n",
       "      <td>2</td>\n",
       "      <td>3</td>\n",
       "      <td>3</td>\n",
       "      <td>0</td>\n",
       "      <td>3</td>\n",
       "      <td>0</td>\n",
       "      <td>13</td>\n",
       "      <td>1</td>\n",
       "      <td>1</td>\n",
       "      <td>3</td>\n",
       "    </tr>\n",
       "    <tr>\n",
       "      <th>22</th>\n",
       "      <td>Meghalaya</td>\n",
       "      <td>59</td>\n",
       "      <td>16</td>\n",
       "      <td>0</td>\n",
       "      <td>81</td>\n",
       "      <td>61</td>\n",
       "      <td>14</td>\n",
       "      <td>16</td>\n",
       "      <td>2</td>\n",
       "      <td>0</td>\n",
       "      <td>0</td>\n",
       "      <td>18</td>\n",
       "      <td>0</td>\n",
       "      <td>4</td>\n",
       "      <td>30</td>\n",
       "      <td>72</td>\n",
       "      <td>235</td>\n",
       "      <td>32</td>\n",
       "      <td>341</td>\n",
       "      <td>515</td>\n",
       "    </tr>\n",
       "    <tr>\n",
       "      <th>23</th>\n",
       "      <td>Mizoram</td>\n",
       "      <td>41</td>\n",
       "      <td>11</td>\n",
       "      <td>0</td>\n",
       "      <td>41</td>\n",
       "      <td>14</td>\n",
       "      <td>12</td>\n",
       "      <td>40</td>\n",
       "      <td>2</td>\n",
       "      <td>8</td>\n",
       "      <td>5</td>\n",
       "      <td>36</td>\n",
       "      <td>13</td>\n",
       "      <td>7</td>\n",
       "      <td>79</td>\n",
       "      <td>16</td>\n",
       "      <td>117</td>\n",
       "      <td>8</td>\n",
       "      <td>70</td>\n",
       "      <td>19</td>\n",
       "    </tr>\n",
       "    <tr>\n",
       "      <th>24</th>\n",
       "      <td>Nagaland</td>\n",
       "      <td>126</td>\n",
       "      <td>93</td>\n",
       "      <td>1</td>\n",
       "      <td>175</td>\n",
       "      <td>41</td>\n",
       "      <td>1</td>\n",
       "      <td>72</td>\n",
       "      <td>10</td>\n",
       "      <td>14</td>\n",
       "      <td>4</td>\n",
       "      <td>52</td>\n",
       "      <td>18</td>\n",
       "      <td>4</td>\n",
       "      <td>20</td>\n",
       "      <td>5</td>\n",
       "      <td>40</td>\n",
       "      <td>3</td>\n",
       "      <td>26</td>\n",
       "      <td>3</td>\n",
       "    </tr>\n",
       "    <tr>\n",
       "      <th>25</th>\n",
       "      <td>Odisha</td>\n",
       "      <td>3135</td>\n",
       "      <td>249</td>\n",
       "      <td>43</td>\n",
       "      <td>3241</td>\n",
       "      <td>342</td>\n",
       "      <td>118</td>\n",
       "      <td>2017</td>\n",
       "      <td>296</td>\n",
       "      <td>8</td>\n",
       "      <td>1</td>\n",
       "      <td>280</td>\n",
       "      <td>9</td>\n",
       "      <td>33</td>\n",
       "      <td>495</td>\n",
       "      <td>410</td>\n",
       "      <td>2085</td>\n",
       "      <td>70</td>\n",
       "      <td>1015</td>\n",
       "      <td>2043</td>\n",
       "    </tr>\n",
       "    <tr>\n",
       "      <th>26</th>\n",
       "      <td>Puducherry</td>\n",
       "      <td>32</td>\n",
       "      <td>8</td>\n",
       "      <td>3</td>\n",
       "      <td>34</td>\n",
       "      <td>3</td>\n",
       "      <td>0</td>\n",
       "      <td>19</td>\n",
       "      <td>0</td>\n",
       "      <td>3</td>\n",
       "      <td>1</td>\n",
       "      <td>19</td>\n",
       "      <td>4</td>\n",
       "      <td>0</td>\n",
       "      <td>40</td>\n",
       "      <td>45</td>\n",
       "      <td>333</td>\n",
       "      <td>12</td>\n",
       "      <td>15</td>\n",
       "      <td>53</td>\n",
       "    </tr>\n",
       "    <tr>\n",
       "      <th>27</th>\n",
       "      <td>Punjab</td>\n",
       "      <td>1523</td>\n",
       "      <td>873</td>\n",
       "      <td>26457</td>\n",
       "      <td>43520</td>\n",
       "      <td>19943</td>\n",
       "      <td>235</td>\n",
       "      <td>239</td>\n",
       "      <td>8</td>\n",
       "      <td>171</td>\n",
       "      <td>60</td>\n",
       "      <td>496</td>\n",
       "      <td>231</td>\n",
       "      <td>158</td>\n",
       "      <td>2850</td>\n",
       "      <td>2200</td>\n",
       "      <td>14702</td>\n",
       "      <td>1190</td>\n",
       "      <td>6990</td>\n",
       "      <td>27365</td>\n",
       "    </tr>\n",
       "    <tr>\n",
       "      <th>28</th>\n",
       "      <td>Rajasthan</td>\n",
       "      <td>1216</td>\n",
       "      <td>745</td>\n",
       "      <td>13984</td>\n",
       "      <td>17485</td>\n",
       "      <td>3461</td>\n",
       "      <td>24</td>\n",
       "      <td>453</td>\n",
       "      <td>16</td>\n",
       "      <td>27</td>\n",
       "      <td>13</td>\n",
       "      <td>602</td>\n",
       "      <td>40</td>\n",
       "      <td>40</td>\n",
       "      <td>27232</td>\n",
       "      <td>9119</td>\n",
       "      <td>43805</td>\n",
       "      <td>835</td>\n",
       "      <td>5440</td>\n",
       "      <td>20957</td>\n",
       "    </tr>\n",
       "    <tr>\n",
       "      <th>29</th>\n",
       "      <td>Sikkim</td>\n",
       "      <td>138</td>\n",
       "      <td>107</td>\n",
       "      <td>5</td>\n",
       "      <td>222</td>\n",
       "      <td>110</td>\n",
       "      <td>0</td>\n",
       "      <td>48</td>\n",
       "      <td>30</td>\n",
       "      <td>0</td>\n",
       "      <td>2</td>\n",
       "      <td>3</td>\n",
       "      <td>2</td>\n",
       "      <td>0</td>\n",
       "      <td>77</td>\n",
       "      <td>27</td>\n",
       "      <td>207</td>\n",
       "      <td>13</td>\n",
       "      <td>18</td>\n",
       "      <td>112</td>\n",
       "    </tr>\n",
       "    <tr>\n",
       "      <th>30</th>\n",
       "      <td>Tamil Nadu</td>\n",
       "      <td>1328</td>\n",
       "      <td>2912</td>\n",
       "      <td>96</td>\n",
       "      <td>3958</td>\n",
       "      <td>3202</td>\n",
       "      <td>200</td>\n",
       "      <td>606</td>\n",
       "      <td>503</td>\n",
       "      <td>88</td>\n",
       "      <td>17</td>\n",
       "      <td>740</td>\n",
       "      <td>105</td>\n",
       "      <td>126</td>\n",
       "      <td>9918</td>\n",
       "      <td>2253</td>\n",
       "      <td>17155</td>\n",
       "      <td>323</td>\n",
       "      <td>3711</td>\n",
       "      <td>8784</td>\n",
       "    </tr>\n",
       "    <tr>\n",
       "      <th>31</th>\n",
       "      <td>Tripura</td>\n",
       "      <td>134</td>\n",
       "      <td>158</td>\n",
       "      <td>19</td>\n",
       "      <td>312</td>\n",
       "      <td>244</td>\n",
       "      <td>4</td>\n",
       "      <td>68</td>\n",
       "      <td>80</td>\n",
       "      <td>9</td>\n",
       "      <td>7</td>\n",
       "      <td>94</td>\n",
       "      <td>16</td>\n",
       "      <td>62</td>\n",
       "      <td>479</td>\n",
       "      <td>236</td>\n",
       "      <td>1085</td>\n",
       "      <td>94</td>\n",
       "      <td>229</td>\n",
       "      <td>1667</td>\n",
       "    </tr>\n",
       "    <tr>\n",
       "      <th>32</th>\n",
       "      <td>Uttar Pradesh</td>\n",
       "      <td>28622</td>\n",
       "      <td>27315</td>\n",
       "      <td>35650</td>\n",
       "      <td>65102</td>\n",
       "      <td>29268</td>\n",
       "      <td>167</td>\n",
       "      <td>702</td>\n",
       "      <td>17</td>\n",
       "      <td>36</td>\n",
       "      <td>13</td>\n",
       "      <td>988</td>\n",
       "      <td>49</td>\n",
       "      <td>125</td>\n",
       "      <td>25978</td>\n",
       "      <td>3437</td>\n",
       "      <td>29415</td>\n",
       "      <td>756</td>\n",
       "      <td>3872</td>\n",
       "      <td>21350</td>\n",
       "    </tr>\n",
       "    <tr>\n",
       "      <th>33</th>\n",
       "      <td>Uttarakhand</td>\n",
       "      <td>168</td>\n",
       "      <td>2947</td>\n",
       "      <td>4304</td>\n",
       "      <td>7687</td>\n",
       "      <td>7450</td>\n",
       "      <td>10</td>\n",
       "      <td>139</td>\n",
       "      <td>33</td>\n",
       "      <td>9</td>\n",
       "      <td>4</td>\n",
       "      <td>156</td>\n",
       "      <td>13</td>\n",
       "      <td>6</td>\n",
       "      <td>2976</td>\n",
       "      <td>666</td>\n",
       "      <td>4082</td>\n",
       "      <td>149</td>\n",
       "      <td>428</td>\n",
       "      <td>2383</td>\n",
       "    </tr>\n",
       "    <tr>\n",
       "      <th>34</th>\n",
       "      <td>West Bengal</td>\n",
       "      <td>299</td>\n",
       "      <td>238</td>\n",
       "      <td>14</td>\n",
       "      <td>923</td>\n",
       "      <td>852</td>\n",
       "      <td>2</td>\n",
       "      <td>78</td>\n",
       "      <td>56</td>\n",
       "      <td>7</td>\n",
       "      <td>4</td>\n",
       "      <td>91</td>\n",
       "      <td>11</td>\n",
       "      <td>4</td>\n",
       "      <td>261</td>\n",
       "      <td>74</td>\n",
       "      <td>1832</td>\n",
       "      <td>74</td>\n",
       "      <td>770</td>\n",
       "      <td>2232</td>\n",
       "    </tr>\n",
       "  </tbody>\n",
       "</table>\n",
       "</div>"
      ],
      "text/plain": [
       "                    Area_Name  CPA_Cases_Registered  \\\n",
       "0   Andaman & Nicobar Islands                   154   \n",
       "1              Andhra Pradesh                 16327   \n",
       "2           Arunachal Pradesh                   119   \n",
       "3                       Assam                   150   \n",
       "4                       Bihar                   310   \n",
       "5                  Chandigarh                    21   \n",
       "6                Chhattisgarh                   797   \n",
       "7        Dadra & Nagar Haveli                     2   \n",
       "8                 Daman & Diu                     0   \n",
       "9                       Delhi                  1013   \n",
       "10                        Goa                    50   \n",
       "11                    Gujarat                  2749   \n",
       "12                    Haryana                   457   \n",
       "13           Himachal Pradesh                  2544   \n",
       "14            Jammu & Kashmir                   682   \n",
       "15                  Jharkhand                 11294   \n",
       "16                  Karnataka                   809   \n",
       "17                     Kerala                  1055   \n",
       "18                Lakshadweep                     2   \n",
       "19             Madhya Pradesh                 10747   \n",
       "20                Maharashtra                  4001   \n",
       "21                    Manipur                     9   \n",
       "22                  Meghalaya                    59   \n",
       "23                    Mizoram                    41   \n",
       "24                   Nagaland                   126   \n",
       "25                     Odisha                  3135   \n",
       "26                 Puducherry                    32   \n",
       "27                     Punjab                  1523   \n",
       "28                  Rajasthan                  1216   \n",
       "29                     Sikkim                   138   \n",
       "30                 Tamil Nadu                  1328   \n",
       "31                    Tripura                   134   \n",
       "32              Uttar Pradesh                 28622   \n",
       "33                Uttarakhand                   168   \n",
       "34                West Bengal                   299   \n",
       "\n",
       "    CPA_Cases_Reported_for_Dept._Action  \\\n",
       "0                                     7   \n",
       "1                                  3279   \n",
       "2                                    56   \n",
       "3                                   100   \n",
       "4                                    34   \n",
       "5                                     4   \n",
       "6                                   435   \n",
       "7                                     0   \n",
       "8                                     1   \n",
       "9                                   459   \n",
       "10                                   14   \n",
       "11                                10490   \n",
       "12                                  103   \n",
       "13                                   17   \n",
       "14                                  310   \n",
       "15                                    2   \n",
       "16                                 1506   \n",
       "17                                  527   \n",
       "18                                    0   \n",
       "19                                 1047   \n",
       "20                                 2406   \n",
       "21                                   10   \n",
       "22                                   16   \n",
       "23                                   11   \n",
       "24                                   93   \n",
       "25                                  249   \n",
       "26                                    8   \n",
       "27                                  873   \n",
       "28                                  745   \n",
       "29                                  107   \n",
       "30                                 2912   \n",
       "31                                  158   \n",
       "32                                27315   \n",
       "33                                 2947   \n",
       "34                                  238   \n",
       "\n",
       "    CPA_Complaints/Cases_Declared_False/Unsubstantiated  \\\n",
       "0                                                 139     \n",
       "1                                                1155     \n",
       "2                                                   5     \n",
       "3                                                  13     \n",
       "4                                                 137     \n",
       "5                                                1098     \n",
       "6                                               13716     \n",
       "7                                                   0     \n",
       "8                                                   0     \n",
       "9                                                6684     \n",
       "10                                                223     \n",
       "11                                               3580     \n",
       "12                                              11444     \n",
       "13                                               2284     \n",
       "14                                               3408     \n",
       "15                                                 79     \n",
       "16                                                279     \n",
       "17                                              16959     \n",
       "18                                                  0     \n",
       "19                                             117567     \n",
       "20                                              31877     \n",
       "21                                                  0     \n",
       "22                                                  0     \n",
       "23                                                  0     \n",
       "24                                                  1     \n",
       "25                                                 43     \n",
       "26                                                  3     \n",
       "27                                              26457     \n",
       "28                                              13984     \n",
       "29                                                  5     \n",
       "30                                                 96     \n",
       "31                                                 19     \n",
       "32                                              35650     \n",
       "33                                               4304     \n",
       "34                                                 14     \n",
       "\n",
       "    CPA_Complaints_Received/Alleged  CPA_No_of_Departmental_Enquiries  \\\n",
       "0                               288                                59   \n",
       "1                             22635                              4538   \n",
       "2                               647                               569   \n",
       "3                               332                               322   \n",
       "4                              2785                               242   \n",
       "5                              1898                               600   \n",
       "6                             17629                              6908   \n",
       "7                                 1                                 1   \n",
       "8                                 1                                 1   \n",
       "9                             72785                              5025   \n",
       "10                              367                                27   \n",
       "11                            20003                              5622   \n",
       "12                            13631                              6444   \n",
       "13                             4888                               206   \n",
       "14                             6945                              5729   \n",
       "15                            13376                               865   \n",
       "16                             5155                              3036   \n",
       "17                            26469                             20016   \n",
       "18                                2                                 0   \n",
       "19                           149415                             38406   \n",
       "20                            44585                             10361   \n",
       "21                               10                                11   \n",
       "22                               81                                61   \n",
       "23                               41                                14   \n",
       "24                              175                                41   \n",
       "25                             3241                               342   \n",
       "26                               34                                 3   \n",
       "27                            43520                             19943   \n",
       "28                            17485                              3461   \n",
       "29                              222                               110   \n",
       "30                             3958                              3202   \n",
       "31                              312                               244   \n",
       "32                            65102                             29268   \n",
       "33                             7687                              7450   \n",
       "34                              923                               852   \n",
       "\n",
       "    CPA_No_of_Magisterial_Enquiries  CPA_Cases_Sent_for_Trials/Charge-sheeted  \\\n",
       "0                                 4                                        76   \n",
       "1                              2996                                     15381   \n",
       "2                                11                                        51   \n",
       "3                                12                                        66   \n",
       "4                                49                                       279   \n",
       "5                                 0                                         7   \n",
       "6                               108                                      2316   \n",
       "7                                 0                                         1   \n",
       "8                                 0                                         1   \n",
       "9                                 0                                        30   \n",
       "10                                0                                        17   \n",
       "11                              105                                      2200   \n",
       "12                               49                                        96   \n",
       "13                               10                                        31   \n",
       "14                              106                                       223   \n",
       "15                                2                                       527   \n",
       "16                               60                                       568   \n",
       "17                              304                                       338   \n",
       "18                                0                                         1   \n",
       "19                             1925                                       279   \n",
       "20                              175                                      2130   \n",
       "21                                0                                         2   \n",
       "22                               14                                        16   \n",
       "23                               12                                        40   \n",
       "24                                1                                        72   \n",
       "25                              118                                      2017   \n",
       "26                                0                                        19   \n",
       "27                              235                                       239   \n",
       "28                               24                                       453   \n",
       "29                                0                                        48   \n",
       "30                              200                                       606   \n",
       "31                                4                                        68   \n",
       "32                              167                                       702   \n",
       "33                               10                                       139   \n",
       "34                                2                                        78   \n",
       "\n",
       "    CPA_No_of_Judicial_Enquiries  CPB_Police_Personnel_Acquitted  \\\n",
       "0                             88                               4   \n",
       "1                            310                              94   \n",
       "2                             15                               0   \n",
       "3                             52                              10   \n",
       "4                            466                               1   \n",
       "5                              0                               0   \n",
       "6                            122                             335   \n",
       "7                              0                               0   \n",
       "8                              0                               1   \n",
       "9                              0                               0   \n",
       "10                             5                               9   \n",
       "11                           249                             132   \n",
       "12                            20                               7   \n",
       "13                             1                              28   \n",
       "14                            39                              22   \n",
       "15                           255                              11   \n",
       "16                           106                              69   \n",
       "17                            10                              94   \n",
       "18                             0                               0   \n",
       "19                            12                              14   \n",
       "20                           477                             242   \n",
       "21                             0                               1   \n",
       "22                             2                               0   \n",
       "23                             2                               8   \n",
       "24                            10                              14   \n",
       "25                           296                               8   \n",
       "26                             0                               3   \n",
       "27                             8                             171   \n",
       "28                            16                              27   \n",
       "29                            30                               0   \n",
       "30                           503                              88   \n",
       "31                            80                               9   \n",
       "32                            17                              36   \n",
       "33                            33                               9   \n",
       "34                            56                               7   \n",
       "\n",
       "    CPB_Police_Personnel_Convicted  CPB_Police_Personnel_sent_up_for_Trial  \\\n",
       "0                                2                                      73   \n",
       "1                               15                                    1085   \n",
       "2                                0                                      35   \n",
       "3                                0                                      70   \n",
       "4                                0                                     570   \n",
       "5                                0                                       7   \n",
       "6                               95                                     553   \n",
       "7                                1                                       1   \n",
       "8                                0                                       0   \n",
       "9                                0                                      30   \n",
       "10                               2                                      16   \n",
       "11                             121                                    2718   \n",
       "12                               0                                     144   \n",
       "13                               9                                    1869   \n",
       "14                               2                                     662   \n",
       "15                               1                                      14   \n",
       "16                               9                                     493   \n",
       "17                              23                                     474   \n",
       "18                               0                                       1   \n",
       "19                              16                                     513   \n",
       "20                              59                                    2290   \n",
       "21                               2                                       3   \n",
       "22                               0                                      18   \n",
       "23                               5                                      36   \n",
       "24                               4                                      52   \n",
       "25                               1                                     280   \n",
       "26                               1                                      19   \n",
       "27                              60                                     496   \n",
       "28                              13                                     602   \n",
       "29                               2                                       3   \n",
       "30                              17                                     740   \n",
       "31                               7                                      94   \n",
       "32                              13                                     988   \n",
       "33                               4                                     156   \n",
       "34                               4                                      91   \n",
       "\n",
       "    CPB_Police_Personnel_Trial_Completed  \\\n",
       "0                                      6   \n",
       "1                                    109   \n",
       "2                                      0   \n",
       "3                                     10   \n",
       "4                                      1   \n",
       "5                                      0   \n",
       "6                                    430   \n",
       "7                                      1   \n",
       "8                                      1   \n",
       "9                                      0   \n",
       "10                                    11   \n",
       "11                                   253   \n",
       "12                                     7   \n",
       "13                                    37   \n",
       "14                                    24   \n",
       "15                                    12   \n",
       "16                                    78   \n",
       "17                                   117   \n",
       "18                                     0   \n",
       "19                                    30   \n",
       "20                                   301   \n",
       "21                                     3   \n",
       "22                                     0   \n",
       "23                                    13   \n",
       "24                                    18   \n",
       "25                                     9   \n",
       "26                                     4   \n",
       "27                                   231   \n",
       "28                                    40   \n",
       "29                                     2   \n",
       "30                                   105   \n",
       "31                                    16   \n",
       "32                                    49   \n",
       "33                                    13   \n",
       "34                                    11   \n",
       "\n",
       "    CPB_Police_Personnel_Cases_Withdrawn_or_Otherwise_disposed_of  \\\n",
       "0                                                   2               \n",
       "1                                                  95               \n",
       "2                                                   5               \n",
       "3                                                  12               \n",
       "4                                                  87               \n",
       "5                                                 150               \n",
       "6                                                 422               \n",
       "7                                                   1               \n",
       "8                                                   0               \n",
       "9                                                   0               \n",
       "10                                                  6               \n",
       "11                                                203               \n",
       "12                                                  4               \n",
       "13                                                 23               \n",
       "14                                                278               \n",
       "15                                                  5               \n",
       "16                                                 37               \n",
       "17                                                 82               \n",
       "18                                                  0               \n",
       "19                                                 64               \n",
       "20                                                105               \n",
       "21                                                  0               \n",
       "22                                                  4               \n",
       "23                                                  7               \n",
       "24                                                  4               \n",
       "25                                                 33               \n",
       "26                                                  0               \n",
       "27                                                158               \n",
       "28                                                 40               \n",
       "29                                                  0               \n",
       "30                                                126               \n",
       "31                                                 62               \n",
       "32                                                125               \n",
       "33                                                  6               \n",
       "34                                                  4               \n",
       "\n",
       "    CPC_Police_personnel_Cases_Trial_Completed  \\\n",
       "0                                           90   \n",
       "1                                         1526   \n",
       "2                                           95   \n",
       "3                                           39   \n",
       "4                                         4451   \n",
       "5                                          454   \n",
       "6                                          760   \n",
       "7                                            0   \n",
       "8                                            0   \n",
       "9                                         2711   \n",
       "10                                         310   \n",
       "11                                        8413   \n",
       "12                                          16   \n",
       "13                                         154   \n",
       "14                                        4613   \n",
       "15                                        1876   \n",
       "16                                        4091   \n",
       "17                                        2380   \n",
       "18                                           0   \n",
       "19                                        1232   \n",
       "20                                        5917   \n",
       "21                                           3   \n",
       "22                                          30   \n",
       "23                                          79   \n",
       "24                                          20   \n",
       "25                                         495   \n",
       "26                                          40   \n",
       "27                                        2850   \n",
       "28                                       27232   \n",
       "29                                          77   \n",
       "30                                        9918   \n",
       "31                                         479   \n",
       "32                                       25978   \n",
       "33                                        2976   \n",
       "34                                         261   \n",
       "\n",
       "    CPC_Police_Personnel_Cases_Withdrawn_or_Otherwise_disposed_of  \\\n",
       "0                                                  74               \n",
       "1                                                5951               \n",
       "2                                                  63               \n",
       "3                                                  39               \n",
       "4                                                1658               \n",
       "5                                                 914               \n",
       "6                                                 440               \n",
       "7                                                   0               \n",
       "8                                                   1               \n",
       "9                                                 805               \n",
       "10                                                832               \n",
       "11                                               1892               \n",
       "12                                                  0               \n",
       "13                                                199               \n",
       "14                                               6833               \n",
       "15                                                967               \n",
       "16                                               1508               \n",
       "17                                               1343               \n",
       "18                                                  0               \n",
       "19                                               1408               \n",
       "20                                               1944               \n",
       "21                                                  0               \n",
       "22                                                 72               \n",
       "23                                                 16               \n",
       "24                                                  5               \n",
       "25                                                410               \n",
       "26                                                 45               \n",
       "27                                               2200               \n",
       "28                                               9119               \n",
       "29                                                 27               \n",
       "30                                               2253               \n",
       "31                                                236               \n",
       "32                                               3437               \n",
       "33                                                666               \n",
       "34                                                 74               \n",
       "\n",
       "    CPC_Police_Personnel_Disciplinary_Action_Initiated  \\\n",
       "0                                                 377    \n",
       "1                                               20912    \n",
       "2                                                 764    \n",
       "3                                                 510    \n",
       "4                                                8818    \n",
       "5                                                 972    \n",
       "6                                                1520    \n",
       "7                                                   0    \n",
       "8                                                   7    \n",
       "9                                                7250    \n",
       "10                                               1463    \n",
       "11                                              16524    \n",
       "12                                                618    \n",
       "13                                                678    \n",
       "14                                              19076    \n",
       "15                                               5431    \n",
       "16                                               9057    \n",
       "17                                               8917    \n",
       "18                                                  0    \n",
       "19                                               3967    \n",
       "20                                              11813    \n",
       "21                                                 13    \n",
       "22                                                235    \n",
       "23                                                117    \n",
       "24                                                 40    \n",
       "25                                               2085    \n",
       "26                                                333    \n",
       "27                                              14702    \n",
       "28                                              43805    \n",
       "29                                                207    \n",
       "30                                              17155    \n",
       "31                                               1085    \n",
       "32                                              29415    \n",
       "33                                               4082    \n",
       "34                                               1832    \n",
       "\n",
       "    CPC_Police_Personnel_Dismissal/Removal_from_Service  \\\n",
       "0                                                  19     \n",
       "1                                                 338     \n",
       "2                                                   7     \n",
       "3                                                  18     \n",
       "4                                                 168     \n",
       "5                                                  51     \n",
       "6                                                 139     \n",
       "7                                                   0     \n",
       "8                                                   0     \n",
       "9                                                 884     \n",
       "10                                                 14     \n",
       "11                                                509     \n",
       "12                                                 57     \n",
       "13                                                 14     \n",
       "14                                                843     \n",
       "15                                                224     \n",
       "16                                                 97     \n",
       "17                                                115     \n",
       "18                                                  0     \n",
       "19                                                376     \n",
       "20                                                535     \n",
       "21                                                  1     \n",
       "22                                                 32     \n",
       "23                                                  8     \n",
       "24                                                  3     \n",
       "25                                                 70     \n",
       "26                                                 12     \n",
       "27                                               1190     \n",
       "28                                                835     \n",
       "29                                                 13     \n",
       "30                                                323     \n",
       "31                                                 94     \n",
       "32                                                756     \n",
       "33                                                149     \n",
       "34                                                 74     \n",
       "\n",
       "    CPC_Police_Personnel_Major_Punishment_awarded  \\\n",
       "0                                              71   \n",
       "1                                            2578   \n",
       "2                                              82   \n",
       "3                                             225   \n",
       "4                                            4024   \n",
       "5                                             457   \n",
       "6                                             362   \n",
       "7                                               0   \n",
       "8                                               0   \n",
       "9                                            3520   \n",
       "10                                             19   \n",
       "11                                           1903   \n",
       "12                                            292   \n",
       "13                                            182   \n",
       "14                                           9807   \n",
       "15                                           2198   \n",
       "16                                            593   \n",
       "17                                            952   \n",
       "18                                              0   \n",
       "19                                            840   \n",
       "20                                            966   \n",
       "21                                              1   \n",
       "22                                            341   \n",
       "23                                             70   \n",
       "24                                             26   \n",
       "25                                           1015   \n",
       "26                                             15   \n",
       "27                                           6990   \n",
       "28                                           5440   \n",
       "29                                             18   \n",
       "30                                           3711   \n",
       "31                                            229   \n",
       "32                                           3872   \n",
       "33                                            428   \n",
       "34                                            770   \n",
       "\n",
       "    CPC_Police_Personnel_Minor_Punishment_awarded  \n",
       "0                                             290  \n",
       "1                                           12636  \n",
       "2                                             208  \n",
       "3                                             953  \n",
       "4                                            3646  \n",
       "5                                             603  \n",
       "6                                             761  \n",
       "7                                               0  \n",
       "8                                               1  \n",
       "9                                           15500  \n",
       "10                                            857  \n",
       "11                                          11379  \n",
       "12                                            212  \n",
       "13                                            346  \n",
       "14                                           6535  \n",
       "15                                           1172  \n",
       "16                                           5844  \n",
       "17                                           2413  \n",
       "18                                              0  \n",
       "19                                           2025  \n",
       "20                                          17547  \n",
       "21                                              3  \n",
       "22                                            515  \n",
       "23                                             19  \n",
       "24                                              3  \n",
       "25                                           2043  \n",
       "26                                             53  \n",
       "27                                          27365  \n",
       "28                                          20957  \n",
       "29                                            112  \n",
       "30                                           8784  \n",
       "31                                           1667  \n",
       "32                                          21350  \n",
       "33                                           2383  \n",
       "34                                           2232  "
      ]
     },
     "execution_count": 31,
     "metadata": {},
     "output_type": "execute_result"
    }
   ],
   "source": [
    "yeary =df.groupby(['Area_Name'])['CPA_Cases_Registered','CPA_Cases_Reported_for_Dept._Action','CPA_Complaints/Cases_Declared_False/Unsubstantiated','CPA_Complaints_Received/Alleged','CPA_No_of_Departmental_Enquiries',\n",
    "      'CPA_No_of_Magisterial_Enquiries','CPA_Cases_Sent_for_Trials/Charge-sheeted','CPA_No_of_Judicial_Enquiries','CPB_Police_Personnel_Acquitted','CPB_Police_Personnel_Convicted','CPB_Police_Personnel_sent_up_for_Trial','CPB_Police_Personnel_Trial_Completed','CPB_Police_Personnel_Cases_Withdrawn_or_Otherwise_disposed_of',\n",
    "    'CPC_Police_personnel_Cases_Trial_Completed','CPC_Police_Personnel_Cases_Withdrawn_or_Otherwise_disposed_of','CPC_Police_Personnel_Disciplinary_Action_Initiated','CPC_Police_Personnel_Dismissal/Removal_from_Service','CPC_Police_Personnel_Major_Punishment_awarded','CPC_Police_Personnel_Minor_Punishment_awarded'].sum().reset_index()\n",
    "yeary"
   ]
  },
  {
   "cell_type": "code",
   "execution_count": 32,
   "id": "27dcf5ea",
   "metadata": {},
   "outputs": [
    {
     "data": {
      "application/vnd.plotly.v1+json": {
       "config": {
        "plotlyServerURL": "https://plot.ly"
       },
       "data": [
        {
         "alignmentgroup": "True",
         "hovertemplate": "variable=CPA_Cases_Registered<br>Area_Name=%{x}<br>value=%{y}<extra></extra>",
         "legendgroup": "CPA_Cases_Registered",
         "marker": {
          "color": "#636efa",
          "pattern": {
           "shape": ""
          }
         },
         "name": "CPA_Cases_Registered",
         "offsetgroup": "CPA_Cases_Registered",
         "orientation": "v",
         "showlegend": true,
         "textposition": "auto",
         "type": "bar",
         "x": [
          "Andaman & Nicobar Islands",
          "Andhra Pradesh",
          "Arunachal Pradesh",
          "Assam",
          "Bihar",
          "Chandigarh",
          "Chhattisgarh",
          "Dadra & Nagar Haveli",
          "Daman & Diu",
          "Delhi",
          "Goa",
          "Gujarat",
          "Haryana",
          "Himachal Pradesh",
          "Jammu & Kashmir",
          "Jharkhand",
          "Karnataka",
          "Kerala",
          "Lakshadweep",
          "Madhya Pradesh",
          "Maharashtra",
          "Manipur",
          "Meghalaya",
          "Mizoram",
          "Nagaland",
          "Odisha",
          "Puducherry",
          "Punjab",
          "Rajasthan",
          "Sikkim",
          "Tamil Nadu",
          "Tripura",
          "Uttar Pradesh",
          "Uttarakhand",
          "West Bengal"
         ],
         "xaxis": "x",
         "y": [
          154,
          16327,
          119,
          150,
          310,
          21,
          797,
          2,
          0,
          1013,
          50,
          2749,
          457,
          2544,
          682,
          11294,
          809,
          1055,
          2,
          10747,
          4001,
          9,
          59,
          41,
          126,
          3135,
          32,
          1523,
          1216,
          138,
          1328,
          134,
          28622,
          168,
          299
         ],
         "yaxis": "y"
        },
        {
         "alignmentgroup": "True",
         "hovertemplate": "variable=CPA_Cases_Reported_for_Dept._Action<br>Area_Name=%{x}<br>value=%{y}<extra></extra>",
         "legendgroup": "CPA_Cases_Reported_for_Dept._Action",
         "marker": {
          "color": "#EF553B",
          "pattern": {
           "shape": ""
          }
         },
         "name": "CPA_Cases_Reported_for_Dept._Action",
         "offsetgroup": "CPA_Cases_Reported_for_Dept._Action",
         "orientation": "v",
         "showlegend": true,
         "textposition": "auto",
         "type": "bar",
         "x": [
          "Andaman & Nicobar Islands",
          "Andhra Pradesh",
          "Arunachal Pradesh",
          "Assam",
          "Bihar",
          "Chandigarh",
          "Chhattisgarh",
          "Dadra & Nagar Haveli",
          "Daman & Diu",
          "Delhi",
          "Goa",
          "Gujarat",
          "Haryana",
          "Himachal Pradesh",
          "Jammu & Kashmir",
          "Jharkhand",
          "Karnataka",
          "Kerala",
          "Lakshadweep",
          "Madhya Pradesh",
          "Maharashtra",
          "Manipur",
          "Meghalaya",
          "Mizoram",
          "Nagaland",
          "Odisha",
          "Puducherry",
          "Punjab",
          "Rajasthan",
          "Sikkim",
          "Tamil Nadu",
          "Tripura",
          "Uttar Pradesh",
          "Uttarakhand",
          "West Bengal"
         ],
         "xaxis": "x",
         "y": [
          7,
          3279,
          56,
          100,
          34,
          4,
          435,
          0,
          1,
          459,
          14,
          10490,
          103,
          17,
          310,
          2,
          1506,
          527,
          0,
          1047,
          2406,
          10,
          16,
          11,
          93,
          249,
          8,
          873,
          745,
          107,
          2912,
          158,
          27315,
          2947,
          238
         ],
         "yaxis": "y"
        },
        {
         "alignmentgroup": "True",
         "hovertemplate": "variable=CPA_Complaints/Cases_Declared_False/Unsubstantiated<br>Area_Name=%{x}<br>value=%{y}<extra></extra>",
         "legendgroup": "CPA_Complaints/Cases_Declared_False/Unsubstantiated",
         "marker": {
          "color": "#00cc96",
          "pattern": {
           "shape": ""
          }
         },
         "name": "CPA_Complaints/Cases_Declared_False/Unsubstantiated",
         "offsetgroup": "CPA_Complaints/Cases_Declared_False/Unsubstantiated",
         "orientation": "v",
         "showlegend": true,
         "textposition": "auto",
         "type": "bar",
         "x": [
          "Andaman & Nicobar Islands",
          "Andhra Pradesh",
          "Arunachal Pradesh",
          "Assam",
          "Bihar",
          "Chandigarh",
          "Chhattisgarh",
          "Dadra & Nagar Haveli",
          "Daman & Diu",
          "Delhi",
          "Goa",
          "Gujarat",
          "Haryana",
          "Himachal Pradesh",
          "Jammu & Kashmir",
          "Jharkhand",
          "Karnataka",
          "Kerala",
          "Lakshadweep",
          "Madhya Pradesh",
          "Maharashtra",
          "Manipur",
          "Meghalaya",
          "Mizoram",
          "Nagaland",
          "Odisha",
          "Puducherry",
          "Punjab",
          "Rajasthan",
          "Sikkim",
          "Tamil Nadu",
          "Tripura",
          "Uttar Pradesh",
          "Uttarakhand",
          "West Bengal"
         ],
         "xaxis": "x",
         "y": [
          139,
          1155,
          5,
          13,
          137,
          1098,
          13716,
          0,
          0,
          6684,
          223,
          3580,
          11444,
          2284,
          3408,
          79,
          279,
          16959,
          0,
          117567,
          31877,
          0,
          0,
          0,
          1,
          43,
          3,
          26457,
          13984,
          5,
          96,
          19,
          35650,
          4304,
          14
         ],
         "yaxis": "y"
        },
        {
         "alignmentgroup": "True",
         "hovertemplate": "variable=CPA_Complaints_Received/Alleged<br>Area_Name=%{x}<br>value=%{y}<extra></extra>",
         "legendgroup": "CPA_Complaints_Received/Alleged",
         "marker": {
          "color": "#ab63fa",
          "pattern": {
           "shape": ""
          }
         },
         "name": "CPA_Complaints_Received/Alleged",
         "offsetgroup": "CPA_Complaints_Received/Alleged",
         "orientation": "v",
         "showlegend": true,
         "textposition": "auto",
         "type": "bar",
         "x": [
          "Andaman & Nicobar Islands",
          "Andhra Pradesh",
          "Arunachal Pradesh",
          "Assam",
          "Bihar",
          "Chandigarh",
          "Chhattisgarh",
          "Dadra & Nagar Haveli",
          "Daman & Diu",
          "Delhi",
          "Goa",
          "Gujarat",
          "Haryana",
          "Himachal Pradesh",
          "Jammu & Kashmir",
          "Jharkhand",
          "Karnataka",
          "Kerala",
          "Lakshadweep",
          "Madhya Pradesh",
          "Maharashtra",
          "Manipur",
          "Meghalaya",
          "Mizoram",
          "Nagaland",
          "Odisha",
          "Puducherry",
          "Punjab",
          "Rajasthan",
          "Sikkim",
          "Tamil Nadu",
          "Tripura",
          "Uttar Pradesh",
          "Uttarakhand",
          "West Bengal"
         ],
         "xaxis": "x",
         "y": [
          288,
          22635,
          647,
          332,
          2785,
          1898,
          17629,
          1,
          1,
          72785,
          367,
          20003,
          13631,
          4888,
          6945,
          13376,
          5155,
          26469,
          2,
          149415,
          44585,
          10,
          81,
          41,
          175,
          3241,
          34,
          43520,
          17485,
          222,
          3958,
          312,
          65102,
          7687,
          923
         ],
         "yaxis": "y"
        },
        {
         "alignmentgroup": "True",
         "hovertemplate": "variable=CPA_No_of_Departmental_Enquiries<br>Area_Name=%{x}<br>value=%{y}<extra></extra>",
         "legendgroup": "CPA_No_of_Departmental_Enquiries",
         "marker": {
          "color": "#FFA15A",
          "pattern": {
           "shape": ""
          }
         },
         "name": "CPA_No_of_Departmental_Enquiries",
         "offsetgroup": "CPA_No_of_Departmental_Enquiries",
         "orientation": "v",
         "showlegend": true,
         "textposition": "auto",
         "type": "bar",
         "x": [
          "Andaman & Nicobar Islands",
          "Andhra Pradesh",
          "Arunachal Pradesh",
          "Assam",
          "Bihar",
          "Chandigarh",
          "Chhattisgarh",
          "Dadra & Nagar Haveli",
          "Daman & Diu",
          "Delhi",
          "Goa",
          "Gujarat",
          "Haryana",
          "Himachal Pradesh",
          "Jammu & Kashmir",
          "Jharkhand",
          "Karnataka",
          "Kerala",
          "Lakshadweep",
          "Madhya Pradesh",
          "Maharashtra",
          "Manipur",
          "Meghalaya",
          "Mizoram",
          "Nagaland",
          "Odisha",
          "Puducherry",
          "Punjab",
          "Rajasthan",
          "Sikkim",
          "Tamil Nadu",
          "Tripura",
          "Uttar Pradesh",
          "Uttarakhand",
          "West Bengal"
         ],
         "xaxis": "x",
         "y": [
          59,
          4538,
          569,
          322,
          242,
          600,
          6908,
          1,
          1,
          5025,
          27,
          5622,
          6444,
          206,
          5729,
          865,
          3036,
          20016,
          0,
          38406,
          10361,
          11,
          61,
          14,
          41,
          342,
          3,
          19943,
          3461,
          110,
          3202,
          244,
          29268,
          7450,
          852
         ],
         "yaxis": "y"
        },
        {
         "alignmentgroup": "True",
         "hovertemplate": "variable=CPA_No_of_Magisterial_Enquiries<br>Area_Name=%{x}<br>value=%{y}<extra></extra>",
         "legendgroup": "CPA_No_of_Magisterial_Enquiries",
         "marker": {
          "color": "#19d3f3",
          "pattern": {
           "shape": ""
          }
         },
         "name": "CPA_No_of_Magisterial_Enquiries",
         "offsetgroup": "CPA_No_of_Magisterial_Enquiries",
         "orientation": "v",
         "showlegend": true,
         "textposition": "auto",
         "type": "bar",
         "x": [
          "Andaman & Nicobar Islands",
          "Andhra Pradesh",
          "Arunachal Pradesh",
          "Assam",
          "Bihar",
          "Chandigarh",
          "Chhattisgarh",
          "Dadra & Nagar Haveli",
          "Daman & Diu",
          "Delhi",
          "Goa",
          "Gujarat",
          "Haryana",
          "Himachal Pradesh",
          "Jammu & Kashmir",
          "Jharkhand",
          "Karnataka",
          "Kerala",
          "Lakshadweep",
          "Madhya Pradesh",
          "Maharashtra",
          "Manipur",
          "Meghalaya",
          "Mizoram",
          "Nagaland",
          "Odisha",
          "Puducherry",
          "Punjab",
          "Rajasthan",
          "Sikkim",
          "Tamil Nadu",
          "Tripura",
          "Uttar Pradesh",
          "Uttarakhand",
          "West Bengal"
         ],
         "xaxis": "x",
         "y": [
          4,
          2996,
          11,
          12,
          49,
          0,
          108,
          0,
          0,
          0,
          0,
          105,
          49,
          10,
          106,
          2,
          60,
          304,
          0,
          1925,
          175,
          0,
          14,
          12,
          1,
          118,
          0,
          235,
          24,
          0,
          200,
          4,
          167,
          10,
          2
         ],
         "yaxis": "y"
        },
        {
         "alignmentgroup": "True",
         "hovertemplate": "variable=CPA_Cases_Sent_for_Trials/Charge-sheeted<br>Area_Name=%{x}<br>value=%{y}<extra></extra>",
         "legendgroup": "CPA_Cases_Sent_for_Trials/Charge-sheeted",
         "marker": {
          "color": "#FF6692",
          "pattern": {
           "shape": ""
          }
         },
         "name": "CPA_Cases_Sent_for_Trials/Charge-sheeted",
         "offsetgroup": "CPA_Cases_Sent_for_Trials/Charge-sheeted",
         "orientation": "v",
         "showlegend": true,
         "textposition": "auto",
         "type": "bar",
         "x": [
          "Andaman & Nicobar Islands",
          "Andhra Pradesh",
          "Arunachal Pradesh",
          "Assam",
          "Bihar",
          "Chandigarh",
          "Chhattisgarh",
          "Dadra & Nagar Haveli",
          "Daman & Diu",
          "Delhi",
          "Goa",
          "Gujarat",
          "Haryana",
          "Himachal Pradesh",
          "Jammu & Kashmir",
          "Jharkhand",
          "Karnataka",
          "Kerala",
          "Lakshadweep",
          "Madhya Pradesh",
          "Maharashtra",
          "Manipur",
          "Meghalaya",
          "Mizoram",
          "Nagaland",
          "Odisha",
          "Puducherry",
          "Punjab",
          "Rajasthan",
          "Sikkim",
          "Tamil Nadu",
          "Tripura",
          "Uttar Pradesh",
          "Uttarakhand",
          "West Bengal"
         ],
         "xaxis": "x",
         "y": [
          76,
          15381,
          51,
          66,
          279,
          7,
          2316,
          1,
          1,
          30,
          17,
          2200,
          96,
          31,
          223,
          527,
          568,
          338,
          1,
          279,
          2130,
          2,
          16,
          40,
          72,
          2017,
          19,
          239,
          453,
          48,
          606,
          68,
          702,
          139,
          78
         ],
         "yaxis": "y"
        },
        {
         "alignmentgroup": "True",
         "hovertemplate": "variable=CPA_No_of_Judicial_Enquiries<br>Area_Name=%{x}<br>value=%{y}<extra></extra>",
         "legendgroup": "CPA_No_of_Judicial_Enquiries",
         "marker": {
          "color": "#B6E880",
          "pattern": {
           "shape": ""
          }
         },
         "name": "CPA_No_of_Judicial_Enquiries",
         "offsetgroup": "CPA_No_of_Judicial_Enquiries",
         "orientation": "v",
         "showlegend": true,
         "textposition": "auto",
         "type": "bar",
         "x": [
          "Andaman & Nicobar Islands",
          "Andhra Pradesh",
          "Arunachal Pradesh",
          "Assam",
          "Bihar",
          "Chandigarh",
          "Chhattisgarh",
          "Dadra & Nagar Haveli",
          "Daman & Diu",
          "Delhi",
          "Goa",
          "Gujarat",
          "Haryana",
          "Himachal Pradesh",
          "Jammu & Kashmir",
          "Jharkhand",
          "Karnataka",
          "Kerala",
          "Lakshadweep",
          "Madhya Pradesh",
          "Maharashtra",
          "Manipur",
          "Meghalaya",
          "Mizoram",
          "Nagaland",
          "Odisha",
          "Puducherry",
          "Punjab",
          "Rajasthan",
          "Sikkim",
          "Tamil Nadu",
          "Tripura",
          "Uttar Pradesh",
          "Uttarakhand",
          "West Bengal"
         ],
         "xaxis": "x",
         "y": [
          88,
          310,
          15,
          52,
          466,
          0,
          122,
          0,
          0,
          0,
          5,
          249,
          20,
          1,
          39,
          255,
          106,
          10,
          0,
          12,
          477,
          0,
          2,
          2,
          10,
          296,
          0,
          8,
          16,
          30,
          503,
          80,
          17,
          33,
          56
         ],
         "yaxis": "y"
        },
        {
         "alignmentgroup": "True",
         "hovertemplate": "variable=CPB_Police_Personnel_Acquitted<br>Area_Name=%{x}<br>value=%{y}<extra></extra>",
         "legendgroup": "CPB_Police_Personnel_Acquitted",
         "marker": {
          "color": "#FF97FF",
          "pattern": {
           "shape": ""
          }
         },
         "name": "CPB_Police_Personnel_Acquitted",
         "offsetgroup": "CPB_Police_Personnel_Acquitted",
         "orientation": "v",
         "showlegend": true,
         "textposition": "auto",
         "type": "bar",
         "x": [
          "Andaman & Nicobar Islands",
          "Andhra Pradesh",
          "Arunachal Pradesh",
          "Assam",
          "Bihar",
          "Chandigarh",
          "Chhattisgarh",
          "Dadra & Nagar Haveli",
          "Daman & Diu",
          "Delhi",
          "Goa",
          "Gujarat",
          "Haryana",
          "Himachal Pradesh",
          "Jammu & Kashmir",
          "Jharkhand",
          "Karnataka",
          "Kerala",
          "Lakshadweep",
          "Madhya Pradesh",
          "Maharashtra",
          "Manipur",
          "Meghalaya",
          "Mizoram",
          "Nagaland",
          "Odisha",
          "Puducherry",
          "Punjab",
          "Rajasthan",
          "Sikkim",
          "Tamil Nadu",
          "Tripura",
          "Uttar Pradesh",
          "Uttarakhand",
          "West Bengal"
         ],
         "xaxis": "x",
         "y": [
          4,
          94,
          0,
          10,
          1,
          0,
          335,
          0,
          1,
          0,
          9,
          132,
          7,
          28,
          22,
          11,
          69,
          94,
          0,
          14,
          242,
          1,
          0,
          8,
          14,
          8,
          3,
          171,
          27,
          0,
          88,
          9,
          36,
          9,
          7
         ],
         "yaxis": "y"
        },
        {
         "alignmentgroup": "True",
         "hovertemplate": "variable=CPB_Police_Personnel_Convicted<br>Area_Name=%{x}<br>value=%{y}<extra></extra>",
         "legendgroup": "CPB_Police_Personnel_Convicted",
         "marker": {
          "color": "#FECB52",
          "pattern": {
           "shape": ""
          }
         },
         "name": "CPB_Police_Personnel_Convicted",
         "offsetgroup": "CPB_Police_Personnel_Convicted",
         "orientation": "v",
         "showlegend": true,
         "textposition": "auto",
         "type": "bar",
         "x": [
          "Andaman & Nicobar Islands",
          "Andhra Pradesh",
          "Arunachal Pradesh",
          "Assam",
          "Bihar",
          "Chandigarh",
          "Chhattisgarh",
          "Dadra & Nagar Haveli",
          "Daman & Diu",
          "Delhi",
          "Goa",
          "Gujarat",
          "Haryana",
          "Himachal Pradesh",
          "Jammu & Kashmir",
          "Jharkhand",
          "Karnataka",
          "Kerala",
          "Lakshadweep",
          "Madhya Pradesh",
          "Maharashtra",
          "Manipur",
          "Meghalaya",
          "Mizoram",
          "Nagaland",
          "Odisha",
          "Puducherry",
          "Punjab",
          "Rajasthan",
          "Sikkim",
          "Tamil Nadu",
          "Tripura",
          "Uttar Pradesh",
          "Uttarakhand",
          "West Bengal"
         ],
         "xaxis": "x",
         "y": [
          2,
          15,
          0,
          0,
          0,
          0,
          95,
          1,
          0,
          0,
          2,
          121,
          0,
          9,
          2,
          1,
          9,
          23,
          0,
          16,
          59,
          2,
          0,
          5,
          4,
          1,
          1,
          60,
          13,
          2,
          17,
          7,
          13,
          4,
          4
         ],
         "yaxis": "y"
        },
        {
         "alignmentgroup": "True",
         "hovertemplate": "variable=CPB_Police_Personnel_sent_up_for_Trial<br>Area_Name=%{x}<br>value=%{y}<extra></extra>",
         "legendgroup": "CPB_Police_Personnel_sent_up_for_Trial",
         "marker": {
          "color": "#636efa",
          "pattern": {
           "shape": ""
          }
         },
         "name": "CPB_Police_Personnel_sent_up_for_Trial",
         "offsetgroup": "CPB_Police_Personnel_sent_up_for_Trial",
         "orientation": "v",
         "showlegend": true,
         "textposition": "auto",
         "type": "bar",
         "x": [
          "Andaman & Nicobar Islands",
          "Andhra Pradesh",
          "Arunachal Pradesh",
          "Assam",
          "Bihar",
          "Chandigarh",
          "Chhattisgarh",
          "Dadra & Nagar Haveli",
          "Daman & Diu",
          "Delhi",
          "Goa",
          "Gujarat",
          "Haryana",
          "Himachal Pradesh",
          "Jammu & Kashmir",
          "Jharkhand",
          "Karnataka",
          "Kerala",
          "Lakshadweep",
          "Madhya Pradesh",
          "Maharashtra",
          "Manipur",
          "Meghalaya",
          "Mizoram",
          "Nagaland",
          "Odisha",
          "Puducherry",
          "Punjab",
          "Rajasthan",
          "Sikkim",
          "Tamil Nadu",
          "Tripura",
          "Uttar Pradesh",
          "Uttarakhand",
          "West Bengal"
         ],
         "xaxis": "x",
         "y": [
          73,
          1085,
          35,
          70,
          570,
          7,
          553,
          1,
          0,
          30,
          16,
          2718,
          144,
          1869,
          662,
          14,
          493,
          474,
          1,
          513,
          2290,
          3,
          18,
          36,
          52,
          280,
          19,
          496,
          602,
          3,
          740,
          94,
          988,
          156,
          91
         ],
         "yaxis": "y"
        },
        {
         "alignmentgroup": "True",
         "hovertemplate": "variable=CPB_Police_Personnel_Trial_Completed<br>Area_Name=%{x}<br>value=%{y}<extra></extra>",
         "legendgroup": "CPB_Police_Personnel_Trial_Completed",
         "marker": {
          "color": "#EF553B",
          "pattern": {
           "shape": ""
          }
         },
         "name": "CPB_Police_Personnel_Trial_Completed",
         "offsetgroup": "CPB_Police_Personnel_Trial_Completed",
         "orientation": "v",
         "showlegend": true,
         "textposition": "auto",
         "type": "bar",
         "x": [
          "Andaman & Nicobar Islands",
          "Andhra Pradesh",
          "Arunachal Pradesh",
          "Assam",
          "Bihar",
          "Chandigarh",
          "Chhattisgarh",
          "Dadra & Nagar Haveli",
          "Daman & Diu",
          "Delhi",
          "Goa",
          "Gujarat",
          "Haryana",
          "Himachal Pradesh",
          "Jammu & Kashmir",
          "Jharkhand",
          "Karnataka",
          "Kerala",
          "Lakshadweep",
          "Madhya Pradesh",
          "Maharashtra",
          "Manipur",
          "Meghalaya",
          "Mizoram",
          "Nagaland",
          "Odisha",
          "Puducherry",
          "Punjab",
          "Rajasthan",
          "Sikkim",
          "Tamil Nadu",
          "Tripura",
          "Uttar Pradesh",
          "Uttarakhand",
          "West Bengal"
         ],
         "xaxis": "x",
         "y": [
          6,
          109,
          0,
          10,
          1,
          0,
          430,
          1,
          1,
          0,
          11,
          253,
          7,
          37,
          24,
          12,
          78,
          117,
          0,
          30,
          301,
          3,
          0,
          13,
          18,
          9,
          4,
          231,
          40,
          2,
          105,
          16,
          49,
          13,
          11
         ],
         "yaxis": "y"
        },
        {
         "alignmentgroup": "True",
         "hovertemplate": "variable=CPB_Police_Personnel_Cases_Withdrawn_or_Otherwise_disposed_of<br>Area_Name=%{x}<br>value=%{y}<extra></extra>",
         "legendgroup": "CPB_Police_Personnel_Cases_Withdrawn_or_Otherwise_disposed_of",
         "marker": {
          "color": "#00cc96",
          "pattern": {
           "shape": ""
          }
         },
         "name": "CPB_Police_Personnel_Cases_Withdrawn_or_Otherwise_disposed_of",
         "offsetgroup": "CPB_Police_Personnel_Cases_Withdrawn_or_Otherwise_disposed_of",
         "orientation": "v",
         "showlegend": true,
         "textposition": "auto",
         "type": "bar",
         "x": [
          "Andaman & Nicobar Islands",
          "Andhra Pradesh",
          "Arunachal Pradesh",
          "Assam",
          "Bihar",
          "Chandigarh",
          "Chhattisgarh",
          "Dadra & Nagar Haveli",
          "Daman & Diu",
          "Delhi",
          "Goa",
          "Gujarat",
          "Haryana",
          "Himachal Pradesh",
          "Jammu & Kashmir",
          "Jharkhand",
          "Karnataka",
          "Kerala",
          "Lakshadweep",
          "Madhya Pradesh",
          "Maharashtra",
          "Manipur",
          "Meghalaya",
          "Mizoram",
          "Nagaland",
          "Odisha",
          "Puducherry",
          "Punjab",
          "Rajasthan",
          "Sikkim",
          "Tamil Nadu",
          "Tripura",
          "Uttar Pradesh",
          "Uttarakhand",
          "West Bengal"
         ],
         "xaxis": "x",
         "y": [
          2,
          95,
          5,
          12,
          87,
          150,
          422,
          1,
          0,
          0,
          6,
          203,
          4,
          23,
          278,
          5,
          37,
          82,
          0,
          64,
          105,
          0,
          4,
          7,
          4,
          33,
          0,
          158,
          40,
          0,
          126,
          62,
          125,
          6,
          4
         ],
         "yaxis": "y"
        },
        {
         "alignmentgroup": "True",
         "hovertemplate": "variable=CPC_Police_personnel_Cases_Trial_Completed<br>Area_Name=%{x}<br>value=%{y}<extra></extra>",
         "legendgroup": "CPC_Police_personnel_Cases_Trial_Completed",
         "marker": {
          "color": "#ab63fa",
          "pattern": {
           "shape": ""
          }
         },
         "name": "CPC_Police_personnel_Cases_Trial_Completed",
         "offsetgroup": "CPC_Police_personnel_Cases_Trial_Completed",
         "orientation": "v",
         "showlegend": true,
         "textposition": "auto",
         "type": "bar",
         "x": [
          "Andaman & Nicobar Islands",
          "Andhra Pradesh",
          "Arunachal Pradesh",
          "Assam",
          "Bihar",
          "Chandigarh",
          "Chhattisgarh",
          "Dadra & Nagar Haveli",
          "Daman & Diu",
          "Delhi",
          "Goa",
          "Gujarat",
          "Haryana",
          "Himachal Pradesh",
          "Jammu & Kashmir",
          "Jharkhand",
          "Karnataka",
          "Kerala",
          "Lakshadweep",
          "Madhya Pradesh",
          "Maharashtra",
          "Manipur",
          "Meghalaya",
          "Mizoram",
          "Nagaland",
          "Odisha",
          "Puducherry",
          "Punjab",
          "Rajasthan",
          "Sikkim",
          "Tamil Nadu",
          "Tripura",
          "Uttar Pradesh",
          "Uttarakhand",
          "West Bengal"
         ],
         "xaxis": "x",
         "y": [
          90,
          1526,
          95,
          39,
          4451,
          454,
          760,
          0,
          0,
          2711,
          310,
          8413,
          16,
          154,
          4613,
          1876,
          4091,
          2380,
          0,
          1232,
          5917,
          3,
          30,
          79,
          20,
          495,
          40,
          2850,
          27232,
          77,
          9918,
          479,
          25978,
          2976,
          261
         ],
         "yaxis": "y"
        },
        {
         "alignmentgroup": "True",
         "hovertemplate": "variable=CPC_Police_Personnel_Cases_Withdrawn_or_Otherwise_disposed_of<br>Area_Name=%{x}<br>value=%{y}<extra></extra>",
         "legendgroup": "CPC_Police_Personnel_Cases_Withdrawn_or_Otherwise_disposed_of",
         "marker": {
          "color": "#FFA15A",
          "pattern": {
           "shape": ""
          }
         },
         "name": "CPC_Police_Personnel_Cases_Withdrawn_or_Otherwise_disposed_of",
         "offsetgroup": "CPC_Police_Personnel_Cases_Withdrawn_or_Otherwise_disposed_of",
         "orientation": "v",
         "showlegend": true,
         "textposition": "auto",
         "type": "bar",
         "x": [
          "Andaman & Nicobar Islands",
          "Andhra Pradesh",
          "Arunachal Pradesh",
          "Assam",
          "Bihar",
          "Chandigarh",
          "Chhattisgarh",
          "Dadra & Nagar Haveli",
          "Daman & Diu",
          "Delhi",
          "Goa",
          "Gujarat",
          "Haryana",
          "Himachal Pradesh",
          "Jammu & Kashmir",
          "Jharkhand",
          "Karnataka",
          "Kerala",
          "Lakshadweep",
          "Madhya Pradesh",
          "Maharashtra",
          "Manipur",
          "Meghalaya",
          "Mizoram",
          "Nagaland",
          "Odisha",
          "Puducherry",
          "Punjab",
          "Rajasthan",
          "Sikkim",
          "Tamil Nadu",
          "Tripura",
          "Uttar Pradesh",
          "Uttarakhand",
          "West Bengal"
         ],
         "xaxis": "x",
         "y": [
          74,
          5951,
          63,
          39,
          1658,
          914,
          440,
          0,
          1,
          805,
          832,
          1892,
          0,
          199,
          6833,
          967,
          1508,
          1343,
          0,
          1408,
          1944,
          0,
          72,
          16,
          5,
          410,
          45,
          2200,
          9119,
          27,
          2253,
          236,
          3437,
          666,
          74
         ],
         "yaxis": "y"
        },
        {
         "alignmentgroup": "True",
         "hovertemplate": "variable=CPC_Police_Personnel_Disciplinary_Action_Initiated<br>Area_Name=%{x}<br>value=%{y}<extra></extra>",
         "legendgroup": "CPC_Police_Personnel_Disciplinary_Action_Initiated",
         "marker": {
          "color": "#19d3f3",
          "pattern": {
           "shape": ""
          }
         },
         "name": "CPC_Police_Personnel_Disciplinary_Action_Initiated",
         "offsetgroup": "CPC_Police_Personnel_Disciplinary_Action_Initiated",
         "orientation": "v",
         "showlegend": true,
         "textposition": "auto",
         "type": "bar",
         "x": [
          "Andaman & Nicobar Islands",
          "Andhra Pradesh",
          "Arunachal Pradesh",
          "Assam",
          "Bihar",
          "Chandigarh",
          "Chhattisgarh",
          "Dadra & Nagar Haveli",
          "Daman & Diu",
          "Delhi",
          "Goa",
          "Gujarat",
          "Haryana",
          "Himachal Pradesh",
          "Jammu & Kashmir",
          "Jharkhand",
          "Karnataka",
          "Kerala",
          "Lakshadweep",
          "Madhya Pradesh",
          "Maharashtra",
          "Manipur",
          "Meghalaya",
          "Mizoram",
          "Nagaland",
          "Odisha",
          "Puducherry",
          "Punjab",
          "Rajasthan",
          "Sikkim",
          "Tamil Nadu",
          "Tripura",
          "Uttar Pradesh",
          "Uttarakhand",
          "West Bengal"
         ],
         "xaxis": "x",
         "y": [
          377,
          20912,
          764,
          510,
          8818,
          972,
          1520,
          0,
          7,
          7250,
          1463,
          16524,
          618,
          678,
          19076,
          5431,
          9057,
          8917,
          0,
          3967,
          11813,
          13,
          235,
          117,
          40,
          2085,
          333,
          14702,
          43805,
          207,
          17155,
          1085,
          29415,
          4082,
          1832
         ],
         "yaxis": "y"
        },
        {
         "alignmentgroup": "True",
         "hovertemplate": "variable=CPC_Police_Personnel_Dismissal/Removal_from_Service<br>Area_Name=%{x}<br>value=%{y}<extra></extra>",
         "legendgroup": "CPC_Police_Personnel_Dismissal/Removal_from_Service",
         "marker": {
          "color": "#FF6692",
          "pattern": {
           "shape": ""
          }
         },
         "name": "CPC_Police_Personnel_Dismissal/Removal_from_Service",
         "offsetgroup": "CPC_Police_Personnel_Dismissal/Removal_from_Service",
         "orientation": "v",
         "showlegend": true,
         "textposition": "auto",
         "type": "bar",
         "x": [
          "Andaman & Nicobar Islands",
          "Andhra Pradesh",
          "Arunachal Pradesh",
          "Assam",
          "Bihar",
          "Chandigarh",
          "Chhattisgarh",
          "Dadra & Nagar Haveli",
          "Daman & Diu",
          "Delhi",
          "Goa",
          "Gujarat",
          "Haryana",
          "Himachal Pradesh",
          "Jammu & Kashmir",
          "Jharkhand",
          "Karnataka",
          "Kerala",
          "Lakshadweep",
          "Madhya Pradesh",
          "Maharashtra",
          "Manipur",
          "Meghalaya",
          "Mizoram",
          "Nagaland",
          "Odisha",
          "Puducherry",
          "Punjab",
          "Rajasthan",
          "Sikkim",
          "Tamil Nadu",
          "Tripura",
          "Uttar Pradesh",
          "Uttarakhand",
          "West Bengal"
         ],
         "xaxis": "x",
         "y": [
          19,
          338,
          7,
          18,
          168,
          51,
          139,
          0,
          0,
          884,
          14,
          509,
          57,
          14,
          843,
          224,
          97,
          115,
          0,
          376,
          535,
          1,
          32,
          8,
          3,
          70,
          12,
          1190,
          835,
          13,
          323,
          94,
          756,
          149,
          74
         ],
         "yaxis": "y"
        },
        {
         "alignmentgroup": "True",
         "hovertemplate": "variable=CPC_Police_Personnel_Major_Punishment_awarded<br>Area_Name=%{x}<br>value=%{y}<extra></extra>",
         "legendgroup": "CPC_Police_Personnel_Major_Punishment_awarded",
         "marker": {
          "color": "#B6E880",
          "pattern": {
           "shape": ""
          }
         },
         "name": "CPC_Police_Personnel_Major_Punishment_awarded",
         "offsetgroup": "CPC_Police_Personnel_Major_Punishment_awarded",
         "orientation": "v",
         "showlegend": true,
         "textposition": "auto",
         "type": "bar",
         "x": [
          "Andaman & Nicobar Islands",
          "Andhra Pradesh",
          "Arunachal Pradesh",
          "Assam",
          "Bihar",
          "Chandigarh",
          "Chhattisgarh",
          "Dadra & Nagar Haveli",
          "Daman & Diu",
          "Delhi",
          "Goa",
          "Gujarat",
          "Haryana",
          "Himachal Pradesh",
          "Jammu & Kashmir",
          "Jharkhand",
          "Karnataka",
          "Kerala",
          "Lakshadweep",
          "Madhya Pradesh",
          "Maharashtra",
          "Manipur",
          "Meghalaya",
          "Mizoram",
          "Nagaland",
          "Odisha",
          "Puducherry",
          "Punjab",
          "Rajasthan",
          "Sikkim",
          "Tamil Nadu",
          "Tripura",
          "Uttar Pradesh",
          "Uttarakhand",
          "West Bengal"
         ],
         "xaxis": "x",
         "y": [
          71,
          2578,
          82,
          225,
          4024,
          457,
          362,
          0,
          0,
          3520,
          19,
          1903,
          292,
          182,
          9807,
          2198,
          593,
          952,
          0,
          840,
          966,
          1,
          341,
          70,
          26,
          1015,
          15,
          6990,
          5440,
          18,
          3711,
          229,
          3872,
          428,
          770
         ],
         "yaxis": "y"
        },
        {
         "alignmentgroup": "True",
         "hovertemplate": "variable=CPC_Police_Personnel_Minor_Punishment_awarded<br>Area_Name=%{x}<br>value=%{y}<extra></extra>",
         "legendgroup": "CPC_Police_Personnel_Minor_Punishment_awarded",
         "marker": {
          "color": "#FF97FF",
          "pattern": {
           "shape": ""
          }
         },
         "name": "CPC_Police_Personnel_Minor_Punishment_awarded",
         "offsetgroup": "CPC_Police_Personnel_Minor_Punishment_awarded",
         "orientation": "v",
         "showlegend": true,
         "textposition": "auto",
         "type": "bar",
         "x": [
          "Andaman & Nicobar Islands",
          "Andhra Pradesh",
          "Arunachal Pradesh",
          "Assam",
          "Bihar",
          "Chandigarh",
          "Chhattisgarh",
          "Dadra & Nagar Haveli",
          "Daman & Diu",
          "Delhi",
          "Goa",
          "Gujarat",
          "Haryana",
          "Himachal Pradesh",
          "Jammu & Kashmir",
          "Jharkhand",
          "Karnataka",
          "Kerala",
          "Lakshadweep",
          "Madhya Pradesh",
          "Maharashtra",
          "Manipur",
          "Meghalaya",
          "Mizoram",
          "Nagaland",
          "Odisha",
          "Puducherry",
          "Punjab",
          "Rajasthan",
          "Sikkim",
          "Tamil Nadu",
          "Tripura",
          "Uttar Pradesh",
          "Uttarakhand",
          "West Bengal"
         ],
         "xaxis": "x",
         "y": [
          290,
          12636,
          208,
          953,
          3646,
          603,
          761,
          0,
          1,
          15500,
          857,
          11379,
          212,
          346,
          6535,
          1172,
          5844,
          2413,
          0,
          2025,
          17547,
          3,
          515,
          19,
          3,
          2043,
          53,
          27365,
          20957,
          112,
          8784,
          1667,
          21350,
          2383,
          2232
         ],
         "yaxis": "y"
        }
       ],
       "layout": {
        "barmode": "relative",
        "legend": {
         "title": {
          "text": "variable"
         },
         "tracegroupgap": 0
        },
        "margin": {
         "t": 60
        },
        "template": {
         "data": {
          "bar": [
           {
            "error_x": {
             "color": "#2a3f5f"
            },
            "error_y": {
             "color": "#2a3f5f"
            },
            "marker": {
             "line": {
              "color": "#E5ECF6",
              "width": 0.5
             },
             "pattern": {
              "fillmode": "overlay",
              "size": 10,
              "solidity": 0.2
             }
            },
            "type": "bar"
           }
          ],
          "barpolar": [
           {
            "marker": {
             "line": {
              "color": "#E5ECF6",
              "width": 0.5
             },
             "pattern": {
              "fillmode": "overlay",
              "size": 10,
              "solidity": 0.2
             }
            },
            "type": "barpolar"
           }
          ],
          "carpet": [
           {
            "aaxis": {
             "endlinecolor": "#2a3f5f",
             "gridcolor": "white",
             "linecolor": "white",
             "minorgridcolor": "white",
             "startlinecolor": "#2a3f5f"
            },
            "baxis": {
             "endlinecolor": "#2a3f5f",
             "gridcolor": "white",
             "linecolor": "white",
             "minorgridcolor": "white",
             "startlinecolor": "#2a3f5f"
            },
            "type": "carpet"
           }
          ],
          "choropleth": [
           {
            "colorbar": {
             "outlinewidth": 0,
             "ticks": ""
            },
            "type": "choropleth"
           }
          ],
          "contour": [
           {
            "colorbar": {
             "outlinewidth": 0,
             "ticks": ""
            },
            "colorscale": [
             [
              0,
              "#0d0887"
             ],
             [
              0.1111111111111111,
              "#46039f"
             ],
             [
              0.2222222222222222,
              "#7201a8"
             ],
             [
              0.3333333333333333,
              "#9c179e"
             ],
             [
              0.4444444444444444,
              "#bd3786"
             ],
             [
              0.5555555555555556,
              "#d8576b"
             ],
             [
              0.6666666666666666,
              "#ed7953"
             ],
             [
              0.7777777777777778,
              "#fb9f3a"
             ],
             [
              0.8888888888888888,
              "#fdca26"
             ],
             [
              1,
              "#f0f921"
             ]
            ],
            "type": "contour"
           }
          ],
          "contourcarpet": [
           {
            "colorbar": {
             "outlinewidth": 0,
             "ticks": ""
            },
            "type": "contourcarpet"
           }
          ],
          "heatmap": [
           {
            "colorbar": {
             "outlinewidth": 0,
             "ticks": ""
            },
            "colorscale": [
             [
              0,
              "#0d0887"
             ],
             [
              0.1111111111111111,
              "#46039f"
             ],
             [
              0.2222222222222222,
              "#7201a8"
             ],
             [
              0.3333333333333333,
              "#9c179e"
             ],
             [
              0.4444444444444444,
              "#bd3786"
             ],
             [
              0.5555555555555556,
              "#d8576b"
             ],
             [
              0.6666666666666666,
              "#ed7953"
             ],
             [
              0.7777777777777778,
              "#fb9f3a"
             ],
             [
              0.8888888888888888,
              "#fdca26"
             ],
             [
              1,
              "#f0f921"
             ]
            ],
            "type": "heatmap"
           }
          ],
          "heatmapgl": [
           {
            "colorbar": {
             "outlinewidth": 0,
             "ticks": ""
            },
            "colorscale": [
             [
              0,
              "#0d0887"
             ],
             [
              0.1111111111111111,
              "#46039f"
             ],
             [
              0.2222222222222222,
              "#7201a8"
             ],
             [
              0.3333333333333333,
              "#9c179e"
             ],
             [
              0.4444444444444444,
              "#bd3786"
             ],
             [
              0.5555555555555556,
              "#d8576b"
             ],
             [
              0.6666666666666666,
              "#ed7953"
             ],
             [
              0.7777777777777778,
              "#fb9f3a"
             ],
             [
              0.8888888888888888,
              "#fdca26"
             ],
             [
              1,
              "#f0f921"
             ]
            ],
            "type": "heatmapgl"
           }
          ],
          "histogram": [
           {
            "marker": {
             "pattern": {
              "fillmode": "overlay",
              "size": 10,
              "solidity": 0.2
             }
            },
            "type": "histogram"
           }
          ],
          "histogram2d": [
           {
            "colorbar": {
             "outlinewidth": 0,
             "ticks": ""
            },
            "colorscale": [
             [
              0,
              "#0d0887"
             ],
             [
              0.1111111111111111,
              "#46039f"
             ],
             [
              0.2222222222222222,
              "#7201a8"
             ],
             [
              0.3333333333333333,
              "#9c179e"
             ],
             [
              0.4444444444444444,
              "#bd3786"
             ],
             [
              0.5555555555555556,
              "#d8576b"
             ],
             [
              0.6666666666666666,
              "#ed7953"
             ],
             [
              0.7777777777777778,
              "#fb9f3a"
             ],
             [
              0.8888888888888888,
              "#fdca26"
             ],
             [
              1,
              "#f0f921"
             ]
            ],
            "type": "histogram2d"
           }
          ],
          "histogram2dcontour": [
           {
            "colorbar": {
             "outlinewidth": 0,
             "ticks": ""
            },
            "colorscale": [
             [
              0,
              "#0d0887"
             ],
             [
              0.1111111111111111,
              "#46039f"
             ],
             [
              0.2222222222222222,
              "#7201a8"
             ],
             [
              0.3333333333333333,
              "#9c179e"
             ],
             [
              0.4444444444444444,
              "#bd3786"
             ],
             [
              0.5555555555555556,
              "#d8576b"
             ],
             [
              0.6666666666666666,
              "#ed7953"
             ],
             [
              0.7777777777777778,
              "#fb9f3a"
             ],
             [
              0.8888888888888888,
              "#fdca26"
             ],
             [
              1,
              "#f0f921"
             ]
            ],
            "type": "histogram2dcontour"
           }
          ],
          "mesh3d": [
           {
            "colorbar": {
             "outlinewidth": 0,
             "ticks": ""
            },
            "type": "mesh3d"
           }
          ],
          "parcoords": [
           {
            "line": {
             "colorbar": {
              "outlinewidth": 0,
              "ticks": ""
             }
            },
            "type": "parcoords"
           }
          ],
          "pie": [
           {
            "automargin": true,
            "type": "pie"
           }
          ],
          "scatter": [
           {
            "fillpattern": {
             "fillmode": "overlay",
             "size": 10,
             "solidity": 0.2
            },
            "type": "scatter"
           }
          ],
          "scatter3d": [
           {
            "line": {
             "colorbar": {
              "outlinewidth": 0,
              "ticks": ""
             }
            },
            "marker": {
             "colorbar": {
              "outlinewidth": 0,
              "ticks": ""
             }
            },
            "type": "scatter3d"
           }
          ],
          "scattercarpet": [
           {
            "marker": {
             "colorbar": {
              "outlinewidth": 0,
              "ticks": ""
             }
            },
            "type": "scattercarpet"
           }
          ],
          "scattergeo": [
           {
            "marker": {
             "colorbar": {
              "outlinewidth": 0,
              "ticks": ""
             }
            },
            "type": "scattergeo"
           }
          ],
          "scattergl": [
           {
            "marker": {
             "colorbar": {
              "outlinewidth": 0,
              "ticks": ""
             }
            },
            "type": "scattergl"
           }
          ],
          "scattermapbox": [
           {
            "marker": {
             "colorbar": {
              "outlinewidth": 0,
              "ticks": ""
             }
            },
            "type": "scattermapbox"
           }
          ],
          "scatterpolar": [
           {
            "marker": {
             "colorbar": {
              "outlinewidth": 0,
              "ticks": ""
             }
            },
            "type": "scatterpolar"
           }
          ],
          "scatterpolargl": [
           {
            "marker": {
             "colorbar": {
              "outlinewidth": 0,
              "ticks": ""
             }
            },
            "type": "scatterpolargl"
           }
          ],
          "scatterternary": [
           {
            "marker": {
             "colorbar": {
              "outlinewidth": 0,
              "ticks": ""
             }
            },
            "type": "scatterternary"
           }
          ],
          "surface": [
           {
            "colorbar": {
             "outlinewidth": 0,
             "ticks": ""
            },
            "colorscale": [
             [
              0,
              "#0d0887"
             ],
             [
              0.1111111111111111,
              "#46039f"
             ],
             [
              0.2222222222222222,
              "#7201a8"
             ],
             [
              0.3333333333333333,
              "#9c179e"
             ],
             [
              0.4444444444444444,
              "#bd3786"
             ],
             [
              0.5555555555555556,
              "#d8576b"
             ],
             [
              0.6666666666666666,
              "#ed7953"
             ],
             [
              0.7777777777777778,
              "#fb9f3a"
             ],
             [
              0.8888888888888888,
              "#fdca26"
             ],
             [
              1,
              "#f0f921"
             ]
            ],
            "type": "surface"
           }
          ],
          "table": [
           {
            "cells": {
             "fill": {
              "color": "#EBF0F8"
             },
             "line": {
              "color": "white"
             }
            },
            "header": {
             "fill": {
              "color": "#C8D4E3"
             },
             "line": {
              "color": "white"
             }
            },
            "type": "table"
           }
          ]
         },
         "layout": {
          "annotationdefaults": {
           "arrowcolor": "#2a3f5f",
           "arrowhead": 0,
           "arrowwidth": 1
          },
          "autotypenumbers": "strict",
          "coloraxis": {
           "colorbar": {
            "outlinewidth": 0,
            "ticks": ""
           }
          },
          "colorscale": {
           "diverging": [
            [
             0,
             "#8e0152"
            ],
            [
             0.1,
             "#c51b7d"
            ],
            [
             0.2,
             "#de77ae"
            ],
            [
             0.3,
             "#f1b6da"
            ],
            [
             0.4,
             "#fde0ef"
            ],
            [
             0.5,
             "#f7f7f7"
            ],
            [
             0.6,
             "#e6f5d0"
            ],
            [
             0.7,
             "#b8e186"
            ],
            [
             0.8,
             "#7fbc41"
            ],
            [
             0.9,
             "#4d9221"
            ],
            [
             1,
             "#276419"
            ]
           ],
           "sequential": [
            [
             0,
             "#0d0887"
            ],
            [
             0.1111111111111111,
             "#46039f"
            ],
            [
             0.2222222222222222,
             "#7201a8"
            ],
            [
             0.3333333333333333,
             "#9c179e"
            ],
            [
             0.4444444444444444,
             "#bd3786"
            ],
            [
             0.5555555555555556,
             "#d8576b"
            ],
            [
             0.6666666666666666,
             "#ed7953"
            ],
            [
             0.7777777777777778,
             "#fb9f3a"
            ],
            [
             0.8888888888888888,
             "#fdca26"
            ],
            [
             1,
             "#f0f921"
            ]
           ],
           "sequentialminus": [
            [
             0,
             "#0d0887"
            ],
            [
             0.1111111111111111,
             "#46039f"
            ],
            [
             0.2222222222222222,
             "#7201a8"
            ],
            [
             0.3333333333333333,
             "#9c179e"
            ],
            [
             0.4444444444444444,
             "#bd3786"
            ],
            [
             0.5555555555555556,
             "#d8576b"
            ],
            [
             0.6666666666666666,
             "#ed7953"
            ],
            [
             0.7777777777777778,
             "#fb9f3a"
            ],
            [
             0.8888888888888888,
             "#fdca26"
            ],
            [
             1,
             "#f0f921"
            ]
           ]
          },
          "colorway": [
           "#636efa",
           "#EF553B",
           "#00cc96",
           "#ab63fa",
           "#FFA15A",
           "#19d3f3",
           "#FF6692",
           "#B6E880",
           "#FF97FF",
           "#FECB52"
          ],
          "font": {
           "color": "#2a3f5f"
          },
          "geo": {
           "bgcolor": "white",
           "lakecolor": "white",
           "landcolor": "#E5ECF6",
           "showlakes": true,
           "showland": true,
           "subunitcolor": "white"
          },
          "hoverlabel": {
           "align": "left"
          },
          "hovermode": "closest",
          "mapbox": {
           "style": "light"
          },
          "paper_bgcolor": "white",
          "plot_bgcolor": "#E5ECF6",
          "polar": {
           "angularaxis": {
            "gridcolor": "white",
            "linecolor": "white",
            "ticks": ""
           },
           "bgcolor": "#E5ECF6",
           "radialaxis": {
            "gridcolor": "white",
            "linecolor": "white",
            "ticks": ""
           }
          },
          "scene": {
           "xaxis": {
            "backgroundcolor": "#E5ECF6",
            "gridcolor": "white",
            "gridwidth": 2,
            "linecolor": "white",
            "showbackground": true,
            "ticks": "",
            "zerolinecolor": "white"
           },
           "yaxis": {
            "backgroundcolor": "#E5ECF6",
            "gridcolor": "white",
            "gridwidth": 2,
            "linecolor": "white",
            "showbackground": true,
            "ticks": "",
            "zerolinecolor": "white"
           },
           "zaxis": {
            "backgroundcolor": "#E5ECF6",
            "gridcolor": "white",
            "gridwidth": 2,
            "linecolor": "white",
            "showbackground": true,
            "ticks": "",
            "zerolinecolor": "white"
           }
          },
          "shapedefaults": {
           "line": {
            "color": "#2a3f5f"
           }
          },
          "ternary": {
           "aaxis": {
            "gridcolor": "white",
            "linecolor": "white",
            "ticks": ""
           },
           "baxis": {
            "gridcolor": "white",
            "linecolor": "white",
            "ticks": ""
           },
           "bgcolor": "#E5ECF6",
           "caxis": {
            "gridcolor": "white",
            "linecolor": "white",
            "ticks": ""
           }
          },
          "title": {
           "x": 0.05
          },
          "xaxis": {
           "automargin": true,
           "gridcolor": "white",
           "linecolor": "white",
           "ticks": "",
           "title": {
            "standoff": 15
           },
           "zerolinecolor": "white",
           "zerolinewidth": 2
          },
          "yaxis": {
           "automargin": true,
           "gridcolor": "white",
           "linecolor": "white",
           "ticks": "",
           "title": {
            "standoff": 15
           },
           "zerolinecolor": "white",
           "zerolinewidth": 2
          }
         }
        },
        "xaxis": {
         "anchor": "y",
         "domain": [
          0,
          1
         ],
         "title": {
          "text": "Area_Name"
         }
        },
        "yaxis": {
         "anchor": "x",
         "domain": [
          0,
          1
         ],
         "title": {
          "text": "value"
         }
        }
       }
      },
      "text/html": [
       "<div>                            <div id=\"3b35ba24-1d32-4b11-9f29-774751fcc16c\" class=\"plotly-graph-div\" style=\"height:525px; width:100%;\"></div>            <script type=\"text/javascript\">                require([\"plotly\"], function(Plotly) {                    window.PLOTLYENV=window.PLOTLYENV || {};                                    if (document.getElementById(\"3b35ba24-1d32-4b11-9f29-774751fcc16c\")) {                    Plotly.newPlot(                        \"3b35ba24-1d32-4b11-9f29-774751fcc16c\",                        [{\"alignmentgroup\":\"True\",\"hovertemplate\":\"variable=CPA_Cases_Registered<br>Area_Name=%{x}<br>value=%{y}<extra></extra>\",\"legendgroup\":\"CPA_Cases_Registered\",\"marker\":{\"color\":\"#636efa\",\"pattern\":{\"shape\":\"\"}},\"name\":\"CPA_Cases_Registered\",\"offsetgroup\":\"CPA_Cases_Registered\",\"orientation\":\"v\",\"showlegend\":true,\"textposition\":\"auto\",\"x\":[\"Andaman & Nicobar Islands\",\"Andhra Pradesh\",\"Arunachal Pradesh\",\"Assam\",\"Bihar\",\"Chandigarh\",\"Chhattisgarh\",\"Dadra & Nagar Haveli\",\"Daman & Diu\",\"Delhi\",\"Goa\",\"Gujarat\",\"Haryana\",\"Himachal Pradesh\",\"Jammu & Kashmir\",\"Jharkhand\",\"Karnataka\",\"Kerala\",\"Lakshadweep\",\"Madhya Pradesh\",\"Maharashtra\",\"Manipur\",\"Meghalaya\",\"Mizoram\",\"Nagaland\",\"Odisha\",\"Puducherry\",\"Punjab\",\"Rajasthan\",\"Sikkim\",\"Tamil Nadu\",\"Tripura\",\"Uttar Pradesh\",\"Uttarakhand\",\"West Bengal\"],\"xaxis\":\"x\",\"y\":[154,16327,119,150,310,21,797,2,0,1013,50,2749,457,2544,682,11294,809,1055,2,10747,4001,9,59,41,126,3135,32,1523,1216,138,1328,134,28622,168,299],\"yaxis\":\"y\",\"type\":\"bar\"},{\"alignmentgroup\":\"True\",\"hovertemplate\":\"variable=CPA_Cases_Reported_for_Dept._Action<br>Area_Name=%{x}<br>value=%{y}<extra></extra>\",\"legendgroup\":\"CPA_Cases_Reported_for_Dept._Action\",\"marker\":{\"color\":\"#EF553B\",\"pattern\":{\"shape\":\"\"}},\"name\":\"CPA_Cases_Reported_for_Dept._Action\",\"offsetgroup\":\"CPA_Cases_Reported_for_Dept._Action\",\"orientation\":\"v\",\"showlegend\":true,\"textposition\":\"auto\",\"x\":[\"Andaman & Nicobar Islands\",\"Andhra Pradesh\",\"Arunachal Pradesh\",\"Assam\",\"Bihar\",\"Chandigarh\",\"Chhattisgarh\",\"Dadra & Nagar Haveli\",\"Daman & Diu\",\"Delhi\",\"Goa\",\"Gujarat\",\"Haryana\",\"Himachal Pradesh\",\"Jammu & Kashmir\",\"Jharkhand\",\"Karnataka\",\"Kerala\",\"Lakshadweep\",\"Madhya Pradesh\",\"Maharashtra\",\"Manipur\",\"Meghalaya\",\"Mizoram\",\"Nagaland\",\"Odisha\",\"Puducherry\",\"Punjab\",\"Rajasthan\",\"Sikkim\",\"Tamil Nadu\",\"Tripura\",\"Uttar Pradesh\",\"Uttarakhand\",\"West Bengal\"],\"xaxis\":\"x\",\"y\":[7,3279,56,100,34,4,435,0,1,459,14,10490,103,17,310,2,1506,527,0,1047,2406,10,16,11,93,249,8,873,745,107,2912,158,27315,2947,238],\"yaxis\":\"y\",\"type\":\"bar\"},{\"alignmentgroup\":\"True\",\"hovertemplate\":\"variable=CPA_Complaints/Cases_Declared_False/Unsubstantiated<br>Area_Name=%{x}<br>value=%{y}<extra></extra>\",\"legendgroup\":\"CPA_Complaints/Cases_Declared_False/Unsubstantiated\",\"marker\":{\"color\":\"#00cc96\",\"pattern\":{\"shape\":\"\"}},\"name\":\"CPA_Complaints/Cases_Declared_False/Unsubstantiated\",\"offsetgroup\":\"CPA_Complaints/Cases_Declared_False/Unsubstantiated\",\"orientation\":\"v\",\"showlegend\":true,\"textposition\":\"auto\",\"x\":[\"Andaman & Nicobar Islands\",\"Andhra Pradesh\",\"Arunachal Pradesh\",\"Assam\",\"Bihar\",\"Chandigarh\",\"Chhattisgarh\",\"Dadra & Nagar Haveli\",\"Daman & Diu\",\"Delhi\",\"Goa\",\"Gujarat\",\"Haryana\",\"Himachal Pradesh\",\"Jammu & Kashmir\",\"Jharkhand\",\"Karnataka\",\"Kerala\",\"Lakshadweep\",\"Madhya Pradesh\",\"Maharashtra\",\"Manipur\",\"Meghalaya\",\"Mizoram\",\"Nagaland\",\"Odisha\",\"Puducherry\",\"Punjab\",\"Rajasthan\",\"Sikkim\",\"Tamil Nadu\",\"Tripura\",\"Uttar Pradesh\",\"Uttarakhand\",\"West Bengal\"],\"xaxis\":\"x\",\"y\":[139,1155,5,13,137,1098,13716,0,0,6684,223,3580,11444,2284,3408,79,279,16959,0,117567,31877,0,0,0,1,43,3,26457,13984,5,96,19,35650,4304,14],\"yaxis\":\"y\",\"type\":\"bar\"},{\"alignmentgroup\":\"True\",\"hovertemplate\":\"variable=CPA_Complaints_Received/Alleged<br>Area_Name=%{x}<br>value=%{y}<extra></extra>\",\"legendgroup\":\"CPA_Complaints_Received/Alleged\",\"marker\":{\"color\":\"#ab63fa\",\"pattern\":{\"shape\":\"\"}},\"name\":\"CPA_Complaints_Received/Alleged\",\"offsetgroup\":\"CPA_Complaints_Received/Alleged\",\"orientation\":\"v\",\"showlegend\":true,\"textposition\":\"auto\",\"x\":[\"Andaman & Nicobar Islands\",\"Andhra Pradesh\",\"Arunachal Pradesh\",\"Assam\",\"Bihar\",\"Chandigarh\",\"Chhattisgarh\",\"Dadra & Nagar Haveli\",\"Daman & Diu\",\"Delhi\",\"Goa\",\"Gujarat\",\"Haryana\",\"Himachal Pradesh\",\"Jammu & Kashmir\",\"Jharkhand\",\"Karnataka\",\"Kerala\",\"Lakshadweep\",\"Madhya Pradesh\",\"Maharashtra\",\"Manipur\",\"Meghalaya\",\"Mizoram\",\"Nagaland\",\"Odisha\",\"Puducherry\",\"Punjab\",\"Rajasthan\",\"Sikkim\",\"Tamil Nadu\",\"Tripura\",\"Uttar Pradesh\",\"Uttarakhand\",\"West Bengal\"],\"xaxis\":\"x\",\"y\":[288,22635,647,332,2785,1898,17629,1,1,72785,367,20003,13631,4888,6945,13376,5155,26469,2,149415,44585,10,81,41,175,3241,34,43520,17485,222,3958,312,65102,7687,923],\"yaxis\":\"y\",\"type\":\"bar\"},{\"alignmentgroup\":\"True\",\"hovertemplate\":\"variable=CPA_No_of_Departmental_Enquiries<br>Area_Name=%{x}<br>value=%{y}<extra></extra>\",\"legendgroup\":\"CPA_No_of_Departmental_Enquiries\",\"marker\":{\"color\":\"#FFA15A\",\"pattern\":{\"shape\":\"\"}},\"name\":\"CPA_No_of_Departmental_Enquiries\",\"offsetgroup\":\"CPA_No_of_Departmental_Enquiries\",\"orientation\":\"v\",\"showlegend\":true,\"textposition\":\"auto\",\"x\":[\"Andaman & Nicobar Islands\",\"Andhra Pradesh\",\"Arunachal Pradesh\",\"Assam\",\"Bihar\",\"Chandigarh\",\"Chhattisgarh\",\"Dadra & Nagar Haveli\",\"Daman & Diu\",\"Delhi\",\"Goa\",\"Gujarat\",\"Haryana\",\"Himachal Pradesh\",\"Jammu & Kashmir\",\"Jharkhand\",\"Karnataka\",\"Kerala\",\"Lakshadweep\",\"Madhya Pradesh\",\"Maharashtra\",\"Manipur\",\"Meghalaya\",\"Mizoram\",\"Nagaland\",\"Odisha\",\"Puducherry\",\"Punjab\",\"Rajasthan\",\"Sikkim\",\"Tamil Nadu\",\"Tripura\",\"Uttar Pradesh\",\"Uttarakhand\",\"West Bengal\"],\"xaxis\":\"x\",\"y\":[59,4538,569,322,242,600,6908,1,1,5025,27,5622,6444,206,5729,865,3036,20016,0,38406,10361,11,61,14,41,342,3,19943,3461,110,3202,244,29268,7450,852],\"yaxis\":\"y\",\"type\":\"bar\"},{\"alignmentgroup\":\"True\",\"hovertemplate\":\"variable=CPA_No_of_Magisterial_Enquiries<br>Area_Name=%{x}<br>value=%{y}<extra></extra>\",\"legendgroup\":\"CPA_No_of_Magisterial_Enquiries\",\"marker\":{\"color\":\"#19d3f3\",\"pattern\":{\"shape\":\"\"}},\"name\":\"CPA_No_of_Magisterial_Enquiries\",\"offsetgroup\":\"CPA_No_of_Magisterial_Enquiries\",\"orientation\":\"v\",\"showlegend\":true,\"textposition\":\"auto\",\"x\":[\"Andaman & Nicobar Islands\",\"Andhra Pradesh\",\"Arunachal Pradesh\",\"Assam\",\"Bihar\",\"Chandigarh\",\"Chhattisgarh\",\"Dadra & Nagar Haveli\",\"Daman & Diu\",\"Delhi\",\"Goa\",\"Gujarat\",\"Haryana\",\"Himachal Pradesh\",\"Jammu & Kashmir\",\"Jharkhand\",\"Karnataka\",\"Kerala\",\"Lakshadweep\",\"Madhya Pradesh\",\"Maharashtra\",\"Manipur\",\"Meghalaya\",\"Mizoram\",\"Nagaland\",\"Odisha\",\"Puducherry\",\"Punjab\",\"Rajasthan\",\"Sikkim\",\"Tamil Nadu\",\"Tripura\",\"Uttar Pradesh\",\"Uttarakhand\",\"West Bengal\"],\"xaxis\":\"x\",\"y\":[4,2996,11,12,49,0,108,0,0,0,0,105,49,10,106,2,60,304,0,1925,175,0,14,12,1,118,0,235,24,0,200,4,167,10,2],\"yaxis\":\"y\",\"type\":\"bar\"},{\"alignmentgroup\":\"True\",\"hovertemplate\":\"variable=CPA_Cases_Sent_for_Trials/Charge-sheeted<br>Area_Name=%{x}<br>value=%{y}<extra></extra>\",\"legendgroup\":\"CPA_Cases_Sent_for_Trials/Charge-sheeted\",\"marker\":{\"color\":\"#FF6692\",\"pattern\":{\"shape\":\"\"}},\"name\":\"CPA_Cases_Sent_for_Trials/Charge-sheeted\",\"offsetgroup\":\"CPA_Cases_Sent_for_Trials/Charge-sheeted\",\"orientation\":\"v\",\"showlegend\":true,\"textposition\":\"auto\",\"x\":[\"Andaman & Nicobar Islands\",\"Andhra Pradesh\",\"Arunachal Pradesh\",\"Assam\",\"Bihar\",\"Chandigarh\",\"Chhattisgarh\",\"Dadra & Nagar Haveli\",\"Daman & Diu\",\"Delhi\",\"Goa\",\"Gujarat\",\"Haryana\",\"Himachal Pradesh\",\"Jammu & Kashmir\",\"Jharkhand\",\"Karnataka\",\"Kerala\",\"Lakshadweep\",\"Madhya Pradesh\",\"Maharashtra\",\"Manipur\",\"Meghalaya\",\"Mizoram\",\"Nagaland\",\"Odisha\",\"Puducherry\",\"Punjab\",\"Rajasthan\",\"Sikkim\",\"Tamil Nadu\",\"Tripura\",\"Uttar Pradesh\",\"Uttarakhand\",\"West Bengal\"],\"xaxis\":\"x\",\"y\":[76,15381,51,66,279,7,2316,1,1,30,17,2200,96,31,223,527,568,338,1,279,2130,2,16,40,72,2017,19,239,453,48,606,68,702,139,78],\"yaxis\":\"y\",\"type\":\"bar\"},{\"alignmentgroup\":\"True\",\"hovertemplate\":\"variable=CPA_No_of_Judicial_Enquiries<br>Area_Name=%{x}<br>value=%{y}<extra></extra>\",\"legendgroup\":\"CPA_No_of_Judicial_Enquiries\",\"marker\":{\"color\":\"#B6E880\",\"pattern\":{\"shape\":\"\"}},\"name\":\"CPA_No_of_Judicial_Enquiries\",\"offsetgroup\":\"CPA_No_of_Judicial_Enquiries\",\"orientation\":\"v\",\"showlegend\":true,\"textposition\":\"auto\",\"x\":[\"Andaman & Nicobar Islands\",\"Andhra Pradesh\",\"Arunachal Pradesh\",\"Assam\",\"Bihar\",\"Chandigarh\",\"Chhattisgarh\",\"Dadra & Nagar Haveli\",\"Daman & Diu\",\"Delhi\",\"Goa\",\"Gujarat\",\"Haryana\",\"Himachal Pradesh\",\"Jammu & Kashmir\",\"Jharkhand\",\"Karnataka\",\"Kerala\",\"Lakshadweep\",\"Madhya Pradesh\",\"Maharashtra\",\"Manipur\",\"Meghalaya\",\"Mizoram\",\"Nagaland\",\"Odisha\",\"Puducherry\",\"Punjab\",\"Rajasthan\",\"Sikkim\",\"Tamil Nadu\",\"Tripura\",\"Uttar Pradesh\",\"Uttarakhand\",\"West Bengal\"],\"xaxis\":\"x\",\"y\":[88,310,15,52,466,0,122,0,0,0,5,249,20,1,39,255,106,10,0,12,477,0,2,2,10,296,0,8,16,30,503,80,17,33,56],\"yaxis\":\"y\",\"type\":\"bar\"},{\"alignmentgroup\":\"True\",\"hovertemplate\":\"variable=CPB_Police_Personnel_Acquitted<br>Area_Name=%{x}<br>value=%{y}<extra></extra>\",\"legendgroup\":\"CPB_Police_Personnel_Acquitted\",\"marker\":{\"color\":\"#FF97FF\",\"pattern\":{\"shape\":\"\"}},\"name\":\"CPB_Police_Personnel_Acquitted\",\"offsetgroup\":\"CPB_Police_Personnel_Acquitted\",\"orientation\":\"v\",\"showlegend\":true,\"textposition\":\"auto\",\"x\":[\"Andaman & Nicobar Islands\",\"Andhra Pradesh\",\"Arunachal Pradesh\",\"Assam\",\"Bihar\",\"Chandigarh\",\"Chhattisgarh\",\"Dadra & Nagar Haveli\",\"Daman & Diu\",\"Delhi\",\"Goa\",\"Gujarat\",\"Haryana\",\"Himachal Pradesh\",\"Jammu & Kashmir\",\"Jharkhand\",\"Karnataka\",\"Kerala\",\"Lakshadweep\",\"Madhya Pradesh\",\"Maharashtra\",\"Manipur\",\"Meghalaya\",\"Mizoram\",\"Nagaland\",\"Odisha\",\"Puducherry\",\"Punjab\",\"Rajasthan\",\"Sikkim\",\"Tamil Nadu\",\"Tripura\",\"Uttar Pradesh\",\"Uttarakhand\",\"West Bengal\"],\"xaxis\":\"x\",\"y\":[4,94,0,10,1,0,335,0,1,0,9,132,7,28,22,11,69,94,0,14,242,1,0,8,14,8,3,171,27,0,88,9,36,9,7],\"yaxis\":\"y\",\"type\":\"bar\"},{\"alignmentgroup\":\"True\",\"hovertemplate\":\"variable=CPB_Police_Personnel_Convicted<br>Area_Name=%{x}<br>value=%{y}<extra></extra>\",\"legendgroup\":\"CPB_Police_Personnel_Convicted\",\"marker\":{\"color\":\"#FECB52\",\"pattern\":{\"shape\":\"\"}},\"name\":\"CPB_Police_Personnel_Convicted\",\"offsetgroup\":\"CPB_Police_Personnel_Convicted\",\"orientation\":\"v\",\"showlegend\":true,\"textposition\":\"auto\",\"x\":[\"Andaman & Nicobar Islands\",\"Andhra Pradesh\",\"Arunachal Pradesh\",\"Assam\",\"Bihar\",\"Chandigarh\",\"Chhattisgarh\",\"Dadra & Nagar Haveli\",\"Daman & Diu\",\"Delhi\",\"Goa\",\"Gujarat\",\"Haryana\",\"Himachal Pradesh\",\"Jammu & Kashmir\",\"Jharkhand\",\"Karnataka\",\"Kerala\",\"Lakshadweep\",\"Madhya Pradesh\",\"Maharashtra\",\"Manipur\",\"Meghalaya\",\"Mizoram\",\"Nagaland\",\"Odisha\",\"Puducherry\",\"Punjab\",\"Rajasthan\",\"Sikkim\",\"Tamil Nadu\",\"Tripura\",\"Uttar Pradesh\",\"Uttarakhand\",\"West Bengal\"],\"xaxis\":\"x\",\"y\":[2,15,0,0,0,0,95,1,0,0,2,121,0,9,2,1,9,23,0,16,59,2,0,5,4,1,1,60,13,2,17,7,13,4,4],\"yaxis\":\"y\",\"type\":\"bar\"},{\"alignmentgroup\":\"True\",\"hovertemplate\":\"variable=CPB_Police_Personnel_sent_up_for_Trial<br>Area_Name=%{x}<br>value=%{y}<extra></extra>\",\"legendgroup\":\"CPB_Police_Personnel_sent_up_for_Trial\",\"marker\":{\"color\":\"#636efa\",\"pattern\":{\"shape\":\"\"}},\"name\":\"CPB_Police_Personnel_sent_up_for_Trial\",\"offsetgroup\":\"CPB_Police_Personnel_sent_up_for_Trial\",\"orientation\":\"v\",\"showlegend\":true,\"textposition\":\"auto\",\"x\":[\"Andaman & Nicobar Islands\",\"Andhra Pradesh\",\"Arunachal Pradesh\",\"Assam\",\"Bihar\",\"Chandigarh\",\"Chhattisgarh\",\"Dadra & Nagar Haveli\",\"Daman & Diu\",\"Delhi\",\"Goa\",\"Gujarat\",\"Haryana\",\"Himachal Pradesh\",\"Jammu & Kashmir\",\"Jharkhand\",\"Karnataka\",\"Kerala\",\"Lakshadweep\",\"Madhya Pradesh\",\"Maharashtra\",\"Manipur\",\"Meghalaya\",\"Mizoram\",\"Nagaland\",\"Odisha\",\"Puducherry\",\"Punjab\",\"Rajasthan\",\"Sikkim\",\"Tamil Nadu\",\"Tripura\",\"Uttar Pradesh\",\"Uttarakhand\",\"West Bengal\"],\"xaxis\":\"x\",\"y\":[73,1085,35,70,570,7,553,1,0,30,16,2718,144,1869,662,14,493,474,1,513,2290,3,18,36,52,280,19,496,602,3,740,94,988,156,91],\"yaxis\":\"y\",\"type\":\"bar\"},{\"alignmentgroup\":\"True\",\"hovertemplate\":\"variable=CPB_Police_Personnel_Trial_Completed<br>Area_Name=%{x}<br>value=%{y}<extra></extra>\",\"legendgroup\":\"CPB_Police_Personnel_Trial_Completed\",\"marker\":{\"color\":\"#EF553B\",\"pattern\":{\"shape\":\"\"}},\"name\":\"CPB_Police_Personnel_Trial_Completed\",\"offsetgroup\":\"CPB_Police_Personnel_Trial_Completed\",\"orientation\":\"v\",\"showlegend\":true,\"textposition\":\"auto\",\"x\":[\"Andaman & Nicobar Islands\",\"Andhra Pradesh\",\"Arunachal Pradesh\",\"Assam\",\"Bihar\",\"Chandigarh\",\"Chhattisgarh\",\"Dadra & Nagar Haveli\",\"Daman & Diu\",\"Delhi\",\"Goa\",\"Gujarat\",\"Haryana\",\"Himachal Pradesh\",\"Jammu & Kashmir\",\"Jharkhand\",\"Karnataka\",\"Kerala\",\"Lakshadweep\",\"Madhya Pradesh\",\"Maharashtra\",\"Manipur\",\"Meghalaya\",\"Mizoram\",\"Nagaland\",\"Odisha\",\"Puducherry\",\"Punjab\",\"Rajasthan\",\"Sikkim\",\"Tamil Nadu\",\"Tripura\",\"Uttar Pradesh\",\"Uttarakhand\",\"West Bengal\"],\"xaxis\":\"x\",\"y\":[6,109,0,10,1,0,430,1,1,0,11,253,7,37,24,12,78,117,0,30,301,3,0,13,18,9,4,231,40,2,105,16,49,13,11],\"yaxis\":\"y\",\"type\":\"bar\"},{\"alignmentgroup\":\"True\",\"hovertemplate\":\"variable=CPB_Police_Personnel_Cases_Withdrawn_or_Otherwise_disposed_of<br>Area_Name=%{x}<br>value=%{y}<extra></extra>\",\"legendgroup\":\"CPB_Police_Personnel_Cases_Withdrawn_or_Otherwise_disposed_of\",\"marker\":{\"color\":\"#00cc96\",\"pattern\":{\"shape\":\"\"}},\"name\":\"CPB_Police_Personnel_Cases_Withdrawn_or_Otherwise_disposed_of\",\"offsetgroup\":\"CPB_Police_Personnel_Cases_Withdrawn_or_Otherwise_disposed_of\",\"orientation\":\"v\",\"showlegend\":true,\"textposition\":\"auto\",\"x\":[\"Andaman & Nicobar Islands\",\"Andhra Pradesh\",\"Arunachal Pradesh\",\"Assam\",\"Bihar\",\"Chandigarh\",\"Chhattisgarh\",\"Dadra & Nagar Haveli\",\"Daman & Diu\",\"Delhi\",\"Goa\",\"Gujarat\",\"Haryana\",\"Himachal Pradesh\",\"Jammu & Kashmir\",\"Jharkhand\",\"Karnataka\",\"Kerala\",\"Lakshadweep\",\"Madhya Pradesh\",\"Maharashtra\",\"Manipur\",\"Meghalaya\",\"Mizoram\",\"Nagaland\",\"Odisha\",\"Puducherry\",\"Punjab\",\"Rajasthan\",\"Sikkim\",\"Tamil Nadu\",\"Tripura\",\"Uttar Pradesh\",\"Uttarakhand\",\"West Bengal\"],\"xaxis\":\"x\",\"y\":[2,95,5,12,87,150,422,1,0,0,6,203,4,23,278,5,37,82,0,64,105,0,4,7,4,33,0,158,40,0,126,62,125,6,4],\"yaxis\":\"y\",\"type\":\"bar\"},{\"alignmentgroup\":\"True\",\"hovertemplate\":\"variable=CPC_Police_personnel_Cases_Trial_Completed<br>Area_Name=%{x}<br>value=%{y}<extra></extra>\",\"legendgroup\":\"CPC_Police_personnel_Cases_Trial_Completed\",\"marker\":{\"color\":\"#ab63fa\",\"pattern\":{\"shape\":\"\"}},\"name\":\"CPC_Police_personnel_Cases_Trial_Completed\",\"offsetgroup\":\"CPC_Police_personnel_Cases_Trial_Completed\",\"orientation\":\"v\",\"showlegend\":true,\"textposition\":\"auto\",\"x\":[\"Andaman & Nicobar Islands\",\"Andhra Pradesh\",\"Arunachal Pradesh\",\"Assam\",\"Bihar\",\"Chandigarh\",\"Chhattisgarh\",\"Dadra & Nagar Haveli\",\"Daman & Diu\",\"Delhi\",\"Goa\",\"Gujarat\",\"Haryana\",\"Himachal Pradesh\",\"Jammu & Kashmir\",\"Jharkhand\",\"Karnataka\",\"Kerala\",\"Lakshadweep\",\"Madhya Pradesh\",\"Maharashtra\",\"Manipur\",\"Meghalaya\",\"Mizoram\",\"Nagaland\",\"Odisha\",\"Puducherry\",\"Punjab\",\"Rajasthan\",\"Sikkim\",\"Tamil Nadu\",\"Tripura\",\"Uttar Pradesh\",\"Uttarakhand\",\"West Bengal\"],\"xaxis\":\"x\",\"y\":[90,1526,95,39,4451,454,760,0,0,2711,310,8413,16,154,4613,1876,4091,2380,0,1232,5917,3,30,79,20,495,40,2850,27232,77,9918,479,25978,2976,261],\"yaxis\":\"y\",\"type\":\"bar\"},{\"alignmentgroup\":\"True\",\"hovertemplate\":\"variable=CPC_Police_Personnel_Cases_Withdrawn_or_Otherwise_disposed_of<br>Area_Name=%{x}<br>value=%{y}<extra></extra>\",\"legendgroup\":\"CPC_Police_Personnel_Cases_Withdrawn_or_Otherwise_disposed_of\",\"marker\":{\"color\":\"#FFA15A\",\"pattern\":{\"shape\":\"\"}},\"name\":\"CPC_Police_Personnel_Cases_Withdrawn_or_Otherwise_disposed_of\",\"offsetgroup\":\"CPC_Police_Personnel_Cases_Withdrawn_or_Otherwise_disposed_of\",\"orientation\":\"v\",\"showlegend\":true,\"textposition\":\"auto\",\"x\":[\"Andaman & Nicobar Islands\",\"Andhra Pradesh\",\"Arunachal Pradesh\",\"Assam\",\"Bihar\",\"Chandigarh\",\"Chhattisgarh\",\"Dadra & Nagar Haveli\",\"Daman & Diu\",\"Delhi\",\"Goa\",\"Gujarat\",\"Haryana\",\"Himachal Pradesh\",\"Jammu & Kashmir\",\"Jharkhand\",\"Karnataka\",\"Kerala\",\"Lakshadweep\",\"Madhya Pradesh\",\"Maharashtra\",\"Manipur\",\"Meghalaya\",\"Mizoram\",\"Nagaland\",\"Odisha\",\"Puducherry\",\"Punjab\",\"Rajasthan\",\"Sikkim\",\"Tamil Nadu\",\"Tripura\",\"Uttar Pradesh\",\"Uttarakhand\",\"West Bengal\"],\"xaxis\":\"x\",\"y\":[74,5951,63,39,1658,914,440,0,1,805,832,1892,0,199,6833,967,1508,1343,0,1408,1944,0,72,16,5,410,45,2200,9119,27,2253,236,3437,666,74],\"yaxis\":\"y\",\"type\":\"bar\"},{\"alignmentgroup\":\"True\",\"hovertemplate\":\"variable=CPC_Police_Personnel_Disciplinary_Action_Initiated<br>Area_Name=%{x}<br>value=%{y}<extra></extra>\",\"legendgroup\":\"CPC_Police_Personnel_Disciplinary_Action_Initiated\",\"marker\":{\"color\":\"#19d3f3\",\"pattern\":{\"shape\":\"\"}},\"name\":\"CPC_Police_Personnel_Disciplinary_Action_Initiated\",\"offsetgroup\":\"CPC_Police_Personnel_Disciplinary_Action_Initiated\",\"orientation\":\"v\",\"showlegend\":true,\"textposition\":\"auto\",\"x\":[\"Andaman & Nicobar Islands\",\"Andhra Pradesh\",\"Arunachal Pradesh\",\"Assam\",\"Bihar\",\"Chandigarh\",\"Chhattisgarh\",\"Dadra & Nagar Haveli\",\"Daman & Diu\",\"Delhi\",\"Goa\",\"Gujarat\",\"Haryana\",\"Himachal Pradesh\",\"Jammu & Kashmir\",\"Jharkhand\",\"Karnataka\",\"Kerala\",\"Lakshadweep\",\"Madhya Pradesh\",\"Maharashtra\",\"Manipur\",\"Meghalaya\",\"Mizoram\",\"Nagaland\",\"Odisha\",\"Puducherry\",\"Punjab\",\"Rajasthan\",\"Sikkim\",\"Tamil Nadu\",\"Tripura\",\"Uttar Pradesh\",\"Uttarakhand\",\"West Bengal\"],\"xaxis\":\"x\",\"y\":[377,20912,764,510,8818,972,1520,0,7,7250,1463,16524,618,678,19076,5431,9057,8917,0,3967,11813,13,235,117,40,2085,333,14702,43805,207,17155,1085,29415,4082,1832],\"yaxis\":\"y\",\"type\":\"bar\"},{\"alignmentgroup\":\"True\",\"hovertemplate\":\"variable=CPC_Police_Personnel_Dismissal/Removal_from_Service<br>Area_Name=%{x}<br>value=%{y}<extra></extra>\",\"legendgroup\":\"CPC_Police_Personnel_Dismissal/Removal_from_Service\",\"marker\":{\"color\":\"#FF6692\",\"pattern\":{\"shape\":\"\"}},\"name\":\"CPC_Police_Personnel_Dismissal/Removal_from_Service\",\"offsetgroup\":\"CPC_Police_Personnel_Dismissal/Removal_from_Service\",\"orientation\":\"v\",\"showlegend\":true,\"textposition\":\"auto\",\"x\":[\"Andaman & Nicobar Islands\",\"Andhra Pradesh\",\"Arunachal Pradesh\",\"Assam\",\"Bihar\",\"Chandigarh\",\"Chhattisgarh\",\"Dadra & Nagar Haveli\",\"Daman & Diu\",\"Delhi\",\"Goa\",\"Gujarat\",\"Haryana\",\"Himachal Pradesh\",\"Jammu & Kashmir\",\"Jharkhand\",\"Karnataka\",\"Kerala\",\"Lakshadweep\",\"Madhya Pradesh\",\"Maharashtra\",\"Manipur\",\"Meghalaya\",\"Mizoram\",\"Nagaland\",\"Odisha\",\"Puducherry\",\"Punjab\",\"Rajasthan\",\"Sikkim\",\"Tamil Nadu\",\"Tripura\",\"Uttar Pradesh\",\"Uttarakhand\",\"West Bengal\"],\"xaxis\":\"x\",\"y\":[19,338,7,18,168,51,139,0,0,884,14,509,57,14,843,224,97,115,0,376,535,1,32,8,3,70,12,1190,835,13,323,94,756,149,74],\"yaxis\":\"y\",\"type\":\"bar\"},{\"alignmentgroup\":\"True\",\"hovertemplate\":\"variable=CPC_Police_Personnel_Major_Punishment_awarded<br>Area_Name=%{x}<br>value=%{y}<extra></extra>\",\"legendgroup\":\"CPC_Police_Personnel_Major_Punishment_awarded\",\"marker\":{\"color\":\"#B6E880\",\"pattern\":{\"shape\":\"\"}},\"name\":\"CPC_Police_Personnel_Major_Punishment_awarded\",\"offsetgroup\":\"CPC_Police_Personnel_Major_Punishment_awarded\",\"orientation\":\"v\",\"showlegend\":true,\"textposition\":\"auto\",\"x\":[\"Andaman & Nicobar Islands\",\"Andhra Pradesh\",\"Arunachal Pradesh\",\"Assam\",\"Bihar\",\"Chandigarh\",\"Chhattisgarh\",\"Dadra & Nagar Haveli\",\"Daman & Diu\",\"Delhi\",\"Goa\",\"Gujarat\",\"Haryana\",\"Himachal Pradesh\",\"Jammu & Kashmir\",\"Jharkhand\",\"Karnataka\",\"Kerala\",\"Lakshadweep\",\"Madhya Pradesh\",\"Maharashtra\",\"Manipur\",\"Meghalaya\",\"Mizoram\",\"Nagaland\",\"Odisha\",\"Puducherry\",\"Punjab\",\"Rajasthan\",\"Sikkim\",\"Tamil Nadu\",\"Tripura\",\"Uttar Pradesh\",\"Uttarakhand\",\"West Bengal\"],\"xaxis\":\"x\",\"y\":[71,2578,82,225,4024,457,362,0,0,3520,19,1903,292,182,9807,2198,593,952,0,840,966,1,341,70,26,1015,15,6990,5440,18,3711,229,3872,428,770],\"yaxis\":\"y\",\"type\":\"bar\"},{\"alignmentgroup\":\"True\",\"hovertemplate\":\"variable=CPC_Police_Personnel_Minor_Punishment_awarded<br>Area_Name=%{x}<br>value=%{y}<extra></extra>\",\"legendgroup\":\"CPC_Police_Personnel_Minor_Punishment_awarded\",\"marker\":{\"color\":\"#FF97FF\",\"pattern\":{\"shape\":\"\"}},\"name\":\"CPC_Police_Personnel_Minor_Punishment_awarded\",\"offsetgroup\":\"CPC_Police_Personnel_Minor_Punishment_awarded\",\"orientation\":\"v\",\"showlegend\":true,\"textposition\":\"auto\",\"x\":[\"Andaman & Nicobar Islands\",\"Andhra Pradesh\",\"Arunachal Pradesh\",\"Assam\",\"Bihar\",\"Chandigarh\",\"Chhattisgarh\",\"Dadra & Nagar Haveli\",\"Daman & Diu\",\"Delhi\",\"Goa\",\"Gujarat\",\"Haryana\",\"Himachal Pradesh\",\"Jammu & Kashmir\",\"Jharkhand\",\"Karnataka\",\"Kerala\",\"Lakshadweep\",\"Madhya Pradesh\",\"Maharashtra\",\"Manipur\",\"Meghalaya\",\"Mizoram\",\"Nagaland\",\"Odisha\",\"Puducherry\",\"Punjab\",\"Rajasthan\",\"Sikkim\",\"Tamil Nadu\",\"Tripura\",\"Uttar Pradesh\",\"Uttarakhand\",\"West Bengal\"],\"xaxis\":\"x\",\"y\":[290,12636,208,953,3646,603,761,0,1,15500,857,11379,212,346,6535,1172,5844,2413,0,2025,17547,3,515,19,3,2043,53,27365,20957,112,8784,1667,21350,2383,2232],\"yaxis\":\"y\",\"type\":\"bar\"}],                        {\"template\":{\"data\":{\"histogram2dcontour\":[{\"type\":\"histogram2dcontour\",\"colorbar\":{\"outlinewidth\":0,\"ticks\":\"\"},\"colorscale\":[[0.0,\"#0d0887\"],[0.1111111111111111,\"#46039f\"],[0.2222222222222222,\"#7201a8\"],[0.3333333333333333,\"#9c179e\"],[0.4444444444444444,\"#bd3786\"],[0.5555555555555556,\"#d8576b\"],[0.6666666666666666,\"#ed7953\"],[0.7777777777777778,\"#fb9f3a\"],[0.8888888888888888,\"#fdca26\"],[1.0,\"#f0f921\"]]}],\"choropleth\":[{\"type\":\"choropleth\",\"colorbar\":{\"outlinewidth\":0,\"ticks\":\"\"}}],\"histogram2d\":[{\"type\":\"histogram2d\",\"colorbar\":{\"outlinewidth\":0,\"ticks\":\"\"},\"colorscale\":[[0.0,\"#0d0887\"],[0.1111111111111111,\"#46039f\"],[0.2222222222222222,\"#7201a8\"],[0.3333333333333333,\"#9c179e\"],[0.4444444444444444,\"#bd3786\"],[0.5555555555555556,\"#d8576b\"],[0.6666666666666666,\"#ed7953\"],[0.7777777777777778,\"#fb9f3a\"],[0.8888888888888888,\"#fdca26\"],[1.0,\"#f0f921\"]]}],\"heatmap\":[{\"type\":\"heatmap\",\"colorbar\":{\"outlinewidth\":0,\"ticks\":\"\"},\"colorscale\":[[0.0,\"#0d0887\"],[0.1111111111111111,\"#46039f\"],[0.2222222222222222,\"#7201a8\"],[0.3333333333333333,\"#9c179e\"],[0.4444444444444444,\"#bd3786\"],[0.5555555555555556,\"#d8576b\"],[0.6666666666666666,\"#ed7953\"],[0.7777777777777778,\"#fb9f3a\"],[0.8888888888888888,\"#fdca26\"],[1.0,\"#f0f921\"]]}],\"heatmapgl\":[{\"type\":\"heatmapgl\",\"colorbar\":{\"outlinewidth\":0,\"ticks\":\"\"},\"colorscale\":[[0.0,\"#0d0887\"],[0.1111111111111111,\"#46039f\"],[0.2222222222222222,\"#7201a8\"],[0.3333333333333333,\"#9c179e\"],[0.4444444444444444,\"#bd3786\"],[0.5555555555555556,\"#d8576b\"],[0.6666666666666666,\"#ed7953\"],[0.7777777777777778,\"#fb9f3a\"],[0.8888888888888888,\"#fdca26\"],[1.0,\"#f0f921\"]]}],\"contourcarpet\":[{\"type\":\"contourcarpet\",\"colorbar\":{\"outlinewidth\":0,\"ticks\":\"\"}}],\"contour\":[{\"type\":\"contour\",\"colorbar\":{\"outlinewidth\":0,\"ticks\":\"\"},\"colorscale\":[[0.0,\"#0d0887\"],[0.1111111111111111,\"#46039f\"],[0.2222222222222222,\"#7201a8\"],[0.3333333333333333,\"#9c179e\"],[0.4444444444444444,\"#bd3786\"],[0.5555555555555556,\"#d8576b\"],[0.6666666666666666,\"#ed7953\"],[0.7777777777777778,\"#fb9f3a\"],[0.8888888888888888,\"#fdca26\"],[1.0,\"#f0f921\"]]}],\"surface\":[{\"type\":\"surface\",\"colorbar\":{\"outlinewidth\":0,\"ticks\":\"\"},\"colorscale\":[[0.0,\"#0d0887\"],[0.1111111111111111,\"#46039f\"],[0.2222222222222222,\"#7201a8\"],[0.3333333333333333,\"#9c179e\"],[0.4444444444444444,\"#bd3786\"],[0.5555555555555556,\"#d8576b\"],[0.6666666666666666,\"#ed7953\"],[0.7777777777777778,\"#fb9f3a\"],[0.8888888888888888,\"#fdca26\"],[1.0,\"#f0f921\"]]}],\"mesh3d\":[{\"type\":\"mesh3d\",\"colorbar\":{\"outlinewidth\":0,\"ticks\":\"\"}}],\"scatter\":[{\"fillpattern\":{\"fillmode\":\"overlay\",\"size\":10,\"solidity\":0.2},\"type\":\"scatter\"}],\"parcoords\":[{\"type\":\"parcoords\",\"line\":{\"colorbar\":{\"outlinewidth\":0,\"ticks\":\"\"}}}],\"scatterpolargl\":[{\"type\":\"scatterpolargl\",\"marker\":{\"colorbar\":{\"outlinewidth\":0,\"ticks\":\"\"}}}],\"bar\":[{\"error_x\":{\"color\":\"#2a3f5f\"},\"error_y\":{\"color\":\"#2a3f5f\"},\"marker\":{\"line\":{\"color\":\"#E5ECF6\",\"width\":0.5},\"pattern\":{\"fillmode\":\"overlay\",\"size\":10,\"solidity\":0.2}},\"type\":\"bar\"}],\"scattergeo\":[{\"type\":\"scattergeo\",\"marker\":{\"colorbar\":{\"outlinewidth\":0,\"ticks\":\"\"}}}],\"scatterpolar\":[{\"type\":\"scatterpolar\",\"marker\":{\"colorbar\":{\"outlinewidth\":0,\"ticks\":\"\"}}}],\"histogram\":[{\"marker\":{\"pattern\":{\"fillmode\":\"overlay\",\"size\":10,\"solidity\":0.2}},\"type\":\"histogram\"}],\"scattergl\":[{\"type\":\"scattergl\",\"marker\":{\"colorbar\":{\"outlinewidth\":0,\"ticks\":\"\"}}}],\"scatter3d\":[{\"type\":\"scatter3d\",\"line\":{\"colorbar\":{\"outlinewidth\":0,\"ticks\":\"\"}},\"marker\":{\"colorbar\":{\"outlinewidth\":0,\"ticks\":\"\"}}}],\"scattermapbox\":[{\"type\":\"scattermapbox\",\"marker\":{\"colorbar\":{\"outlinewidth\":0,\"ticks\":\"\"}}}],\"scatterternary\":[{\"type\":\"scatterternary\",\"marker\":{\"colorbar\":{\"outlinewidth\":0,\"ticks\":\"\"}}}],\"scattercarpet\":[{\"type\":\"scattercarpet\",\"marker\":{\"colorbar\":{\"outlinewidth\":0,\"ticks\":\"\"}}}],\"carpet\":[{\"aaxis\":{\"endlinecolor\":\"#2a3f5f\",\"gridcolor\":\"white\",\"linecolor\":\"white\",\"minorgridcolor\":\"white\",\"startlinecolor\":\"#2a3f5f\"},\"baxis\":{\"endlinecolor\":\"#2a3f5f\",\"gridcolor\":\"white\",\"linecolor\":\"white\",\"minorgridcolor\":\"white\",\"startlinecolor\":\"#2a3f5f\"},\"type\":\"carpet\"}],\"table\":[{\"cells\":{\"fill\":{\"color\":\"#EBF0F8\"},\"line\":{\"color\":\"white\"}},\"header\":{\"fill\":{\"color\":\"#C8D4E3\"},\"line\":{\"color\":\"white\"}},\"type\":\"table\"}],\"barpolar\":[{\"marker\":{\"line\":{\"color\":\"#E5ECF6\",\"width\":0.5},\"pattern\":{\"fillmode\":\"overlay\",\"size\":10,\"solidity\":0.2}},\"type\":\"barpolar\"}],\"pie\":[{\"automargin\":true,\"type\":\"pie\"}]},\"layout\":{\"autotypenumbers\":\"strict\",\"colorway\":[\"#636efa\",\"#EF553B\",\"#00cc96\",\"#ab63fa\",\"#FFA15A\",\"#19d3f3\",\"#FF6692\",\"#B6E880\",\"#FF97FF\",\"#FECB52\"],\"font\":{\"color\":\"#2a3f5f\"},\"hovermode\":\"closest\",\"hoverlabel\":{\"align\":\"left\"},\"paper_bgcolor\":\"white\",\"plot_bgcolor\":\"#E5ECF6\",\"polar\":{\"bgcolor\":\"#E5ECF6\",\"angularaxis\":{\"gridcolor\":\"white\",\"linecolor\":\"white\",\"ticks\":\"\"},\"radialaxis\":{\"gridcolor\":\"white\",\"linecolor\":\"white\",\"ticks\":\"\"}},\"ternary\":{\"bgcolor\":\"#E5ECF6\",\"aaxis\":{\"gridcolor\":\"white\",\"linecolor\":\"white\",\"ticks\":\"\"},\"baxis\":{\"gridcolor\":\"white\",\"linecolor\":\"white\",\"ticks\":\"\"},\"caxis\":{\"gridcolor\":\"white\",\"linecolor\":\"white\",\"ticks\":\"\"}},\"coloraxis\":{\"colorbar\":{\"outlinewidth\":0,\"ticks\":\"\"}},\"colorscale\":{\"sequential\":[[0.0,\"#0d0887\"],[0.1111111111111111,\"#46039f\"],[0.2222222222222222,\"#7201a8\"],[0.3333333333333333,\"#9c179e\"],[0.4444444444444444,\"#bd3786\"],[0.5555555555555556,\"#d8576b\"],[0.6666666666666666,\"#ed7953\"],[0.7777777777777778,\"#fb9f3a\"],[0.8888888888888888,\"#fdca26\"],[1.0,\"#f0f921\"]],\"sequentialminus\":[[0.0,\"#0d0887\"],[0.1111111111111111,\"#46039f\"],[0.2222222222222222,\"#7201a8\"],[0.3333333333333333,\"#9c179e\"],[0.4444444444444444,\"#bd3786\"],[0.5555555555555556,\"#d8576b\"],[0.6666666666666666,\"#ed7953\"],[0.7777777777777778,\"#fb9f3a\"],[0.8888888888888888,\"#fdca26\"],[1.0,\"#f0f921\"]],\"diverging\":[[0,\"#8e0152\"],[0.1,\"#c51b7d\"],[0.2,\"#de77ae\"],[0.3,\"#f1b6da\"],[0.4,\"#fde0ef\"],[0.5,\"#f7f7f7\"],[0.6,\"#e6f5d0\"],[0.7,\"#b8e186\"],[0.8,\"#7fbc41\"],[0.9,\"#4d9221\"],[1,\"#276419\"]]},\"xaxis\":{\"gridcolor\":\"white\",\"linecolor\":\"white\",\"ticks\":\"\",\"title\":{\"standoff\":15},\"zerolinecolor\":\"white\",\"automargin\":true,\"zerolinewidth\":2},\"yaxis\":{\"gridcolor\":\"white\",\"linecolor\":\"white\",\"ticks\":\"\",\"title\":{\"standoff\":15},\"zerolinecolor\":\"white\",\"automargin\":true,\"zerolinewidth\":2},\"scene\":{\"xaxis\":{\"backgroundcolor\":\"#E5ECF6\",\"gridcolor\":\"white\",\"linecolor\":\"white\",\"showbackground\":true,\"ticks\":\"\",\"zerolinecolor\":\"white\",\"gridwidth\":2},\"yaxis\":{\"backgroundcolor\":\"#E5ECF6\",\"gridcolor\":\"white\",\"linecolor\":\"white\",\"showbackground\":true,\"ticks\":\"\",\"zerolinecolor\":\"white\",\"gridwidth\":2},\"zaxis\":{\"backgroundcolor\":\"#E5ECF6\",\"gridcolor\":\"white\",\"linecolor\":\"white\",\"showbackground\":true,\"ticks\":\"\",\"zerolinecolor\":\"white\",\"gridwidth\":2}},\"shapedefaults\":{\"line\":{\"color\":\"#2a3f5f\"}},\"annotationdefaults\":{\"arrowcolor\":\"#2a3f5f\",\"arrowhead\":0,\"arrowwidth\":1},\"geo\":{\"bgcolor\":\"white\",\"landcolor\":\"#E5ECF6\",\"subunitcolor\":\"white\",\"showland\":true,\"showlakes\":true,\"lakecolor\":\"white\"},\"title\":{\"x\":0.05},\"mapbox\":{\"style\":\"light\"}}},\"xaxis\":{\"anchor\":\"y\",\"domain\":[0.0,1.0],\"title\":{\"text\":\"Area_Name\"}},\"yaxis\":{\"anchor\":\"x\",\"domain\":[0.0,1.0],\"title\":{\"text\":\"value\"}},\"legend\":{\"title\":{\"text\":\"variable\"},\"tracegroupgap\":0},\"margin\":{\"t\":60},\"barmode\":\"relative\"},                        {\"responsive\": true}                    ).then(function(){\n",
       "                            \n",
       "var gd = document.getElementById('3b35ba24-1d32-4b11-9f29-774751fcc16c');\n",
       "var x = new MutationObserver(function (mutations, observer) {{\n",
       "        var display = window.getComputedStyle(gd).display;\n",
       "        if (!display || display === 'none') {{\n",
       "            console.log([gd, 'removed!']);\n",
       "            Plotly.purge(gd);\n",
       "            observer.disconnect();\n",
       "        }}\n",
       "}});\n",
       "\n",
       "// Listen for the removal of the full notebook cells\n",
       "var notebookContainer = gd.closest('#notebook-container');\n",
       "if (notebookContainer) {{\n",
       "    x.observe(notebookContainer, {childList: true});\n",
       "}}\n",
       "\n",
       "// Listen for the clearing of the current output cell\n",
       "var outputEl = gd.closest('.output');\n",
       "if (outputEl) {{\n",
       "    x.observe(outputEl, {childList: true});\n",
       "}}\n",
       "\n",
       "                        })                };                });            </script>        </div>"
      ]
     },
     "metadata": {},
     "output_type": "display_data"
    }
   ],
   "source": [
    "fig = px.bar(yeary, x = 'Area_Name', y = ['CPA_Cases_Registered','CPA_Cases_Reported_for_Dept._Action','CPA_Complaints/Cases_Declared_False/Unsubstantiated','CPA_Complaints_Received/Alleged','CPA_No_of_Departmental_Enquiries',\n",
    "      'CPA_No_of_Magisterial_Enquiries','CPA_Cases_Sent_for_Trials/Charge-sheeted','CPA_No_of_Judicial_Enquiries','CPB_Police_Personnel_Acquitted','CPB_Police_Personnel_Convicted','CPB_Police_Personnel_sent_up_for_Trial','CPB_Police_Personnel_Trial_Completed','CPB_Police_Personnel_Cases_Withdrawn_or_Otherwise_disposed_of',\n",
    "    'CPC_Police_personnel_Cases_Trial_Completed','CPC_Police_Personnel_Cases_Withdrawn_or_Otherwise_disposed_of','CPC_Police_Personnel_Disciplinary_Action_Initiated','CPC_Police_Personnel_Dismissal/Removal_from_Service','CPC_Police_Personnel_Major_Punishment_awarded','CPC_Police_Personnel_Minor_Punishment_awarded'])\n",
    "fig.show()"
   ]
  },
  {
   "cell_type": "code",
   "execution_count": null,
   "id": "ee1f15be",
   "metadata": {},
   "outputs": [],
   "source": []
  },
  {
   "cell_type": "code",
   "execution_count": null,
   "id": "d32041ab",
   "metadata": {},
   "outputs": [],
   "source": []
  },
  {
   "cell_type": "code",
   "execution_count": null,
   "id": "52dd35e7",
   "metadata": {},
   "outputs": [],
   "source": []
  },
  {
   "cell_type": "code",
   "execution_count": null,
   "id": "2764b44e",
   "metadata": {},
   "outputs": [],
   "source": []
  },
  {
   "cell_type": "code",
   "execution_count": null,
   "id": "58244dd2",
   "metadata": {},
   "outputs": [],
   "source": []
  },
  {
   "cell_type": "code",
   "execution_count": null,
   "id": "2dad133c",
   "metadata": {},
   "outputs": [],
   "source": []
  },
  {
   "cell_type": "code",
   "execution_count": null,
   "id": "59a39120",
   "metadata": {},
   "outputs": [],
   "source": []
  },
  {
   "cell_type": "code",
   "execution_count": null,
   "id": "914fa044",
   "metadata": {},
   "outputs": [],
   "source": []
  },
  {
   "cell_type": "code",
   "execution_count": null,
   "id": "e2e390b7",
   "metadata": {},
   "outputs": [],
   "source": []
  },
  {
   "cell_type": "code",
   "execution_count": null,
   "id": "ad5d5a67",
   "metadata": {},
   "outputs": [],
   "source": []
  },
  {
   "cell_type": "code",
   "execution_count": null,
   "id": "364a5615",
   "metadata": {},
   "outputs": [],
   "source": []
  },
  {
   "cell_type": "code",
   "execution_count": null,
   "id": "45b0664f",
   "metadata": {},
   "outputs": [],
   "source": []
  },
  {
   "cell_type": "code",
   "execution_count": null,
   "id": "23debf64",
   "metadata": {},
   "outputs": [],
   "source": []
  },
  {
   "cell_type": "code",
   "execution_count": null,
   "id": "37428d26",
   "metadata": {},
   "outputs": [],
   "source": []
  },
  {
   "cell_type": "code",
   "execution_count": null,
   "id": "a35b6593",
   "metadata": {},
   "outputs": [],
   "source": []
  },
  {
   "cell_type": "code",
   "execution_count": null,
   "id": "c13ce8b7",
   "metadata": {},
   "outputs": [],
   "source": []
  },
  {
   "cell_type": "code",
   "execution_count": null,
   "id": "278d1398",
   "metadata": {},
   "outputs": [],
   "source": []
  },
  {
   "cell_type": "code",
   "execution_count": null,
   "id": "a04a57f3",
   "metadata": {},
   "outputs": [],
   "source": []
  },
  {
   "cell_type": "code",
   "execution_count": null,
   "id": "b7699068",
   "metadata": {},
   "outputs": [],
   "source": []
  },
  {
   "cell_type": "code",
   "execution_count": null,
   "id": "1c00f5e1",
   "metadata": {},
   "outputs": [],
   "source": []
  },
  {
   "cell_type": "code",
   "execution_count": null,
   "id": "f1070baf",
   "metadata": {},
   "outputs": [],
   "source": []
  },
  {
   "cell_type": "code",
   "execution_count": 33,
   "id": "55cbb5d1",
   "metadata": {},
   "outputs": [],
   "source": [
    "### Reported,Dept.Action,Declar3ed_false,Alleged,Departmental_Enquiries,Magisterial_Enquiries,Charge_sheeted,Judicial_enquiries,Personnel_Acquitted,Personnel_Convicted,sent_up_for_Trial,Trial_Completed,Cases_Withdrawn,personnel_Cases_Trial_Completed ,Personnel_Cases_Withdrawn ,Disciplinary_Action_Initiated ,Removal_from_Service,Major_Punishment_awarded,Minor_Punishment_awarded\n"
   ]
  },
  {
   "cell_type": "code",
   "execution_count": null,
   "id": "23cd4ba6",
   "metadata": {},
   "outputs": [],
   "source": []
  }
 ],
 "metadata": {
  "kernelspec": {
   "display_name": "Python 3 (ipykernel)",
   "language": "python",
   "name": "python3"
  },
  "language_info": {
   "codemirror_mode": {
    "name": "ipython",
    "version": 3
   },
   "file_extension": ".py",
   "mimetype": "text/x-python",
   "name": "python",
   "nbconvert_exporter": "python",
   "pygments_lexer": "ipython3",
   "version": "3.10.4"
  }
 },
 "nbformat": 4,
 "nbformat_minor": 5
}
